{
 "cells": [
  {
   "cell_type": "markdown",
   "id": "31f553c6",
   "metadata": {},
   "source": [
    "link_page = \"https://oto.com.vn/mua-ban-xe\""
   ]
  },
  {
   "cell_type": "code",
   "execution_count": 1,
   "id": "c8108dd1",
   "metadata": {},
   "outputs": [],
   "source": [
    "import requests\n",
    "from bs4 import BeautifulSoup\n",
    "import pandas as pd\n",
    "import warnings\n",
    "warnings.filterwarnings(\"ignore\")"
   ]
  },
  {
   "cell_type": "code",
   "execution_count": 2,
   "id": "e31b0a6b",
   "metadata": {},
   "outputs": [],
   "source": [
    "all_cars = []\n",
    "\n",
    "car_info = {}\n",
    "def get_url(url) :\n",
    "\n",
    "    resp = requests.get(url)\n",
    "\n",
    "    soup = BeautifulSoup(resp.content,\"html.parser\")\n",
    "\n",
    "    return soup"
   ]
  },
  {
   "cell_type": "code",
   "execution_count": 3,
   "id": "0ffb1320",
   "metadata": {},
   "outputs": [
    {
     "name": "stdout",
     "output_type": "stream",
     "text": [
      "286\n"
     ]
    }
   ],
   "source": [
    "link_set = []\n",
    "\n",
    "for i in range (1,20,1) :\n",
    "    url = f\"https://oto.com.vn/mua-ban-xe/p{i}\"\n",
    "    soup = get_url(url)\n",
    "\n",
    "    links_tag = soup.find_all(\"h3\", class_=\"title\")\n",
    "\n",
    "    for i in links_tag:\n",
    "        try:\n",
    "            link = \"https://oto.com.vn\" + i.find('a')['href']\n",
    "            if link not in link_set:\n",
    "                link_set.append(link)\n",
    "        except Exception as e:\n",
    "            print(f\"***ERROR: {e}\")\n",
    "\n",
    "print(len(link_set))"
   ]
  },
  {
   "cell_type": "code",
   "execution_count": 4,
   "id": "a82ce0d8",
   "metadata": {},
   "outputs": [
    {
     "name": "stdout",
     "output_type": "stream",
     "text": [
      "***ERROR https://oto.com.vnhttps://grandauto.oto.com.vn: HTTPSConnectionPool(host='oto.com.vnhttps', port=443): Max retries exceeded with url: //grandauto.oto.com.vn (Caused by ConnectTimeoutError(<urllib3.connection.HTTPSConnection object at 0x000002F2EA992250>, 'Connection to oto.com.vnhttps timed out. (connect timeout=None)'))\n",
      "***ERROR https://oto.com.vnhttps://lexusthanglongusedcar.oto.com.vn: HTTPSConnectionPool(host='oto.com.vnhttps', port=443): Max retries exceeded with url: //lexusthanglongusedcar.oto.com.vn (Caused by ConnectTimeoutError(<urllib3.connection.HTTPSConnection object at 0x000002F2EA94E250>, 'Connection to oto.com.vnhttps timed out. (connect timeout=None)'))\n",
      "***ERROR https://oto.com.vnhttps://salonotoduongbinhphuoc.oto.com.vn: HTTPSConnectionPool(host='oto.com.vnhttps', port=443): Max retries exceeded with url: //salonotoduongbinhphuoc.oto.com.vn (Caused by ConnectTimeoutError(<urllib3.connection.HTTPSConnection object at 0x000002F2EA94E090>, 'Connection to oto.com.vnhttps timed out. (connect timeout=None)'))\n",
      "***ERROR https://oto.com.vnhttps://thuanhaauto.oto.com.vn: HTTPSConnectionPool(host='oto.com.vnhttps', port=443): Max retries exceeded with url: //thuanhaauto.oto.com.vn (Caused by ConnectTimeoutError(<urllib3.connection.HTTPSConnection object at 0x000002F2EA94D290>, 'Connection to oto.com.vnhttps timed out. (connect timeout=None)'))\n"
     ]
    }
   ],
   "source": [
    "for link in link_set:\n",
    "    try:\n",
    "        hjhj = get_url(link)\n",
    "        car_info = {}\n",
    "\n",
    "        name_tag = hjhj.find(\"div\", class_=\"group-title-detail\")\n",
    "        name = name_tag.find_next(\"h1\", class_=\"title-detail\").get_text(strip=True) if name_tag else None\n",
    "        car_info[\"Name\"] = name\n",
    "\n",
    "        price_tag = hjhj.find(\"span\", class_=\"price\")\n",
    "        price = price_tag.get_text(strip=True) if price_tag else None\n",
    "        car_info[\"Price\"] = price\n",
    "\n",
    "\n",
    "        labels = hjhj.find_all(\"label\", class_=\"label\")\n",
    "        for label in labels:\n",
    "            key = label.get_text(strip=True)\n",
    "            value_node = label.find_next_sibling(text=True)\n",
    "\n",
    "            if not value_node or value_node.strip() == \"\":\n",
    "                div = label.find_next(\"div\")\n",
    "                value = div.get_text(strip=True) if div else \"N/A\"\n",
    "            else:\n",
    "                value = value_node.strip()\n",
    "\n",
    "            car_info[key] = value\n",
    "\n",
    "        all_cars.append(car_info)\n",
    "\n",
    "    except Exception as e:\n",
    "        print(f\"***ERROR {link}: {e}\")\n"
   ]
  },
  {
   "cell_type": "code",
   "execution_count": 5,
   "id": "a4002bb5",
   "metadata": {},
   "outputs": [
    {
     "name": "stdout",
     "output_type": "stream",
     "text": [
      "Done! cars_data.csv\n"
     ]
    }
   ],
   "source": [
    "df = pd.DataFrame(all_cars)\n",
    "df.to_csv(\"cars_data.csv\", index=False, encoding='utf-8-sig') \n",
    "\n",
    "print(\"Done! cars_data.csv\")"
   ]
  },
  {
   "cell_type": "code",
   "execution_count": null,
   "id": "3e3b3204",
   "metadata": {},
   "outputs": [],
   "source": []
  }
 ],
 "metadata": {
  "kernelspec": {
   "display_name": "base",
   "language": "python",
   "name": "python3"
  },
  "language_info": {
   "codemirror_mode": {
    "name": "ipython",
    "version": 3
   },
   "file_extension": ".py",
   "mimetype": "text/x-python",
   "name": "python",
   "nbconvert_exporter": "python",
   "pygments_lexer": "ipython3",
   "version": "3.11.5"
  }
 },
 "nbformat": 4,
 "nbformat_minor": 5
}
