{
 "cells": [
  {
   "cell_type": "code",
   "execution_count": 15,
   "id": "a0b57ee0",
   "metadata": {},
   "outputs": [],
   "source": [
    "import pandas as pd\n",
    "import numpy as np\n",
    "import warnings\n",
    "warnings.filterwarnings(\"ignore\")"
   ]
  },
  {
   "cell_type": "code",
   "execution_count": 16,
   "id": "6b8286f1",
   "metadata": {},
   "outputs": [
    {
     "data": {
      "text/html": [
       "<div>\n",
       "<style scoped>\n",
       "    .dataframe tbody tr th:only-of-type {\n",
       "        vertical-align: middle;\n",
       "    }\n",
       "\n",
       "    .dataframe tbody tr th {\n",
       "        vertical-align: top;\n",
       "    }\n",
       "\n",
       "    .dataframe thead th {\n",
       "        text-align: right;\n",
       "    }\n",
       "</style>\n",
       "<table border=\"1\" class=\"dataframe\">\n",
       "  <thead>\n",
       "    <tr style=\"text-align: right;\">\n",
       "      <th></th>\n",
       "      <th>Name</th>\n",
       "      <th>Price</th>\n",
       "      <th>Năm SX</th>\n",
       "      <th>Kiểu dáng</th>\n",
       "      <th>Tình trạng</th>\n",
       "      <th>Xuất xứ</th>\n",
       "      <th>Km đã đi</th>\n",
       "      <th>Tỉnh thành</th>\n",
       "      <th>Quận huyện</th>\n",
       "      <th>Hộp số</th>\n",
       "      <th>Nhiên liệu</th>\n",
       "      <th>Số tiền vay</th>\n",
       "      <th>Thời gian vay</th>\n",
       "      <th>Lãi xuất (%)</th>\n",
       "      <th>Loại hình</th>\n",
       "      <th>Giá trị xe muốn mua</th>\n",
       "    </tr>\n",
       "  </thead>\n",
       "  <tbody>\n",
       "    <tr>\n",
       "      <th>0</th>\n",
       "      <td>Mercedes-Benz AMG G63 4.0 v8 2021</td>\n",
       "      <td>9 tỉ 200 triệu</td>\n",
       "      <td>2021</td>\n",
       "      <td>SUV</td>\n",
       "      <td>Xe cũ</td>\n",
       "      <td>Nhập khẩu</td>\n",
       "      <td>30.000 km</td>\n",
       "      <td>Hà Nội</td>\n",
       "      <td>Tây Hồ</td>\n",
       "      <td>Số tự động</td>\n",
       "      <td>Máy xăng</td>\n",
       "      <td>VNĐ</td>\n",
       "      <td>ThángNăm</td>\n",
       "      <td>ThángNăm</td>\n",
       "      <td>Trả góp đều hàng thángTrả góp đều, lãi tính tr...</td>\n",
       "      <td>VNĐ</td>\n",
       "    </tr>\n",
       "    <tr>\n",
       "      <th>1</th>\n",
       "      <td>Mercedes-Benz E250 2023</td>\n",
       "      <td>870 triệu</td>\n",
       "      <td>2023</td>\n",
       "      <td>Sedan</td>\n",
       "      <td>Xe cũ</td>\n",
       "      <td>Nhập khẩu</td>\n",
       "      <td>45.000 km</td>\n",
       "      <td>Hà Nội</td>\n",
       "      <td>Nam Từ Liêm</td>\n",
       "      <td>Số tự động</td>\n",
       "      <td>Máy xăng</td>\n",
       "      <td>VNĐ</td>\n",
       "      <td>ThángNăm</td>\n",
       "      <td>ThángNăm</td>\n",
       "      <td>Trả góp đều hàng thángTrả góp đều, lãi tính tr...</td>\n",
       "      <td>VNĐ</td>\n",
       "    </tr>\n",
       "    <tr>\n",
       "      <th>2</th>\n",
       "      <td>Toyota Camry 2.4G 2012</td>\n",
       "      <td>360 triệu</td>\n",
       "      <td>2012</td>\n",
       "      <td>Sedan</td>\n",
       "      <td>Xe cũ</td>\n",
       "      <td>Trong nước</td>\n",
       "      <td>120.000 km</td>\n",
       "      <td>Hà Nội</td>\n",
       "      <td>NaN</td>\n",
       "      <td>Số tự động</td>\n",
       "      <td>Máy xăng</td>\n",
       "      <td>VNĐ</td>\n",
       "      <td>ThángNăm</td>\n",
       "      <td>ThángNăm</td>\n",
       "      <td>Trả góp đều hàng thángTrả góp đều, lãi tính tr...</td>\n",
       "      <td>VNĐ</td>\n",
       "    </tr>\n",
       "    <tr>\n",
       "      <th>3</th>\n",
       "      <td>Ford Territory Titanium X 2023</td>\n",
       "      <td>770 triệu</td>\n",
       "      <td>2023</td>\n",
       "      <td>SUV</td>\n",
       "      <td>Xe cũ</td>\n",
       "      <td>Nhập khẩu</td>\n",
       "      <td>27.000 km</td>\n",
       "      <td>Tp.HCM</td>\n",
       "      <td>Quận 10</td>\n",
       "      <td>Số tự động</td>\n",
       "      <td>Máy xăng</td>\n",
       "      <td>VNĐ</td>\n",
       "      <td>ThángNăm</td>\n",
       "      <td>ThángNăm</td>\n",
       "      <td>Trả góp đều hàng thángTrả góp đều, lãi tính tr...</td>\n",
       "      <td>VNĐ</td>\n",
       "    </tr>\n",
       "    <tr>\n",
       "      <th>4</th>\n",
       "      <td>Mazda CX-5 2022</td>\n",
       "      <td>740 triệu</td>\n",
       "      <td>2022</td>\n",
       "      <td>SUV</td>\n",
       "      <td>Xe cũ</td>\n",
       "      <td>Trong nước</td>\n",
       "      <td>30.000 km</td>\n",
       "      <td>Hà Nội</td>\n",
       "      <td>Nam Từ Liêm</td>\n",
       "      <td>Số tự động</td>\n",
       "      <td>Máy xăng</td>\n",
       "      <td>VNĐ</td>\n",
       "      <td>ThángNăm</td>\n",
       "      <td>ThángNăm</td>\n",
       "      <td>Trả góp đều hàng thángTrả góp đều, lãi tính tr...</td>\n",
       "      <td>VNĐ</td>\n",
       "    </tr>\n",
       "  </tbody>\n",
       "</table>\n",
       "</div>"
      ],
      "text/plain": [
       "                                Name           Price  Năm SX Kiểu dáng  \\\n",
       "0  Mercedes-Benz AMG G63 4.0 v8 2021  9 tỉ 200 triệu    2021       SUV   \n",
       "1            Mercedes-Benz E250 2023       870 triệu    2023     Sedan   \n",
       "2             Toyota Camry 2.4G 2012       360 triệu    2012     Sedan   \n",
       "3     Ford Territory Titanium X 2023       770 triệu    2023       SUV   \n",
       "4                    Mazda CX-5 2022       740 triệu    2022       SUV   \n",
       "\n",
       "  Tình trạng     Xuất xứ    Km đã đi Tỉnh thành   Quận huyện      Hộp số  \\\n",
       "0      Xe cũ   Nhập khẩu   30.000 km     Hà Nội       Tây Hồ  Số tự động   \n",
       "1      Xe cũ   Nhập khẩu   45.000 km     Hà Nội  Nam Từ Liêm  Số tự động   \n",
       "2      Xe cũ  Trong nước  120.000 km     Hà Nội          NaN  Số tự động   \n",
       "3      Xe cũ   Nhập khẩu   27.000 km     Tp.HCM      Quận 10  Số tự động   \n",
       "4      Xe cũ  Trong nước   30.000 km     Hà Nội  Nam Từ Liêm  Số tự động   \n",
       "\n",
       "  Nhiên liệu Số tiền vay Thời gian vay Lãi xuất (%)  \\\n",
       "0   Máy xăng         VNĐ      ThángNăm     ThángNăm   \n",
       "1   Máy xăng         VNĐ      ThángNăm     ThángNăm   \n",
       "2   Máy xăng         VNĐ      ThángNăm     ThángNăm   \n",
       "3   Máy xăng         VNĐ      ThángNăm     ThángNăm   \n",
       "4   Máy xăng         VNĐ      ThángNăm     ThángNăm   \n",
       "\n",
       "                                           Loại hình Giá trị xe muốn mua  \n",
       "0  Trả góp đều hàng thángTrả góp đều, lãi tính tr...                 VNĐ  \n",
       "1  Trả góp đều hàng thángTrả góp đều, lãi tính tr...                 VNĐ  \n",
       "2  Trả góp đều hàng thángTrả góp đều, lãi tính tr...                 VNĐ  \n",
       "3  Trả góp đều hàng thángTrả góp đều, lãi tính tr...                 VNĐ  \n",
       "4  Trả góp đều hàng thángTrả góp đều, lãi tính tr...                 VNĐ  "
      ]
     },
     "execution_count": 16,
     "metadata": {},
     "output_type": "execute_result"
    }
   ],
   "source": [
    "df = pd.read_csv(\"data/cars_data.csv\")\n",
    "df.head()"
   ]
  },
  {
   "cell_type": "code",
   "execution_count": 17,
   "id": "7b5ab57b",
   "metadata": {},
   "outputs": [
    {
     "name": "stdout",
     "output_type": "stream",
     "text": [
      "<class 'pandas.core.frame.DataFrame'>\n",
      "RangeIndex: 727 entries, 0 to 726\n",
      "Data columns (total 16 columns):\n",
      " #   Column               Non-Null Count  Dtype \n",
      "---  ------               --------------  ----- \n",
      " 0   Name                 727 non-null    object\n",
      " 1   Price                727 non-null    object\n",
      " 2   Năm SX               727 non-null    int64 \n",
      " 3   Kiểu dáng            665 non-null    object\n",
      " 4   Tình trạng           727 non-null    object\n",
      " 5   Xuất xứ              727 non-null    object\n",
      " 6   Km đã đi             725 non-null    object\n",
      " 7   Tỉnh thành           727 non-null    object\n",
      " 8   Quận huyện           715 non-null    object\n",
      " 9   Hộp số               727 non-null    object\n",
      " 10  Nhiên liệu           727 non-null    object\n",
      " 11  Số tiền vay          727 non-null    object\n",
      " 12  Thời gian vay        727 non-null    object\n",
      " 13  Lãi xuất (%)         727 non-null    object\n",
      " 14  Loại hình            727 non-null    object\n",
      " 15  Giá trị xe muốn mua  727 non-null    object\n",
      "dtypes: int64(1), object(15)\n",
      "memory usage: 91.0+ KB\n"
     ]
    }
   ],
   "source": [
    "df.info()"
   ]
  },
  {
   "cell_type": "code",
   "execution_count": 18,
   "id": "cb9474c0",
   "metadata": {},
   "outputs": [
    {
     "name": "stdout",
     "output_type": "stream",
     "text": [
      "Name : 153\n",
      "Price : 343\n",
      "Năm SX : 705\n",
      "Kiểu dáng : 714\n",
      "Tình trạng : 726\n",
      "Xuất xứ : 725\n",
      "Km đã đi : 525\n",
      "Tỉnh thành : 706\n",
      "Quận huyện : 674\n",
      "Hộp số : 725\n",
      "Nhiên liệu : 723\n",
      "Số tiền vay : 726\n",
      "Thời gian vay : 726\n",
      "Lãi xuất (%) : 726\n",
      "Loại hình : 726\n",
      "Giá trị xe muốn mua : 726\n"
     ]
    }
   ],
   "source": [
    "for i in df.columns :\n",
    "    dup = df[i].duplicated().sum()\n",
    "    print(f\"{i} : {dup}\")"
   ]
  },
  {
   "cell_type": "code",
   "execution_count": 19,
   "id": "e23750cc",
   "metadata": {},
   "outputs": [
    {
     "name": "stdout",
     "output_type": "stream",
     "text": [
      "Name : 574\n",
      "Price : 384\n",
      "Năm SX : 22\n",
      "Kiểu dáng : 12\n",
      "Tình trạng : 1\n",
      "Xuất xứ : 2\n",
      "Km đã đi : 201\n",
      "Tỉnh thành : 21\n",
      "Quận huyện : 52\n",
      "Hộp số : 2\n",
      "Nhiên liệu : 4\n",
      "Số tiền vay : 1\n",
      "Thời gian vay : 1\n",
      "Lãi xuất (%) : 1\n",
      "Loại hình : 1\n",
      "Giá trị xe muốn mua : 1\n"
     ]
    }
   ],
   "source": [
    "for i in df.columns :\n",
    "    print(f\"{i} : {df[i].nunique()}\")"
   ]
  },
  {
   "cell_type": "code",
   "execution_count": 20,
   "id": "23a8c4bb",
   "metadata": {},
   "outputs": [],
   "source": [
    "df = df.drop([\"Giá trị xe muốn mua\",\"Loại hình\",\"Lãi xuất (%)\",\"Thời gian vay\",\"Số tiền vay\",\"Tình trạng\"],axis=1)"
   ]
  },
  {
   "cell_type": "code",
   "execution_count": 21,
   "id": "64dfac6f",
   "metadata": {},
   "outputs": [
    {
     "name": "stdout",
     "output_type": "stream",
     "text": [
      "<class 'pandas.core.frame.DataFrame'>\n",
      "RangeIndex: 727 entries, 0 to 726\n",
      "Data columns (total 10 columns):\n",
      " #   Column      Non-Null Count  Dtype \n",
      "---  ------      --------------  ----- \n",
      " 0   Name        727 non-null    object\n",
      " 1   Price       727 non-null    object\n",
      " 2   Năm SX      727 non-null    int64 \n",
      " 3   Kiểu dáng   665 non-null    object\n",
      " 4   Xuất xứ     727 non-null    object\n",
      " 5   Km đã đi    725 non-null    object\n",
      " 6   Tỉnh thành  727 non-null    object\n",
      " 7   Quận huyện  715 non-null    object\n",
      " 8   Hộp số      727 non-null    object\n",
      " 9   Nhiên liệu  727 non-null    object\n",
      "dtypes: int64(1), object(9)\n",
      "memory usage: 56.9+ KB\n"
     ]
    }
   ],
   "source": [
    "df.info()"
   ]
  },
  {
   "cell_type": "code",
   "execution_count": 22,
   "id": "d29cfee1",
   "metadata": {},
   "outputs": [],
   "source": [
    "df.rename(columns={\n",
    "    'Name': 'Name',\n",
    "    'Price': 'Price',\n",
    "    'Năm SX': 'Year',\n",
    "    'Kiểu dáng': 'Body_Type',\n",
    "    'Xuất xứ': 'Origin',\n",
    "    'Km đã đi': 'Mileage',\n",
    "    'Tỉnh thành': 'Province',\n",
    "    'Quận huyện': 'District',\n",
    "    'Hộp số': 'Transmission',\n",
    "    'Nhiên liệu': 'Fuel_Type'\n",
    "}, inplace=True)\n"
   ]
  },
  {
   "cell_type": "code",
   "execution_count": 23,
   "id": "b5b492e6",
   "metadata": {},
   "outputs": [
    {
     "name": "stdout",
     "output_type": "stream",
     "text": [
      "<class 'pandas.core.frame.DataFrame'>\n",
      "RangeIndex: 727 entries, 0 to 726\n",
      "Data columns (total 10 columns):\n",
      " #   Column        Non-Null Count  Dtype \n",
      "---  ------        --------------  ----- \n",
      " 0   Name          727 non-null    object\n",
      " 1   Price         727 non-null    object\n",
      " 2   Year          727 non-null    int64 \n",
      " 3   Body_Type     665 non-null    object\n",
      " 4   Origin        727 non-null    object\n",
      " 5   Mileage       725 non-null    object\n",
      " 6   Province      727 non-null    object\n",
      " 7   District      715 non-null    object\n",
      " 8   Transmission  727 non-null    object\n",
      " 9   Fuel_Type     727 non-null    object\n",
      "dtypes: int64(1), object(9)\n",
      "memory usage: 56.9+ KB\n"
     ]
    }
   ],
   "source": [
    "df.info()"
   ]
  },
  {
   "cell_type": "markdown",
   "id": "a801302f",
   "metadata": {},
   "source": [
    "1. Name"
   ]
  },
  {
   "cell_type": "code",
   "execution_count": 26,
   "id": "42b6a076",
   "metadata": {},
   "outputs": [
    {
     "data": {
      "text/plain": [
       "0    Mercedes-Benz AMG G63 4.0 v8 2021\n",
       "1              Mercedes-Benz E250 2023\n",
       "2               Toyota Camry 2.4G 2012\n",
       "3       Ford Territory Titanium X 2023\n",
       "4                      Mazda CX-5 2022\n",
       "Name: Name, dtype: object"
      ]
     },
     "execution_count": 26,
     "metadata": {},
     "output_type": "execute_result"
    }
   ],
   "source": [
    "df.Name.head()"
   ]
  },
  {
   "cell_type": "code",
   "execution_count": 30,
   "id": "baac93fb",
   "metadata": {},
   "outputs": [],
   "source": [
    "def extract_year(r):\n",
    "    parts = r[\"Name\"].strip().rsplit(' ', 1)\n",
    "    if len(parts) == 2 and parts[1].isdigit():\n",
    "        return parts[1]\n",
    "    else:\n",
    "        return \"N/A\"\n",
    "\n",
    "df[\"Year\"] = df.apply(extract_year, axis=1)"
   ]
  },
  {
   "cell_type": "code",
   "execution_count": 32,
   "id": "14107fe0",
   "metadata": {},
   "outputs": [],
   "source": [
    "df[\"Name\"] = df[\"Name\"].str.strip().str.rsplit(' ', n=1).str[0]"
   ]
  },
  {
   "cell_type": "code",
   "execution_count": 34,
   "id": "cec546d4",
   "metadata": {},
   "outputs": [],
   "source": [
    "df[\"Brand\"] = df[\"Name\"].str.strip().str.split().str[0]"
   ]
  },
  {
   "cell_type": "code",
   "execution_count": 35,
   "id": "1ec01bc6",
   "metadata": {},
   "outputs": [
    {
     "data": {
      "text/html": [
       "<div>\n",
       "<style scoped>\n",
       "    .dataframe tbody tr th:only-of-type {\n",
       "        vertical-align: middle;\n",
       "    }\n",
       "\n",
       "    .dataframe tbody tr th {\n",
       "        vertical-align: top;\n",
       "    }\n",
       "\n",
       "    .dataframe thead th {\n",
       "        text-align: right;\n",
       "    }\n",
       "</style>\n",
       "<table border=\"1\" class=\"dataframe\">\n",
       "  <thead>\n",
       "    <tr style=\"text-align: right;\">\n",
       "      <th></th>\n",
       "      <th>Name</th>\n",
       "      <th>Price</th>\n",
       "      <th>Year</th>\n",
       "      <th>Body_Type</th>\n",
       "      <th>Origin</th>\n",
       "      <th>Mileage</th>\n",
       "      <th>Province</th>\n",
       "      <th>District</th>\n",
       "      <th>Transmission</th>\n",
       "      <th>Fuel_Type</th>\n",
       "      <th>Brand</th>\n",
       "    </tr>\n",
       "  </thead>\n",
       "  <tbody>\n",
       "    <tr>\n",
       "      <th>0</th>\n",
       "      <td>Mercedes-Benz AMG G63 4.0 v8</td>\n",
       "      <td>9 tỉ 200 triệu</td>\n",
       "      <td>2021</td>\n",
       "      <td>SUV</td>\n",
       "      <td>Nhập khẩu</td>\n",
       "      <td>30.000 km</td>\n",
       "      <td>Hà Nội</td>\n",
       "      <td>Tây Hồ</td>\n",
       "      <td>Số tự động</td>\n",
       "      <td>Máy xăng</td>\n",
       "      <td>Mercedes-Benz</td>\n",
       "    </tr>\n",
       "    <tr>\n",
       "      <th>1</th>\n",
       "      <td>Mercedes-Benz E250</td>\n",
       "      <td>870 triệu</td>\n",
       "      <td>2023</td>\n",
       "      <td>Sedan</td>\n",
       "      <td>Nhập khẩu</td>\n",
       "      <td>45.000 km</td>\n",
       "      <td>Hà Nội</td>\n",
       "      <td>Nam Từ Liêm</td>\n",
       "      <td>Số tự động</td>\n",
       "      <td>Máy xăng</td>\n",
       "      <td>Mercedes-Benz</td>\n",
       "    </tr>\n",
       "    <tr>\n",
       "      <th>2</th>\n",
       "      <td>Toyota Camry 2.4G</td>\n",
       "      <td>360 triệu</td>\n",
       "      <td>2012</td>\n",
       "      <td>Sedan</td>\n",
       "      <td>Trong nước</td>\n",
       "      <td>120.000 km</td>\n",
       "      <td>Hà Nội</td>\n",
       "      <td>NaN</td>\n",
       "      <td>Số tự động</td>\n",
       "      <td>Máy xăng</td>\n",
       "      <td>Toyota</td>\n",
       "    </tr>\n",
       "    <tr>\n",
       "      <th>3</th>\n",
       "      <td>Ford Territory Titanium X</td>\n",
       "      <td>770 triệu</td>\n",
       "      <td>2023</td>\n",
       "      <td>SUV</td>\n",
       "      <td>Nhập khẩu</td>\n",
       "      <td>27.000 km</td>\n",
       "      <td>Tp.HCM</td>\n",
       "      <td>Quận 10</td>\n",
       "      <td>Số tự động</td>\n",
       "      <td>Máy xăng</td>\n",
       "      <td>Ford</td>\n",
       "    </tr>\n",
       "    <tr>\n",
       "      <th>4</th>\n",
       "      <td>Mazda CX-5</td>\n",
       "      <td>740 triệu</td>\n",
       "      <td>2022</td>\n",
       "      <td>SUV</td>\n",
       "      <td>Trong nước</td>\n",
       "      <td>30.000 km</td>\n",
       "      <td>Hà Nội</td>\n",
       "      <td>Nam Từ Liêm</td>\n",
       "      <td>Số tự động</td>\n",
       "      <td>Máy xăng</td>\n",
       "      <td>Mazda</td>\n",
       "    </tr>\n",
       "  </tbody>\n",
       "</table>\n",
       "</div>"
      ],
      "text/plain": [
       "                           Name           Price  Year Body_Type      Origin  \\\n",
       "0  Mercedes-Benz AMG G63 4.0 v8  9 tỉ 200 triệu  2021       SUV   Nhập khẩu   \n",
       "1            Mercedes-Benz E250       870 triệu  2023     Sedan   Nhập khẩu   \n",
       "2             Toyota Camry 2.4G       360 triệu  2012     Sedan  Trong nước   \n",
       "3     Ford Territory Titanium X       770 triệu  2023       SUV   Nhập khẩu   \n",
       "4                    Mazda CX-5       740 triệu  2022       SUV  Trong nước   \n",
       "\n",
       "      Mileage Province     District Transmission Fuel_Type          Brand  \n",
       "0   30.000 km   Hà Nội       Tây Hồ   Số tự động  Máy xăng  Mercedes-Benz  \n",
       "1   45.000 km   Hà Nội  Nam Từ Liêm   Số tự động  Máy xăng  Mercedes-Benz  \n",
       "2  120.000 km   Hà Nội          NaN   Số tự động  Máy xăng         Toyota  \n",
       "3   27.000 km   Tp.HCM      Quận 10   Số tự động  Máy xăng           Ford  \n",
       "4   30.000 km   Hà Nội  Nam Từ Liêm   Số tự động  Máy xăng          Mazda  "
      ]
     },
     "execution_count": 35,
     "metadata": {},
     "output_type": "execute_result"
    }
   ],
   "source": [
    "df.head()"
   ]
  },
  {
   "cell_type": "code",
   "execution_count": null,
   "id": "1c31c63a",
   "metadata": {},
   "outputs": [],
   "source": []
  }
 ],
 "metadata": {
  "kernelspec": {
   "display_name": "base",
   "language": "python",
   "name": "python3"
  },
  "language_info": {
   "codemirror_mode": {
    "name": "ipython",
    "version": 3
   },
   "file_extension": ".py",
   "mimetype": "text/x-python",
   "name": "python",
   "nbconvert_exporter": "python",
   "pygments_lexer": "ipython3",
   "version": "3.11.5"
  }
 },
 "nbformat": 4,
 "nbformat_minor": 5
}
