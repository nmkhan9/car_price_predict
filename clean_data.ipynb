{
 "cells": [
  {
   "cell_type": "code",
   "execution_count": 1,
   "id": "a0b57ee0",
   "metadata": {},
   "outputs": [],
   "source": [
    "import pandas as pd\n",
    "import numpy as np\n",
    "import warnings\n",
    "warnings.filterwarnings(\"ignore\")"
   ]
  },
  {
   "cell_type": "code",
   "execution_count": 11,
   "id": "6b8286f1",
   "metadata": {},
   "outputs": [
    {
     "data": {
      "text/html": [
       "<div>\n",
       "<style scoped>\n",
       "    .dataframe tbody tr th:only-of-type {\n",
       "        vertical-align: middle;\n",
       "    }\n",
       "\n",
       "    .dataframe tbody tr th {\n",
       "        vertical-align: top;\n",
       "    }\n",
       "\n",
       "    .dataframe thead th {\n",
       "        text-align: right;\n",
       "    }\n",
       "</style>\n",
       "<table border=\"1\" class=\"dataframe\">\n",
       "  <thead>\n",
       "    <tr style=\"text-align: right;\">\n",
       "      <th></th>\n",
       "      <th>Name</th>\n",
       "      <th>Price</th>\n",
       "      <th>Năm SX</th>\n",
       "      <th>Kiểu dáng</th>\n",
       "      <th>Tình trạng</th>\n",
       "      <th>Xuất xứ</th>\n",
       "      <th>Km đã đi</th>\n",
       "      <th>Tỉnh thành</th>\n",
       "      <th>Quận huyện</th>\n",
       "      <th>Hộp số</th>\n",
       "      <th>...</th>\n",
       "      <th>Hỗ trợ trả góp</th>\n",
       "      <th>Bảo hành máy móc động cơ 3-6 tháng</th>\n",
       "      <th>Một chủ từ đầu</th>\n",
       "      <th>Full lịch sử hãng</th>\n",
       "      <th>Thủ tục trọn gói (Rút hồ sơ,sang tên,...)</th>\n",
       "      <th>Model xe mới</th>\n",
       "      <th>Xe có nhiều đồ chơi</th>\n",
       "      <th>Có xuất hóa đơn</th>\n",
       "      <th>Còn bảo hiểm thân vỏ</th>\n",
       "      <th>Hỗ trợ/cam kết từ người bán</th>\n",
       "    </tr>\n",
       "  </thead>\n",
       "  <tbody>\n",
       "    <tr>\n",
       "      <th>0</th>\n",
       "      <td>Mercedes-Benz AMG G63 4.0 v8 2021</td>\n",
       "      <td>9 tỉ 200 triệu</td>\n",
       "      <td>2021</td>\n",
       "      <td>SUV</td>\n",
       "      <td>Xe cũ</td>\n",
       "      <td>Nhập khẩu</td>\n",
       "      <td>30.000 km</td>\n",
       "      <td>Hà Nội</td>\n",
       "      <td>Tây Hồ</td>\n",
       "      <td>Số tự động</td>\n",
       "      <td>...</td>\n",
       "      <td>NaN</td>\n",
       "      <td>NaN</td>\n",
       "      <td>NaN</td>\n",
       "      <td>NaN</td>\n",
       "      <td>NaN</td>\n",
       "      <td>NaN</td>\n",
       "      <td>NaN</td>\n",
       "      <td>NaN</td>\n",
       "      <td>NaN</td>\n",
       "      <td>NaN</td>\n",
       "    </tr>\n",
       "    <tr>\n",
       "      <th>1</th>\n",
       "      <td>Mercedes-Benz GLC 300 2020</td>\n",
       "      <td>1 tỉ 079 triệu</td>\n",
       "      <td>2020</td>\n",
       "      <td>SUV</td>\n",
       "      <td>Xe cũ</td>\n",
       "      <td>Nhập khẩu</td>\n",
       "      <td>49.890 km</td>\n",
       "      <td>Tp.HCM</td>\n",
       "      <td>Quận 7</td>\n",
       "      <td>Số tự động</td>\n",
       "      <td>...</td>\n",
       "      <td>NaN</td>\n",
       "      <td>NaN</td>\n",
       "      <td>NaN</td>\n",
       "      <td>NaN</td>\n",
       "      <td>NaN</td>\n",
       "      <td>NaN</td>\n",
       "      <td>NaN</td>\n",
       "      <td>NaN</td>\n",
       "      <td>NaN</td>\n",
       "      <td>NaN</td>\n",
       "    </tr>\n",
       "    <tr>\n",
       "      <th>2</th>\n",
       "      <td>Hyundai Stargazer 1.5 AT Cao cấp 2022</td>\n",
       "      <td>510 triệu</td>\n",
       "      <td>2022</td>\n",
       "      <td>MPV</td>\n",
       "      <td>Xe cũ</td>\n",
       "      <td>Trong nước</td>\n",
       "      <td>70.000 km</td>\n",
       "      <td>Vĩnh Phúc</td>\n",
       "      <td>Phúc Yên</td>\n",
       "      <td>Số tự động</td>\n",
       "      <td>...</td>\n",
       "      <td>NaN</td>\n",
       "      <td>NaN</td>\n",
       "      <td>NaN</td>\n",
       "      <td>NaN</td>\n",
       "      <td>NaN</td>\n",
       "      <td>NaN</td>\n",
       "      <td>NaN</td>\n",
       "      <td>NaN</td>\n",
       "      <td>NaN</td>\n",
       "      <td>NaN</td>\n",
       "    </tr>\n",
       "    <tr>\n",
       "      <th>3</th>\n",
       "      <td>BMW 430i Convertible 2023</td>\n",
       "      <td>2 tỉ 999 triệu</td>\n",
       "      <td>2023</td>\n",
       "      <td>Convertible</td>\n",
       "      <td>Xe cũ</td>\n",
       "      <td>Nhập khẩu</td>\n",
       "      <td>4.000 km</td>\n",
       "      <td>Tp.HCM</td>\n",
       "      <td>Quận 7</td>\n",
       "      <td>Số tự động</td>\n",
       "      <td>...</td>\n",
       "      <td>NaN</td>\n",
       "      <td>NaN</td>\n",
       "      <td>NaN</td>\n",
       "      <td>NaN</td>\n",
       "      <td>NaN</td>\n",
       "      <td>NaN</td>\n",
       "      <td>NaN</td>\n",
       "      <td>NaN</td>\n",
       "      <td>NaN</td>\n",
       "      <td>NaN</td>\n",
       "    </tr>\n",
       "    <tr>\n",
       "      <th>4</th>\n",
       "      <td>Mazda CX-5 2.0 Luxury 2024</td>\n",
       "      <td>770 triệu</td>\n",
       "      <td>2024</td>\n",
       "      <td>SUV</td>\n",
       "      <td>Xe cũ</td>\n",
       "      <td>Trong nước</td>\n",
       "      <td>20.000 km</td>\n",
       "      <td>Hà Nội</td>\n",
       "      <td>Cầu Giấy</td>\n",
       "      <td>Số tự động</td>\n",
       "      <td>...</td>\n",
       "      <td>NaN</td>\n",
       "      <td>NaN</td>\n",
       "      <td>NaN</td>\n",
       "      <td>NaN</td>\n",
       "      <td>NaN</td>\n",
       "      <td>NaN</td>\n",
       "      <td>NaN</td>\n",
       "      <td>NaN</td>\n",
       "      <td>NaN</td>\n",
       "      <td>NaN</td>\n",
       "    </tr>\n",
       "  </tbody>\n",
       "</table>\n",
       "<p>5 rows × 26 columns</p>\n",
       "</div>"
      ],
      "text/plain": [
       "                                    Name           Price  Năm SX    Kiểu dáng  \\\n",
       "0      Mercedes-Benz AMG G63 4.0 v8 2021  9 tỉ 200 triệu    2021          SUV   \n",
       "1             Mercedes-Benz GLC 300 2020  1 tỉ 079 triệu    2020          SUV   \n",
       "2  Hyundai Stargazer 1.5 AT Cao cấp 2022       510 triệu    2022          MPV   \n",
       "3              BMW 430i Convertible 2023  2 tỉ 999 triệu    2023  Convertible   \n",
       "4             Mazda CX-5 2.0 Luxury 2024       770 triệu    2024          SUV   \n",
       "\n",
       "  Tình trạng     Xuất xứ   Km đã đi Tỉnh thành Quận huyện      Hộp số  ...  \\\n",
       "0      Xe cũ   Nhập khẩu  30.000 km     Hà Nội     Tây Hồ  Số tự động  ...   \n",
       "1      Xe cũ   Nhập khẩu  49.890 km     Tp.HCM     Quận 7  Số tự động  ...   \n",
       "2      Xe cũ  Trong nước  70.000 km  Vĩnh Phúc   Phúc Yên  Số tự động  ...   \n",
       "3      Xe cũ   Nhập khẩu   4.000 km     Tp.HCM     Quận 7  Số tự động  ...   \n",
       "4      Xe cũ  Trong nước  20.000 km     Hà Nội   Cầu Giấy  Số tự động  ...   \n",
       "\n",
       "  Hỗ trợ trả góp Bảo hành máy móc động cơ 3-6 tháng Một chủ từ đầu  \\\n",
       "0            NaN                                NaN            NaN   \n",
       "1            NaN                                NaN            NaN   \n",
       "2            NaN                                NaN            NaN   \n",
       "3            NaN                                NaN            NaN   \n",
       "4            NaN                                NaN            NaN   \n",
       "\n",
       "  Full lịch sử hãng Thủ tục trọn gói (Rút hồ sơ,sang tên,...) Model xe mới  \\\n",
       "0               NaN                                       NaN          NaN   \n",
       "1               NaN                                       NaN          NaN   \n",
       "2               NaN                                       NaN          NaN   \n",
       "3               NaN                                       NaN          NaN   \n",
       "4               NaN                                       NaN          NaN   \n",
       "\n",
       "  Xe có nhiều đồ chơi Có xuất hóa đơn Còn bảo hiểm thân vỏ  \\\n",
       "0                 NaN             NaN                  NaN   \n",
       "1                 NaN             NaN                  NaN   \n",
       "2                 NaN             NaN                  NaN   \n",
       "3                 NaN             NaN                  NaN   \n",
       "4                 NaN             NaN                  NaN   \n",
       "\n",
       "  Hỗ trợ/cam kết từ người bán  \n",
       "0                               NaN  \n",
       "1                               NaN  \n",
       "2                               NaN  \n",
       "3                               NaN  \n",
       "4                               NaN  \n",
       "\n",
       "[5 rows x 26 columns]"
      ]
     },
     "execution_count": 11,
     "metadata": {},
     "output_type": "execute_result"
    }
   ],
   "source": [
    "df = pd.read_csv(\"data/cars_data.csv\")\n",
    "df.head()"
   ]
  },
  {
   "cell_type": "code",
   "execution_count": 12,
   "id": "7b5ab57b",
   "metadata": {},
   "outputs": [
    {
     "name": "stdout",
     "output_type": "stream",
     "text": [
      "<class 'pandas.core.frame.DataFrame'>\n",
      "RangeIndex: 1494 entries, 0 to 1493\n",
      "Data columns (total 26 columns):\n",
      " #   Column                                     Non-Null Count  Dtype \n",
      "---  ------                                     --------------  ----- \n",
      " 0   Name                                       1494 non-null   object\n",
      " 1   Price                                      1494 non-null   object\n",
      " 2   Năm SX                                     1494 non-null   int64 \n",
      " 3   Kiểu dáng                                  1385 non-null   object\n",
      " 4   Tình trạng                                 1494 non-null   object\n",
      " 5   Xuất xứ                                    1482 non-null   object\n",
      " 6   Km đã đi                                   1482 non-null   object\n",
      " 7   Tỉnh thành                                 1494 non-null   object\n",
      " 8   Quận huyện                                 1361 non-null   object\n",
      " 9   Hộp số                                     1494 non-null   object\n",
      " 10  Nhiên liệu                                 1494 non-null   object\n",
      " 11  Số tiền vay                                1494 non-null   object\n",
      " 12  Thời gian vay                              1494 non-null   object\n",
      " 13  Lãi xuất (%)                               1494 non-null   object\n",
      " 14  Loại hình                                  1494 non-null   object\n",
      " 15  Giá trị xe muốn mua                        1494 non-null   object\n",
      " 16  Hỗ trợ trả góp                             2 non-null      object\n",
      " 17  Bảo hành máy móc động cơ 3-6 tháng         2 non-null      object\n",
      " 18  Một chủ từ đầu                             2 non-null      object\n",
      " 19  Full lịch sử hãng                          2 non-null      object\n",
      " 20  Thủ tục trọn gói (Rút hồ sơ,sang tên,...)  2 non-null      object\n",
      " 21  Model xe mới                               2 non-null      object\n",
      " 22  Xe có nhiều đồ chơi                        2 non-null      object\n",
      " 23  Có xuất hóa đơn                            2 non-null      object\n",
      " 24  Còn bảo hiểm thân vỏ                       2 non-null      object\n",
      " 25  Hỗ trợ/cam kết từ người bán          2 non-null      object\n",
      "dtypes: int64(1), object(25)\n",
      "memory usage: 303.6+ KB\n"
     ]
    }
   ],
   "source": [
    "df.info()"
   ]
  },
  {
   "cell_type": "code",
   "execution_count": 13,
   "id": "cb9474c0",
   "metadata": {},
   "outputs": [
    {
     "name": "stdout",
     "output_type": "stream",
     "text": [
      "Name : 409\n",
      "Price : 945\n",
      "Năm SX : 1465\n",
      "Kiểu dáng : 1481\n",
      "Tình trạng : 1493\n",
      "Xuất xứ : 1491\n",
      "Km đã đi : 1185\n",
      "Tỉnh thành : 1459\n",
      "Quận huyện : 1402\n",
      "Hộp số : 1491\n",
      "Nhiên liệu : 1490\n",
      "Số tiền vay : 1493\n",
      "Thời gian vay : 1493\n",
      "Lãi xuất (%) : 1493\n",
      "Loại hình : 1493\n",
      "Giá trị xe muốn mua : 1493\n",
      "Hỗ trợ trả góp : 1492\n",
      "Bảo hành máy móc động cơ 3-6 tháng : 1492\n",
      "Một chủ từ đầu : 1492\n",
      "Full lịch sử hãng : 1492\n",
      "Thủ tục trọn gói (Rút hồ sơ,sang tên,...) : 1492\n",
      "Model xe mới : 1492\n",
      "Xe có nhiều đồ chơi : 1492\n",
      "Có xuất hóa đơn : 1492\n",
      "Còn bảo hiểm thân vỏ : 1492\n",
      "Hỗ trợ/cam kết từ người bán : 1492\n"
     ]
    }
   ],
   "source": [
    "for i in df.columns :\n",
    "    dup = df[i].duplicated().sum()\n",
    "    print(f\"{i} : {dup}\")"
   ]
  },
  {
   "cell_type": "code",
   "execution_count": 14,
   "id": "e23750cc",
   "metadata": {},
   "outputs": [
    {
     "name": "stdout",
     "output_type": "stream",
     "text": [
      "Name : 1085\n",
      "Price : 549\n",
      "Năm SX : 29\n",
      "Kiểu dáng : 12\n",
      "Tình trạng : 1\n",
      "Xuất xứ : 2\n",
      "Km đã đi : 308\n",
      "Tỉnh thành : 35\n",
      "Quận huyện : 91\n",
      "Hộp số : 3\n",
      "Nhiên liệu : 4\n",
      "Số tiền vay : 1\n",
      "Thời gian vay : 1\n",
      "Lãi xuất (%) : 1\n",
      "Loại hình : 1\n",
      "Giá trị xe muốn mua : 1\n",
      "Hỗ trợ trả góp : 1\n",
      "Bảo hành máy móc động cơ 3-6 tháng : 1\n",
      "Một chủ từ đầu : 1\n",
      "Full lịch sử hãng : 1\n",
      "Thủ tục trọn gói (Rút hồ sơ,sang tên,...) : 1\n",
      "Model xe mới : 1\n",
      "Xe có nhiều đồ chơi : 1\n",
      "Có xuất hóa đơn : 1\n",
      "Còn bảo hiểm thân vỏ : 1\n",
      "Hỗ trợ/cam kết từ người bán : 1\n"
     ]
    }
   ],
   "source": [
    "for i in df.columns :\n",
    "    print(f\"{i} : {df[i].nunique()}\")"
   ]
  },
  {
   "cell_type": "code",
   "execution_count": 15,
   "id": "23a8c4bb",
   "metadata": {},
   "outputs": [],
   "source": [
    "df = df.drop([\"Hỗ trợ/cam kết từ người bán\",\n",
    "              \"Còn bảo hiểm thân vỏ\",\n",
    "              \"Có xuất hóa đơn\",\n",
    "              \"Xe có nhiều đồ chơi\",\n",
    "              \"Model xe mới\",\n",
    "              \"Thủ tục trọn gói (Rút hồ sơ,sang tên,...)\",\n",
    "              \"Full lịch sử hãng\",\"Một chủ từ đầu\",\n",
    "              \"Bảo hành máy móc động cơ 3-6 tháng\",\n",
    "              \"Hỗ trợ trả góp\",\"Giá trị xe muốn mua\",\n",
    "              \"Loại hình\",\n",
    "              \"Lãi xuất (%)\",\n",
    "              \"Thời gian vay\",\n",
    "              \"Số tiền vay\",\n",
    "              \"Tình trạng\"],axis=1)"
   ]
  },
  {
   "cell_type": "code",
   "execution_count": 16,
   "id": "64dfac6f",
   "metadata": {},
   "outputs": [
    {
     "name": "stdout",
     "output_type": "stream",
     "text": [
      "<class 'pandas.core.frame.DataFrame'>\n",
      "RangeIndex: 1494 entries, 0 to 1493\n",
      "Data columns (total 10 columns):\n",
      " #   Column      Non-Null Count  Dtype \n",
      "---  ------      --------------  ----- \n",
      " 0   Name        1494 non-null   object\n",
      " 1   Price       1494 non-null   object\n",
      " 2   Năm SX      1494 non-null   int64 \n",
      " 3   Kiểu dáng   1385 non-null   object\n",
      " 4   Xuất xứ     1482 non-null   object\n",
      " 5   Km đã đi    1482 non-null   object\n",
      " 6   Tỉnh thành  1494 non-null   object\n",
      " 7   Quận huyện  1361 non-null   object\n",
      " 8   Hộp số      1494 non-null   object\n",
      " 9   Nhiên liệu  1494 non-null   object\n",
      "dtypes: int64(1), object(9)\n",
      "memory usage: 116.8+ KB\n"
     ]
    }
   ],
   "source": [
    "df.info()"
   ]
  },
  {
   "cell_type": "code",
   "execution_count": 17,
   "id": "d29cfee1",
   "metadata": {},
   "outputs": [],
   "source": [
    "df.rename(columns={\n",
    "    'Name': 'Name',\n",
    "    'Price': 'Price',\n",
    "    'Năm SX': 'Year',\n",
    "    'Kiểu dáng': 'Body_Type',\n",
    "    'Xuất xứ': 'Origin',\n",
    "    'Km đã đi': 'Mileage',\n",
    "    'Tỉnh thành': 'Province',\n",
    "    'Quận huyện': 'District',\n",
    "    'Hộp số': 'Transmission',\n",
    "    'Nhiên liệu': 'Fuel_Type'\n",
    "}, inplace=True)\n"
   ]
  },
  {
   "cell_type": "code",
   "execution_count": 18,
   "id": "b5b492e6",
   "metadata": {},
   "outputs": [
    {
     "name": "stdout",
     "output_type": "stream",
     "text": [
      "<class 'pandas.core.frame.DataFrame'>\n",
      "RangeIndex: 1494 entries, 0 to 1493\n",
      "Data columns (total 10 columns):\n",
      " #   Column        Non-Null Count  Dtype \n",
      "---  ------        --------------  ----- \n",
      " 0   Name          1494 non-null   object\n",
      " 1   Price         1494 non-null   object\n",
      " 2   Year          1494 non-null   int64 \n",
      " 3   Body_Type     1385 non-null   object\n",
      " 4   Origin        1482 non-null   object\n",
      " 5   Mileage       1482 non-null   object\n",
      " 6   Province      1494 non-null   object\n",
      " 7   District      1361 non-null   object\n",
      " 8   Transmission  1494 non-null   object\n",
      " 9   Fuel_Type     1494 non-null   object\n",
      "dtypes: int64(1), object(9)\n",
      "memory usage: 116.8+ KB\n"
     ]
    }
   ],
   "source": [
    "df.info()"
   ]
  },
  {
   "cell_type": "code",
   "execution_count": 19,
   "id": "e0888d9e",
   "metadata": {},
   "outputs": [
    {
     "data": {
      "text/plain": [
       "Name              0\n",
       "Price             0\n",
       "Year              0\n",
       "Body_Type       109\n",
       "Origin           12\n",
       "Mileage          12\n",
       "Province          0\n",
       "District        133\n",
       "Transmission      0\n",
       "Fuel_Type         0\n",
       "dtype: int64"
      ]
     },
     "execution_count": 19,
     "metadata": {},
     "output_type": "execute_result"
    }
   ],
   "source": [
    "df.isna().sum()"
   ]
  },
  {
   "cell_type": "code",
   "execution_count": 20,
   "id": "32bfab9e",
   "metadata": {},
   "outputs": [
    {
     "data": {
      "text/html": [
       "<div>\n",
       "<style scoped>\n",
       "    .dataframe tbody tr th:only-of-type {\n",
       "        vertical-align: middle;\n",
       "    }\n",
       "\n",
       "    .dataframe tbody tr th {\n",
       "        vertical-align: top;\n",
       "    }\n",
       "\n",
       "    .dataframe thead th {\n",
       "        text-align: right;\n",
       "    }\n",
       "</style>\n",
       "<table border=\"1\" class=\"dataframe\">\n",
       "  <thead>\n",
       "    <tr style=\"text-align: right;\">\n",
       "      <th></th>\n",
       "      <th>Name</th>\n",
       "      <th>Price</th>\n",
       "      <th>Year</th>\n",
       "      <th>Body_Type</th>\n",
       "      <th>Origin</th>\n",
       "      <th>Mileage</th>\n",
       "      <th>Province</th>\n",
       "      <th>District</th>\n",
       "      <th>Transmission</th>\n",
       "      <th>Fuel_Type</th>\n",
       "    </tr>\n",
       "  </thead>\n",
       "  <tbody>\n",
       "    <tr>\n",
       "      <th>0</th>\n",
       "      <td>Mercedes-Benz AMG G63 4.0 v8 2021</td>\n",
       "      <td>9 tỉ 200 triệu</td>\n",
       "      <td>2021</td>\n",
       "      <td>SUV</td>\n",
       "      <td>Nhập khẩu</td>\n",
       "      <td>30.000 km</td>\n",
       "      <td>Hà Nội</td>\n",
       "      <td>Tây Hồ</td>\n",
       "      <td>Số tự động</td>\n",
       "      <td>Máy xăng</td>\n",
       "    </tr>\n",
       "    <tr>\n",
       "      <th>1</th>\n",
       "      <td>Mercedes-Benz GLC 300 2020</td>\n",
       "      <td>1 tỉ 079 triệu</td>\n",
       "      <td>2020</td>\n",
       "      <td>SUV</td>\n",
       "      <td>Nhập khẩu</td>\n",
       "      <td>49.890 km</td>\n",
       "      <td>Tp.HCM</td>\n",
       "      <td>Quận 7</td>\n",
       "      <td>Số tự động</td>\n",
       "      <td>Máy xăng</td>\n",
       "    </tr>\n",
       "    <tr>\n",
       "      <th>2</th>\n",
       "      <td>Hyundai Stargazer 1.5 AT Cao cấp 2022</td>\n",
       "      <td>510 triệu</td>\n",
       "      <td>2022</td>\n",
       "      <td>MPV</td>\n",
       "      <td>Trong nước</td>\n",
       "      <td>70.000 km</td>\n",
       "      <td>Vĩnh Phúc</td>\n",
       "      <td>Phúc Yên</td>\n",
       "      <td>Số tự động</td>\n",
       "      <td>Máy xăng</td>\n",
       "    </tr>\n",
       "    <tr>\n",
       "      <th>3</th>\n",
       "      <td>BMW 430i Convertible 2023</td>\n",
       "      <td>2 tỉ 999 triệu</td>\n",
       "      <td>2023</td>\n",
       "      <td>Convertible</td>\n",
       "      <td>Nhập khẩu</td>\n",
       "      <td>4.000 km</td>\n",
       "      <td>Tp.HCM</td>\n",
       "      <td>Quận 7</td>\n",
       "      <td>Số tự động</td>\n",
       "      <td>Máy xăng</td>\n",
       "    </tr>\n",
       "    <tr>\n",
       "      <th>4</th>\n",
       "      <td>Mazda CX-5 2.0 Luxury 2024</td>\n",
       "      <td>770 triệu</td>\n",
       "      <td>2024</td>\n",
       "      <td>SUV</td>\n",
       "      <td>Trong nước</td>\n",
       "      <td>20.000 km</td>\n",
       "      <td>Hà Nội</td>\n",
       "      <td>Cầu Giấy</td>\n",
       "      <td>Số tự động</td>\n",
       "      <td>Máy xăng</td>\n",
       "    </tr>\n",
       "  </tbody>\n",
       "</table>\n",
       "</div>"
      ],
      "text/plain": [
       "                                    Name           Price  Year    Body_Type  \\\n",
       "0      Mercedes-Benz AMG G63 4.0 v8 2021  9 tỉ 200 triệu  2021          SUV   \n",
       "1             Mercedes-Benz GLC 300 2020  1 tỉ 079 triệu  2020          SUV   \n",
       "2  Hyundai Stargazer 1.5 AT Cao cấp 2022       510 triệu  2022          MPV   \n",
       "3              BMW 430i Convertible 2023  2 tỉ 999 triệu  2023  Convertible   \n",
       "4             Mazda CX-5 2.0 Luxury 2024       770 triệu  2024          SUV   \n",
       "\n",
       "       Origin    Mileage   Province  District Transmission Fuel_Type  \n",
       "0   Nhập khẩu  30.000 km     Hà Nội    Tây Hồ   Số tự động  Máy xăng  \n",
       "1   Nhập khẩu  49.890 km     Tp.HCM    Quận 7   Số tự động  Máy xăng  \n",
       "2  Trong nước  70.000 km  Vĩnh Phúc  Phúc Yên   Số tự động  Máy xăng  \n",
       "3   Nhập khẩu   4.000 km     Tp.HCM    Quận 7   Số tự động  Máy xăng  \n",
       "4  Trong nước  20.000 km     Hà Nội  Cầu Giấy   Số tự động  Máy xăng  "
      ]
     },
     "execution_count": 20,
     "metadata": {},
     "output_type": "execute_result"
    }
   ],
   "source": [
    "df.head()"
   ]
  },
  {
   "cell_type": "markdown",
   "id": "a801302f",
   "metadata": {},
   "source": [
    "1. Name"
   ]
  },
  {
   "cell_type": "code",
   "execution_count": 21,
   "id": "42b6a076",
   "metadata": {},
   "outputs": [
    {
     "data": {
      "text/plain": [
       "0        Mercedes-Benz AMG G63 4.0 v8 2021\n",
       "1               Mercedes-Benz GLC 300 2020\n",
       "2    Hyundai Stargazer 1.5 AT Cao cấp 2022\n",
       "3                BMW 430i Convertible 2023\n",
       "4               Mazda CX-5 2.0 Luxury 2024\n",
       "Name: Name, dtype: object"
      ]
     },
     "execution_count": 21,
     "metadata": {},
     "output_type": "execute_result"
    }
   ],
   "source": [
    "df.Name.head()"
   ]
  },
  {
   "cell_type": "code",
   "execution_count": 22,
   "id": "cec546d4",
   "metadata": {},
   "outputs": [],
   "source": [
    "df[\"Brand\"] = df[\"Name\"].str.strip().str.split().str[0]"
   ]
  },
  {
   "cell_type": "code",
   "execution_count": 23,
   "id": "1ec01bc6",
   "metadata": {},
   "outputs": [
    {
     "data": {
      "text/html": [
       "<div>\n",
       "<style scoped>\n",
       "    .dataframe tbody tr th:only-of-type {\n",
       "        vertical-align: middle;\n",
       "    }\n",
       "\n",
       "    .dataframe tbody tr th {\n",
       "        vertical-align: top;\n",
       "    }\n",
       "\n",
       "    .dataframe thead th {\n",
       "        text-align: right;\n",
       "    }\n",
       "</style>\n",
       "<table border=\"1\" class=\"dataframe\">\n",
       "  <thead>\n",
       "    <tr style=\"text-align: right;\">\n",
       "      <th></th>\n",
       "      <th>Name</th>\n",
       "      <th>Price</th>\n",
       "      <th>Year</th>\n",
       "      <th>Body_Type</th>\n",
       "      <th>Origin</th>\n",
       "      <th>Mileage</th>\n",
       "      <th>Province</th>\n",
       "      <th>District</th>\n",
       "      <th>Transmission</th>\n",
       "      <th>Fuel_Type</th>\n",
       "      <th>Brand</th>\n",
       "    </tr>\n",
       "  </thead>\n",
       "  <tbody>\n",
       "    <tr>\n",
       "      <th>0</th>\n",
       "      <td>Mercedes-Benz AMG G63 4.0 v8 2021</td>\n",
       "      <td>9 tỉ 200 triệu</td>\n",
       "      <td>2021</td>\n",
       "      <td>SUV</td>\n",
       "      <td>Nhập khẩu</td>\n",
       "      <td>30.000 km</td>\n",
       "      <td>Hà Nội</td>\n",
       "      <td>Tây Hồ</td>\n",
       "      <td>Số tự động</td>\n",
       "      <td>Máy xăng</td>\n",
       "      <td>Mercedes-Benz</td>\n",
       "    </tr>\n",
       "    <tr>\n",
       "      <th>1</th>\n",
       "      <td>Mercedes-Benz GLC 300 2020</td>\n",
       "      <td>1 tỉ 079 triệu</td>\n",
       "      <td>2020</td>\n",
       "      <td>SUV</td>\n",
       "      <td>Nhập khẩu</td>\n",
       "      <td>49.890 km</td>\n",
       "      <td>Tp.HCM</td>\n",
       "      <td>Quận 7</td>\n",
       "      <td>Số tự động</td>\n",
       "      <td>Máy xăng</td>\n",
       "      <td>Mercedes-Benz</td>\n",
       "    </tr>\n",
       "    <tr>\n",
       "      <th>2</th>\n",
       "      <td>Hyundai Stargazer 1.5 AT Cao cấp 2022</td>\n",
       "      <td>510 triệu</td>\n",
       "      <td>2022</td>\n",
       "      <td>MPV</td>\n",
       "      <td>Trong nước</td>\n",
       "      <td>70.000 km</td>\n",
       "      <td>Vĩnh Phúc</td>\n",
       "      <td>Phúc Yên</td>\n",
       "      <td>Số tự động</td>\n",
       "      <td>Máy xăng</td>\n",
       "      <td>Hyundai</td>\n",
       "    </tr>\n",
       "    <tr>\n",
       "      <th>3</th>\n",
       "      <td>BMW 430i Convertible 2023</td>\n",
       "      <td>2 tỉ 999 triệu</td>\n",
       "      <td>2023</td>\n",
       "      <td>Convertible</td>\n",
       "      <td>Nhập khẩu</td>\n",
       "      <td>4.000 km</td>\n",
       "      <td>Tp.HCM</td>\n",
       "      <td>Quận 7</td>\n",
       "      <td>Số tự động</td>\n",
       "      <td>Máy xăng</td>\n",
       "      <td>BMW</td>\n",
       "    </tr>\n",
       "    <tr>\n",
       "      <th>4</th>\n",
       "      <td>Mazda CX-5 2.0 Luxury 2024</td>\n",
       "      <td>770 triệu</td>\n",
       "      <td>2024</td>\n",
       "      <td>SUV</td>\n",
       "      <td>Trong nước</td>\n",
       "      <td>20.000 km</td>\n",
       "      <td>Hà Nội</td>\n",
       "      <td>Cầu Giấy</td>\n",
       "      <td>Số tự động</td>\n",
       "      <td>Máy xăng</td>\n",
       "      <td>Mazda</td>\n",
       "    </tr>\n",
       "  </tbody>\n",
       "</table>\n",
       "</div>"
      ],
      "text/plain": [
       "                                    Name           Price  Year    Body_Type  \\\n",
       "0      Mercedes-Benz AMG G63 4.0 v8 2021  9 tỉ 200 triệu  2021          SUV   \n",
       "1             Mercedes-Benz GLC 300 2020  1 tỉ 079 triệu  2020          SUV   \n",
       "2  Hyundai Stargazer 1.5 AT Cao cấp 2022       510 triệu  2022          MPV   \n",
       "3              BMW 430i Convertible 2023  2 tỉ 999 triệu  2023  Convertible   \n",
       "4             Mazda CX-5 2.0 Luxury 2024       770 triệu  2024          SUV   \n",
       "\n",
       "       Origin    Mileage   Province  District Transmission Fuel_Type  \\\n",
       "0   Nhập khẩu  30.000 km     Hà Nội    Tây Hồ   Số tự động  Máy xăng   \n",
       "1   Nhập khẩu  49.890 km     Tp.HCM    Quận 7   Số tự động  Máy xăng   \n",
       "2  Trong nước  70.000 km  Vĩnh Phúc  Phúc Yên   Số tự động  Máy xăng   \n",
       "3   Nhập khẩu   4.000 km     Tp.HCM    Quận 7   Số tự động  Máy xăng   \n",
       "4  Trong nước  20.000 km     Hà Nội  Cầu Giấy   Số tự động  Máy xăng   \n",
       "\n",
       "           Brand  \n",
       "0  Mercedes-Benz  \n",
       "1  Mercedes-Benz  \n",
       "2        Hyundai  \n",
       "3            BMW  \n",
       "4          Mazda  "
      ]
     },
     "execution_count": 23,
     "metadata": {},
     "output_type": "execute_result"
    }
   ],
   "source": [
    "df.head()"
   ]
  },
  {
   "cell_type": "markdown",
   "id": "ff9e2dd3",
   "metadata": {},
   "source": [
    "2.Price"
   ]
  },
  {
   "cell_type": "code",
   "execution_count": 24,
   "id": "1c31c63a",
   "metadata": {},
   "outputs": [
    {
     "data": {
      "text/plain": [
       "0    9 tỉ 200 triệu\n",
       "1    1 tỉ 079 triệu\n",
       "2         510 triệu\n",
       "3    2 tỉ 999 triệu\n",
       "4         770 triệu\n",
       "Name: Price, dtype: object"
      ]
     },
     "execution_count": 24,
     "metadata": {},
     "output_type": "execute_result"
    }
   ],
   "source": [
    "df.Price.head()"
   ]
  },
  {
   "cell_type": "code",
   "execution_count": 25,
   "id": "95761189",
   "metadata": {},
   "outputs": [],
   "source": [
    "def convert_price(price_str):\n",
    "    price_str = price_str.strip().lower()\n",
    "    price = 0\n",
    "    if \"tỉ\" in price_str:\n",
    "        parts = price_str.split(\"tỉ\")\n",
    "        ty = int(parts[0].strip())\n",
    "        price += ty * 1_000_000_000\n",
    "        if \"triệu\" in parts[1]:\n",
    "            trieu = int(parts[1].replace(\"triệu\", \"\").strip())\n",
    "            price += trieu * 1_000_000\n",
    "    elif \"triệu\" in price_str:\n",
    "        trieu = int(price_str.replace(\"triệu\", \"\").strip())\n",
    "        price += trieu * 1_000_000\n",
    "    return price\n",
    "\n",
    "df[\"price_num\"] = df[\"Price\"].apply(convert_price)"
   ]
  },
  {
   "cell_type": "code",
   "execution_count": 26,
   "id": "729ce80f",
   "metadata": {},
   "outputs": [
    {
     "data": {
      "text/html": [
       "<div>\n",
       "<style scoped>\n",
       "    .dataframe tbody tr th:only-of-type {\n",
       "        vertical-align: middle;\n",
       "    }\n",
       "\n",
       "    .dataframe tbody tr th {\n",
       "        vertical-align: top;\n",
       "    }\n",
       "\n",
       "    .dataframe thead th {\n",
       "        text-align: right;\n",
       "    }\n",
       "</style>\n",
       "<table border=\"1\" class=\"dataframe\">\n",
       "  <thead>\n",
       "    <tr style=\"text-align: right;\">\n",
       "      <th></th>\n",
       "      <th>Name</th>\n",
       "      <th>Price</th>\n",
       "      <th>Year</th>\n",
       "      <th>Body_Type</th>\n",
       "      <th>Origin</th>\n",
       "      <th>Mileage</th>\n",
       "      <th>Province</th>\n",
       "      <th>District</th>\n",
       "      <th>Transmission</th>\n",
       "      <th>Fuel_Type</th>\n",
       "      <th>Brand</th>\n",
       "      <th>price_num</th>\n",
       "    </tr>\n",
       "  </thead>\n",
       "  <tbody>\n",
       "    <tr>\n",
       "      <th>0</th>\n",
       "      <td>Mercedes-Benz AMG G63 4.0 v8 2021</td>\n",
       "      <td>9 tỉ 200 triệu</td>\n",
       "      <td>2021</td>\n",
       "      <td>SUV</td>\n",
       "      <td>Nhập khẩu</td>\n",
       "      <td>30.000 km</td>\n",
       "      <td>Hà Nội</td>\n",
       "      <td>Tây Hồ</td>\n",
       "      <td>Số tự động</td>\n",
       "      <td>Máy xăng</td>\n",
       "      <td>Mercedes-Benz</td>\n",
       "      <td>9200000000</td>\n",
       "    </tr>\n",
       "    <tr>\n",
       "      <th>1</th>\n",
       "      <td>Mercedes-Benz GLC 300 2020</td>\n",
       "      <td>1 tỉ 079 triệu</td>\n",
       "      <td>2020</td>\n",
       "      <td>SUV</td>\n",
       "      <td>Nhập khẩu</td>\n",
       "      <td>49.890 km</td>\n",
       "      <td>Tp.HCM</td>\n",
       "      <td>Quận 7</td>\n",
       "      <td>Số tự động</td>\n",
       "      <td>Máy xăng</td>\n",
       "      <td>Mercedes-Benz</td>\n",
       "      <td>1079000000</td>\n",
       "    </tr>\n",
       "    <tr>\n",
       "      <th>2</th>\n",
       "      <td>Hyundai Stargazer 1.5 AT Cao cấp 2022</td>\n",
       "      <td>510 triệu</td>\n",
       "      <td>2022</td>\n",
       "      <td>MPV</td>\n",
       "      <td>Trong nước</td>\n",
       "      <td>70.000 km</td>\n",
       "      <td>Vĩnh Phúc</td>\n",
       "      <td>Phúc Yên</td>\n",
       "      <td>Số tự động</td>\n",
       "      <td>Máy xăng</td>\n",
       "      <td>Hyundai</td>\n",
       "      <td>510000000</td>\n",
       "    </tr>\n",
       "    <tr>\n",
       "      <th>3</th>\n",
       "      <td>BMW 430i Convertible 2023</td>\n",
       "      <td>2 tỉ 999 triệu</td>\n",
       "      <td>2023</td>\n",
       "      <td>Convertible</td>\n",
       "      <td>Nhập khẩu</td>\n",
       "      <td>4.000 km</td>\n",
       "      <td>Tp.HCM</td>\n",
       "      <td>Quận 7</td>\n",
       "      <td>Số tự động</td>\n",
       "      <td>Máy xăng</td>\n",
       "      <td>BMW</td>\n",
       "      <td>2999000000</td>\n",
       "    </tr>\n",
       "    <tr>\n",
       "      <th>4</th>\n",
       "      <td>Mazda CX-5 2.0 Luxury 2024</td>\n",
       "      <td>770 triệu</td>\n",
       "      <td>2024</td>\n",
       "      <td>SUV</td>\n",
       "      <td>Trong nước</td>\n",
       "      <td>20.000 km</td>\n",
       "      <td>Hà Nội</td>\n",
       "      <td>Cầu Giấy</td>\n",
       "      <td>Số tự động</td>\n",
       "      <td>Máy xăng</td>\n",
       "      <td>Mazda</td>\n",
       "      <td>770000000</td>\n",
       "    </tr>\n",
       "  </tbody>\n",
       "</table>\n",
       "</div>"
      ],
      "text/plain": [
       "                                    Name           Price  Year    Body_Type  \\\n",
       "0      Mercedes-Benz AMG G63 4.0 v8 2021  9 tỉ 200 triệu  2021          SUV   \n",
       "1             Mercedes-Benz GLC 300 2020  1 tỉ 079 triệu  2020          SUV   \n",
       "2  Hyundai Stargazer 1.5 AT Cao cấp 2022       510 triệu  2022          MPV   \n",
       "3              BMW 430i Convertible 2023  2 tỉ 999 triệu  2023  Convertible   \n",
       "4             Mazda CX-5 2.0 Luxury 2024       770 triệu  2024          SUV   \n",
       "\n",
       "       Origin    Mileage   Province  District Transmission Fuel_Type  \\\n",
       "0   Nhập khẩu  30.000 km     Hà Nội    Tây Hồ   Số tự động  Máy xăng   \n",
       "1   Nhập khẩu  49.890 km     Tp.HCM    Quận 7   Số tự động  Máy xăng   \n",
       "2  Trong nước  70.000 km  Vĩnh Phúc  Phúc Yên   Số tự động  Máy xăng   \n",
       "3   Nhập khẩu   4.000 km     Tp.HCM    Quận 7   Số tự động  Máy xăng   \n",
       "4  Trong nước  20.000 km     Hà Nội  Cầu Giấy   Số tự động  Máy xăng   \n",
       "\n",
       "           Brand   price_num  \n",
       "0  Mercedes-Benz  9200000000  \n",
       "1  Mercedes-Benz  1079000000  \n",
       "2        Hyundai   510000000  \n",
       "3            BMW  2999000000  \n",
       "4          Mazda   770000000  "
      ]
     },
     "execution_count": 26,
     "metadata": {},
     "output_type": "execute_result"
    }
   ],
   "source": [
    "df.head()"
   ]
  },
  {
   "cell_type": "code",
   "execution_count": 27,
   "id": "c7185b70",
   "metadata": {},
   "outputs": [],
   "source": [
    "df = df.drop(\"Price\",axis=1)"
   ]
  },
  {
   "cell_type": "code",
   "execution_count": 28,
   "id": "ea8c5428",
   "metadata": {},
   "outputs": [],
   "source": [
    "Q1 = df['price_num'].quantile(0.25)\n",
    "Q3 = df['price_num'].quantile(0.75)\n",
    "IQR = Q3 - Q1\n",
    "\n",
    "df = df[(df['price_num'] >= Q1 - 1.5 * IQR) & (df['price_num'] <= Q3 + 1.5 * IQR)]"
   ]
  },
  {
   "cell_type": "markdown",
   "id": "acb33ee0",
   "metadata": {},
   "source": [
    "3.Year"
   ]
  },
  {
   "cell_type": "code",
   "execution_count": 29,
   "id": "316b208d",
   "metadata": {},
   "outputs": [
    {
     "data": {
      "text/plain": [
       "1    2020\n",
       "2    2022\n",
       "4    2024\n",
       "5    2017\n",
       "6    2019\n",
       "Name: Year, dtype: int64"
      ]
     },
     "execution_count": 29,
     "metadata": {},
     "output_type": "execute_result"
    }
   ],
   "source": [
    "df.Year.head()"
   ]
  },
  {
   "cell_type": "code",
   "execution_count": 30,
   "id": "a0b4b26d",
   "metadata": {},
   "outputs": [],
   "source": [
    "df.Year = df.Year.astype(int)"
   ]
  },
  {
   "cell_type": "code",
   "execution_count": 31,
   "id": "b810c4ba",
   "metadata": {},
   "outputs": [],
   "source": [
    "df[\"age\"] = 2025 - df[\"Year\"]"
   ]
  },
  {
   "cell_type": "markdown",
   "id": "5541b890",
   "metadata": {},
   "source": [
    "4.Body_Type"
   ]
  },
  {
   "cell_type": "code",
   "execution_count": 32,
   "id": "9936e5af",
   "metadata": {},
   "outputs": [
    {
     "data": {
      "text/plain": [
       "array(['SUV', 'MPV', 'Crossover', 'Sedan', 'Hatchback', 'Van/Minivan',\n",
       "       'Bán tải', 'Xe tải', nan, 'Sport Car', 'Minibus', 'Coupe',\n",
       "       'Convertible'], dtype=object)"
      ]
     },
     "execution_count": 32,
     "metadata": {},
     "output_type": "execute_result"
    }
   ],
   "source": [
    "df.Body_Type.unique()"
   ]
  },
  {
   "cell_type": "code",
   "execution_count": 33,
   "id": "912c9026",
   "metadata": {},
   "outputs": [
    {
     "data": {
      "text/plain": [
       "Body_Type\n",
       "SUV            441\n",
       "Sedan          413\n",
       "Hatchback      113\n",
       "MPV            111\n",
       "Bán tải         83\n",
       "Van/Minivan     40\n",
       "Crossover       29\n",
       "Xe tải           8\n",
       "Convertible      5\n",
       "Sport Car        3\n",
       "Minibus          3\n",
       "Coupe            1\n",
       "Name: count, dtype: int64"
      ]
     },
     "execution_count": 33,
     "metadata": {},
     "output_type": "execute_result"
    }
   ],
   "source": [
    "df.Body_Type.value_counts()"
   ]
  },
  {
   "cell_type": "code",
   "execution_count": 34,
   "id": "0d17562a",
   "metadata": {},
   "outputs": [],
   "source": [
    "df.loc[df[\"Body_Type\"].isna() , \"Body_Type\"] = \"Other\""
   ]
  },
  {
   "cell_type": "markdown",
   "id": "e934e7bc",
   "metadata": {},
   "source": [
    "5.Origin"
   ]
  },
  {
   "cell_type": "code",
   "execution_count": 35,
   "id": "09f6b6f2",
   "metadata": {},
   "outputs": [
    {
     "data": {
      "text/plain": [
       "11"
      ]
     },
     "execution_count": 35,
     "metadata": {},
     "output_type": "execute_result"
    }
   ],
   "source": [
    "df.Origin.isna().sum()"
   ]
  },
  {
   "cell_type": "code",
   "execution_count": 36,
   "id": "77f5ff86",
   "metadata": {},
   "outputs": [
    {
     "data": {
      "text/plain": [
       "Origin\n",
       "Trong nước    852\n",
       "Nhập khẩu     479\n",
       "Name: count, dtype: int64"
      ]
     },
     "execution_count": 36,
     "metadata": {},
     "output_type": "execute_result"
    }
   ],
   "source": [
    "df.Origin.value_counts()"
   ]
  },
  {
   "cell_type": "code",
   "execution_count": 37,
   "id": "b38e7588",
   "metadata": {},
   "outputs": [],
   "source": [
    "df.loc[df.Origin.isna(),\"Origin\"] = \"Other\""
   ]
  },
  {
   "cell_type": "code",
   "execution_count": 38,
   "id": "e0e05170",
   "metadata": {},
   "outputs": [
    {
     "data": {
      "text/plain": [
       "Origin\n",
       "Trong nước    852\n",
       "Nhập khẩu     479\n",
       "Other          11\n",
       "Name: count, dtype: int64"
      ]
     },
     "execution_count": 38,
     "metadata": {},
     "output_type": "execute_result"
    }
   ],
   "source": [
    "df.Origin.value_counts()"
   ]
  },
  {
   "cell_type": "markdown",
   "id": "9cebeb75",
   "metadata": {},
   "source": [
    "6.Mileage"
   ]
  },
  {
   "cell_type": "code",
   "execution_count": 39,
   "id": "ec064cdc",
   "metadata": {},
   "outputs": [
    {
     "data": {
      "text/plain": [
       "1    49.890 km\n",
       "2    70.000 km\n",
       "4    20.000 km\n",
       "5    62.000 km\n",
       "6    87.000 km\n",
       "Name: Mileage, dtype: object"
      ]
     },
     "execution_count": 39,
     "metadata": {},
     "output_type": "execute_result"
    }
   ],
   "source": [
    "df.Mileage.head()"
   ]
  },
  {
   "cell_type": "code",
   "execution_count": 40,
   "id": "2c93fa3d",
   "metadata": {},
   "outputs": [
    {
     "data": {
      "text/plain": [
       "12"
      ]
     },
     "execution_count": 40,
     "metadata": {},
     "output_type": "execute_result"
    }
   ],
   "source": [
    "df.Mileage.isna().sum()"
   ]
  },
  {
   "cell_type": "code",
   "execution_count": 41,
   "id": "21ea09a5",
   "metadata": {},
   "outputs": [
    {
     "data": {
      "text/plain": [
       "count          1330\n",
       "unique          282\n",
       "top       80.000 km\n",
       "freq             63\n",
       "Name: Mileage, dtype: object"
      ]
     },
     "execution_count": 41,
     "metadata": {},
     "output_type": "execute_result"
    }
   ],
   "source": [
    "df.Mileage.describe()"
   ]
  },
  {
   "cell_type": "code",
   "execution_count": 42,
   "id": "1cf167c4",
   "metadata": {},
   "outputs": [],
   "source": [
    "df.loc[df[\"Mileage\"].isna(),\"Mileage\"] = \"80.000 km\""
   ]
  },
  {
   "cell_type": "code",
   "execution_count": 43,
   "id": "c20f6a33",
   "metadata": {},
   "outputs": [],
   "source": [
    "df['mileage_num'] = df['Mileage'].str.replace('.', '', regex=False) \\\n",
    "                                  .str.replace(' km', '', regex=False) \\\n",
    "                                  .astype(int)"
   ]
  },
  {
   "cell_type": "code",
   "execution_count": 44,
   "id": "c746f8cd",
   "metadata": {},
   "outputs": [
    {
     "data": {
      "text/html": [
       "<div>\n",
       "<style scoped>\n",
       "    .dataframe tbody tr th:only-of-type {\n",
       "        vertical-align: middle;\n",
       "    }\n",
       "\n",
       "    .dataframe tbody tr th {\n",
       "        vertical-align: top;\n",
       "    }\n",
       "\n",
       "    .dataframe thead th {\n",
       "        text-align: right;\n",
       "    }\n",
       "</style>\n",
       "<table border=\"1\" class=\"dataframe\">\n",
       "  <thead>\n",
       "    <tr style=\"text-align: right;\">\n",
       "      <th></th>\n",
       "      <th>Name</th>\n",
       "      <th>Year</th>\n",
       "      <th>Body_Type</th>\n",
       "      <th>Origin</th>\n",
       "      <th>Mileage</th>\n",
       "      <th>Province</th>\n",
       "      <th>District</th>\n",
       "      <th>Transmission</th>\n",
       "      <th>Fuel_Type</th>\n",
       "      <th>Brand</th>\n",
       "      <th>price_num</th>\n",
       "      <th>age</th>\n",
       "      <th>mileage_num</th>\n",
       "    </tr>\n",
       "  </thead>\n",
       "  <tbody>\n",
       "    <tr>\n",
       "      <th>1</th>\n",
       "      <td>Mercedes-Benz GLC 300 2020</td>\n",
       "      <td>2020</td>\n",
       "      <td>SUV</td>\n",
       "      <td>Nhập khẩu</td>\n",
       "      <td>49.890 km</td>\n",
       "      <td>Tp.HCM</td>\n",
       "      <td>Quận 7</td>\n",
       "      <td>Số tự động</td>\n",
       "      <td>Máy xăng</td>\n",
       "      <td>Mercedes-Benz</td>\n",
       "      <td>1079000000</td>\n",
       "      <td>5</td>\n",
       "      <td>49890</td>\n",
       "    </tr>\n",
       "    <tr>\n",
       "      <th>2</th>\n",
       "      <td>Hyundai Stargazer 1.5 AT Cao cấp 2022</td>\n",
       "      <td>2022</td>\n",
       "      <td>MPV</td>\n",
       "      <td>Trong nước</td>\n",
       "      <td>70.000 km</td>\n",
       "      <td>Vĩnh Phúc</td>\n",
       "      <td>Phúc Yên</td>\n",
       "      <td>Số tự động</td>\n",
       "      <td>Máy xăng</td>\n",
       "      <td>Hyundai</td>\n",
       "      <td>510000000</td>\n",
       "      <td>3</td>\n",
       "      <td>70000</td>\n",
       "    </tr>\n",
       "    <tr>\n",
       "      <th>4</th>\n",
       "      <td>Mazda CX-5 2.0 Luxury 2024</td>\n",
       "      <td>2024</td>\n",
       "      <td>SUV</td>\n",
       "      <td>Trong nước</td>\n",
       "      <td>20.000 km</td>\n",
       "      <td>Hà Nội</td>\n",
       "      <td>Cầu Giấy</td>\n",
       "      <td>Số tự động</td>\n",
       "      <td>Máy xăng</td>\n",
       "      <td>Mazda</td>\n",
       "      <td>770000000</td>\n",
       "      <td>1</td>\n",
       "      <td>20000</td>\n",
       "    </tr>\n",
       "    <tr>\n",
       "      <th>5</th>\n",
       "      <td>Mercedes-Benz GLC 250 4Matic 2017</td>\n",
       "      <td>2017</td>\n",
       "      <td>SUV</td>\n",
       "      <td>Trong nước</td>\n",
       "      <td>62.000 km</td>\n",
       "      <td>Tp.HCM</td>\n",
       "      <td>Quận 7</td>\n",
       "      <td>Số tự động</td>\n",
       "      <td>Máy xăng</td>\n",
       "      <td>Mercedes-Benz</td>\n",
       "      <td>899000000</td>\n",
       "      <td>8</td>\n",
       "      <td>62000</td>\n",
       "    </tr>\n",
       "    <tr>\n",
       "      <th>6</th>\n",
       "      <td>Honda HR-V L 2019</td>\n",
       "      <td>2019</td>\n",
       "      <td>Crossover</td>\n",
       "      <td>Nhập khẩu</td>\n",
       "      <td>87.000 km</td>\n",
       "      <td>Vĩnh Phúc</td>\n",
       "      <td>Phúc Yên</td>\n",
       "      <td>Số tự động</td>\n",
       "      <td>Máy xăng</td>\n",
       "      <td>Honda</td>\n",
       "      <td>550000000</td>\n",
       "      <td>6</td>\n",
       "      <td>87000</td>\n",
       "    </tr>\n",
       "  </tbody>\n",
       "</table>\n",
       "</div>"
      ],
      "text/plain": [
       "                                    Name  Year  Body_Type      Origin  \\\n",
       "1             Mercedes-Benz GLC 300 2020  2020        SUV   Nhập khẩu   \n",
       "2  Hyundai Stargazer 1.5 AT Cao cấp 2022  2022        MPV  Trong nước   \n",
       "4             Mazda CX-5 2.0 Luxury 2024  2024        SUV  Trong nước   \n",
       "5      Mercedes-Benz GLC 250 4Matic 2017  2017        SUV  Trong nước   \n",
       "6                      Honda HR-V L 2019  2019  Crossover   Nhập khẩu   \n",
       "\n",
       "     Mileage   Province  District Transmission Fuel_Type          Brand  \\\n",
       "1  49.890 km     Tp.HCM    Quận 7   Số tự động  Máy xăng  Mercedes-Benz   \n",
       "2  70.000 km  Vĩnh Phúc  Phúc Yên   Số tự động  Máy xăng        Hyundai   \n",
       "4  20.000 km     Hà Nội  Cầu Giấy   Số tự động  Máy xăng          Mazda   \n",
       "5  62.000 km     Tp.HCM    Quận 7   Số tự động  Máy xăng  Mercedes-Benz   \n",
       "6  87.000 km  Vĩnh Phúc  Phúc Yên   Số tự động  Máy xăng          Honda   \n",
       "\n",
       "    price_num  age  mileage_num  \n",
       "1  1079000000    5        49890  \n",
       "2   510000000    3        70000  \n",
       "4   770000000    1        20000  \n",
       "5   899000000    8        62000  \n",
       "6   550000000    6        87000  "
      ]
     },
     "execution_count": 44,
     "metadata": {},
     "output_type": "execute_result"
    }
   ],
   "source": [
    "df.head()"
   ]
  },
  {
   "cell_type": "code",
   "execution_count": 45,
   "id": "ba806e57",
   "metadata": {},
   "outputs": [],
   "source": [
    "df = df.drop(\"Mileage\",axis=1)"
   ]
  },
  {
   "cell_type": "code",
   "execution_count": 46,
   "id": "a7bb2a12",
   "metadata": {},
   "outputs": [
    {
     "data": {
      "text/plain": [
       "Index(['Name', 'Year', 'Body_Type', 'Origin', 'Province', 'District',\n",
       "       'Transmission', 'Fuel_Type', 'Brand', 'price_num', 'age',\n",
       "       'mileage_num'],\n",
       "      dtype='object')"
      ]
     },
     "execution_count": 46,
     "metadata": {},
     "output_type": "execute_result"
    }
   ],
   "source": [
    "df.columns"
   ]
  },
  {
   "cell_type": "markdown",
   "id": "c9aeb656",
   "metadata": {},
   "source": [
    "7.Province"
   ]
  },
  {
   "cell_type": "code",
   "execution_count": 47,
   "id": "94541b8a",
   "metadata": {},
   "outputs": [
    {
     "data": {
      "text/plain": [
       "1       Tp.HCM\n",
       "2    Vĩnh Phúc\n",
       "4       Hà Nội\n",
       "5       Tp.HCM\n",
       "6    Vĩnh Phúc\n",
       "Name: Province, dtype: object"
      ]
     },
     "execution_count": 47,
     "metadata": {},
     "output_type": "execute_result"
    }
   ],
   "source": [
    "df.Province.head()"
   ]
  },
  {
   "cell_type": "code",
   "execution_count": 48,
   "id": "c8f0be41",
   "metadata": {},
   "outputs": [
    {
     "data": {
      "text/plain": [
       "0"
      ]
     },
     "execution_count": 48,
     "metadata": {},
     "output_type": "execute_result"
    }
   ],
   "source": [
    "df.Province.isna().sum()"
   ]
  },
  {
   "cell_type": "code",
   "execution_count": 49,
   "id": "59d8b8da",
   "metadata": {},
   "outputs": [
    {
     "data": {
      "text/plain": [
       "35"
      ]
     },
     "execution_count": 49,
     "metadata": {},
     "output_type": "execute_result"
    }
   ],
   "source": [
    "df.Province.nunique()"
   ]
  },
  {
   "cell_type": "markdown",
   "id": "60b5930d",
   "metadata": {},
   "source": [
    "8.District"
   ]
  },
  {
   "cell_type": "code",
   "execution_count": 50,
   "id": "200d0312",
   "metadata": {},
   "outputs": [
    {
     "data": {
      "text/plain": [
       "132"
      ]
     },
     "execution_count": 50,
     "metadata": {},
     "output_type": "execute_result"
    }
   ],
   "source": [
    "df.District.isna().sum()"
   ]
  },
  {
   "cell_type": "code",
   "execution_count": 51,
   "id": "551c9042",
   "metadata": {},
   "outputs": [
    {
     "data": {
      "text/plain": [
       "count         1210\n",
       "unique          91\n",
       "top       Cầu Giấy\n",
       "freq           134\n",
       "Name: District, dtype: object"
      ]
     },
     "execution_count": 51,
     "metadata": {},
     "output_type": "execute_result"
    }
   ],
   "source": [
    "df.District.describe()"
   ]
  },
  {
   "cell_type": "code",
   "execution_count": 52,
   "id": "aee0feba",
   "metadata": {},
   "outputs": [],
   "source": [
    "df.loc[df[\"District\"].isna(),\"District\"] = \"Other\""
   ]
  },
  {
   "cell_type": "markdown",
   "id": "0b541b2f",
   "metadata": {},
   "source": [
    "9.Transmission"
   ]
  },
  {
   "cell_type": "code",
   "execution_count": 53,
   "id": "3bbd33a4",
   "metadata": {},
   "outputs": [
    {
     "data": {
      "text/plain": [
       "1    Số tự động\n",
       "2    Số tự động\n",
       "4    Số tự động\n",
       "5    Số tự động\n",
       "6    Số tự động\n",
       "Name: Transmission, dtype: object"
      ]
     },
     "execution_count": 53,
     "metadata": {},
     "output_type": "execute_result"
    }
   ],
   "source": [
    "df.Transmission.head()"
   ]
  },
  {
   "cell_type": "code",
   "execution_count": 54,
   "id": "84036c9f",
   "metadata": {},
   "outputs": [
    {
     "data": {
      "text/plain": [
       "0"
      ]
     },
     "execution_count": 54,
     "metadata": {},
     "output_type": "execute_result"
    }
   ],
   "source": [
    "df.Transmission.isna().sum()"
   ]
  },
  {
   "cell_type": "code",
   "execution_count": 55,
   "id": "9cfec901",
   "metadata": {},
   "outputs": [
    {
     "data": {
      "text/plain": [
       "array(['Số tự động', 'Số sàn', 'Số hỗn hợp'], dtype=object)"
      ]
     },
     "execution_count": 55,
     "metadata": {},
     "output_type": "execute_result"
    }
   ],
   "source": [
    "df.Transmission.unique()"
   ]
  },
  {
   "cell_type": "code",
   "execution_count": 56,
   "id": "23d41659",
   "metadata": {},
   "outputs": [
    {
     "data": {
      "text/plain": [
       "Transmission\n",
       "Số tự động    1169\n",
       "Số sàn         172\n",
       "Số hỗn hợp       1\n",
       "Name: count, dtype: int64"
      ]
     },
     "execution_count": 56,
     "metadata": {},
     "output_type": "execute_result"
    }
   ],
   "source": [
    "df.Transmission.value_counts()"
   ]
  },
  {
   "cell_type": "markdown",
   "id": "6f3d60a6",
   "metadata": {},
   "source": [
    "10.Fuel_Type"
   ]
  },
  {
   "cell_type": "code",
   "execution_count": 57,
   "id": "879c1c77",
   "metadata": {},
   "outputs": [
    {
     "data": {
      "text/plain": [
       "1    Máy xăng\n",
       "2    Máy xăng\n",
       "4    Máy xăng\n",
       "5    Máy xăng\n",
       "6    Máy xăng\n",
       "Name: Fuel_Type, dtype: object"
      ]
     },
     "execution_count": 57,
     "metadata": {},
     "output_type": "execute_result"
    }
   ],
   "source": [
    "df.Fuel_Type.head()"
   ]
  },
  {
   "cell_type": "code",
   "execution_count": 58,
   "id": "2912ae5c",
   "metadata": {},
   "outputs": [
    {
     "data": {
      "text/plain": [
       "Fuel_Type\n",
       "Máy xăng    1106\n",
       "Máy dầu      218\n",
       "Điện          12\n",
       "Hybrid         6\n",
       "Name: count, dtype: int64"
      ]
     },
     "execution_count": 58,
     "metadata": {},
     "output_type": "execute_result"
    }
   ],
   "source": [
    "df.Fuel_Type.value_counts()"
   ]
  },
  {
   "cell_type": "code",
   "execution_count": 59,
   "id": "828c6ae5",
   "metadata": {},
   "outputs": [
    {
     "data": {
      "text/html": [
       "<div>\n",
       "<style scoped>\n",
       "    .dataframe tbody tr th:only-of-type {\n",
       "        vertical-align: middle;\n",
       "    }\n",
       "\n",
       "    .dataframe tbody tr th {\n",
       "        vertical-align: top;\n",
       "    }\n",
       "\n",
       "    .dataframe thead th {\n",
       "        text-align: right;\n",
       "    }\n",
       "</style>\n",
       "<table border=\"1\" class=\"dataframe\">\n",
       "  <thead>\n",
       "    <tr style=\"text-align: right;\">\n",
       "      <th></th>\n",
       "      <th>Name</th>\n",
       "      <th>Year</th>\n",
       "      <th>Body_Type</th>\n",
       "      <th>Origin</th>\n",
       "      <th>Province</th>\n",
       "      <th>District</th>\n",
       "      <th>Transmission</th>\n",
       "      <th>Fuel_Type</th>\n",
       "      <th>Brand</th>\n",
       "      <th>price_num</th>\n",
       "      <th>age</th>\n",
       "      <th>mileage_num</th>\n",
       "    </tr>\n",
       "  </thead>\n",
       "  <tbody>\n",
       "    <tr>\n",
       "      <th>1</th>\n",
       "      <td>Mercedes-Benz GLC 300 2020</td>\n",
       "      <td>2020</td>\n",
       "      <td>SUV</td>\n",
       "      <td>Nhập khẩu</td>\n",
       "      <td>Tp.HCM</td>\n",
       "      <td>Quận 7</td>\n",
       "      <td>Số tự động</td>\n",
       "      <td>Máy xăng</td>\n",
       "      <td>Mercedes-Benz</td>\n",
       "      <td>1079000000</td>\n",
       "      <td>5</td>\n",
       "      <td>49890</td>\n",
       "    </tr>\n",
       "    <tr>\n",
       "      <th>2</th>\n",
       "      <td>Hyundai Stargazer 1.5 AT Cao cấp 2022</td>\n",
       "      <td>2022</td>\n",
       "      <td>MPV</td>\n",
       "      <td>Trong nước</td>\n",
       "      <td>Vĩnh Phúc</td>\n",
       "      <td>Phúc Yên</td>\n",
       "      <td>Số tự động</td>\n",
       "      <td>Máy xăng</td>\n",
       "      <td>Hyundai</td>\n",
       "      <td>510000000</td>\n",
       "      <td>3</td>\n",
       "      <td>70000</td>\n",
       "    </tr>\n",
       "    <tr>\n",
       "      <th>4</th>\n",
       "      <td>Mazda CX-5 2.0 Luxury 2024</td>\n",
       "      <td>2024</td>\n",
       "      <td>SUV</td>\n",
       "      <td>Trong nước</td>\n",
       "      <td>Hà Nội</td>\n",
       "      <td>Cầu Giấy</td>\n",
       "      <td>Số tự động</td>\n",
       "      <td>Máy xăng</td>\n",
       "      <td>Mazda</td>\n",
       "      <td>770000000</td>\n",
       "      <td>1</td>\n",
       "      <td>20000</td>\n",
       "    </tr>\n",
       "    <tr>\n",
       "      <th>5</th>\n",
       "      <td>Mercedes-Benz GLC 250 4Matic 2017</td>\n",
       "      <td>2017</td>\n",
       "      <td>SUV</td>\n",
       "      <td>Trong nước</td>\n",
       "      <td>Tp.HCM</td>\n",
       "      <td>Quận 7</td>\n",
       "      <td>Số tự động</td>\n",
       "      <td>Máy xăng</td>\n",
       "      <td>Mercedes-Benz</td>\n",
       "      <td>899000000</td>\n",
       "      <td>8</td>\n",
       "      <td>62000</td>\n",
       "    </tr>\n",
       "    <tr>\n",
       "      <th>6</th>\n",
       "      <td>Honda HR-V L 2019</td>\n",
       "      <td>2019</td>\n",
       "      <td>Crossover</td>\n",
       "      <td>Nhập khẩu</td>\n",
       "      <td>Vĩnh Phúc</td>\n",
       "      <td>Phúc Yên</td>\n",
       "      <td>Số tự động</td>\n",
       "      <td>Máy xăng</td>\n",
       "      <td>Honda</td>\n",
       "      <td>550000000</td>\n",
       "      <td>6</td>\n",
       "      <td>87000</td>\n",
       "    </tr>\n",
       "  </tbody>\n",
       "</table>\n",
       "</div>"
      ],
      "text/plain": [
       "                                    Name  Year  Body_Type      Origin  \\\n",
       "1             Mercedes-Benz GLC 300 2020  2020        SUV   Nhập khẩu   \n",
       "2  Hyundai Stargazer 1.5 AT Cao cấp 2022  2022        MPV  Trong nước   \n",
       "4             Mazda CX-5 2.0 Luxury 2024  2024        SUV  Trong nước   \n",
       "5      Mercedes-Benz GLC 250 4Matic 2017  2017        SUV  Trong nước   \n",
       "6                      Honda HR-V L 2019  2019  Crossover   Nhập khẩu   \n",
       "\n",
       "    Province  District Transmission Fuel_Type          Brand   price_num  age  \\\n",
       "1     Tp.HCM    Quận 7   Số tự động  Máy xăng  Mercedes-Benz  1079000000    5   \n",
       "2  Vĩnh Phúc  Phúc Yên   Số tự động  Máy xăng        Hyundai   510000000    3   \n",
       "4     Hà Nội  Cầu Giấy   Số tự động  Máy xăng          Mazda   770000000    1   \n",
       "5     Tp.HCM    Quận 7   Số tự động  Máy xăng  Mercedes-Benz   899000000    8   \n",
       "6  Vĩnh Phúc  Phúc Yên   Số tự động  Máy xăng          Honda   550000000    6   \n",
       "\n",
       "   mileage_num  \n",
       "1        49890  \n",
       "2        70000  \n",
       "4        20000  \n",
       "5        62000  \n",
       "6        87000  "
      ]
     },
     "execution_count": 59,
     "metadata": {},
     "output_type": "execute_result"
    }
   ],
   "source": [
    "df.head()"
   ]
  },
  {
   "cell_type": "code",
   "execution_count": 60,
   "id": "a07cb463",
   "metadata": {},
   "outputs": [
    {
     "data": {
      "text/plain": [
       "1342"
      ]
     },
     "execution_count": 60,
     "metadata": {},
     "output_type": "execute_result"
    }
   ],
   "source": [
    "len(df)"
   ]
  },
  {
   "cell_type": "code",
   "execution_count": 61,
   "id": "4c8a4a5d",
   "metadata": {},
   "outputs": [
    {
     "name": "stdout",
     "output_type": "stream",
     "text": [
      "<class 'pandas.core.frame.DataFrame'>\n",
      "Index: 1342 entries, 1 to 1493\n",
      "Data columns (total 12 columns):\n",
      " #   Column        Non-Null Count  Dtype \n",
      "---  ------        --------------  ----- \n",
      " 0   Name          1342 non-null   object\n",
      " 1   Year          1342 non-null   int32 \n",
      " 2   Body_Type     1342 non-null   object\n",
      " 3   Origin        1342 non-null   object\n",
      " 4   Province      1342 non-null   object\n",
      " 5   District      1342 non-null   object\n",
      " 6   Transmission  1342 non-null   object\n",
      " 7   Fuel_Type     1342 non-null   object\n",
      " 8   Brand         1342 non-null   object\n",
      " 9   price_num     1342 non-null   int64 \n",
      " 10  age           1342 non-null   int32 \n",
      " 11  mileage_num   1342 non-null   int32 \n",
      "dtypes: int32(3), int64(1), object(8)\n",
      "memory usage: 120.6+ KB\n"
     ]
    }
   ],
   "source": [
    "df.info()"
   ]
  },
  {
   "cell_type": "code",
   "execution_count": 62,
   "id": "542e6df4",
   "metadata": {},
   "outputs": [
    {
     "name": "stdout",
     "output_type": "stream",
     "text": [
      "Done! Cleaned data saved successfully.\n"
     ]
    }
   ],
   "source": [
    "df.to_csv(\"data_cleaned.csv\", index=False, encoding='utf-8-sig')\n",
    "print(\"Done! Cleaned data saved successfully.\")"
   ]
  },
  {
   "cell_type": "code",
   "execution_count": null,
   "id": "69c48a9f",
   "metadata": {},
   "outputs": [],
   "source": []
  }
 ],
 "metadata": {
  "kernelspec": {
   "display_name": "base",
   "language": "python",
   "name": "python3"
  },
  "language_info": {
   "codemirror_mode": {
    "name": "ipython",
    "version": 3
   },
   "file_extension": ".py",
   "mimetype": "text/x-python",
   "name": "python",
   "nbconvert_exporter": "python",
   "pygments_lexer": "ipython3",
   "version": "3.11.5"
  }
 },
 "nbformat": 4,
 "nbformat_minor": 5
}
