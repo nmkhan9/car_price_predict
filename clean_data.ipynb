{
 "cells": [
  {
   "cell_type": "code",
   "execution_count": 68,
   "id": "a0b57ee0",
   "metadata": {},
   "outputs": [],
   "source": [
    "import pandas as pd\n",
    "import numpy as np\n",
    "import warnings\n",
    "warnings.filterwarnings(\"ignore\")"
   ]
  },
  {
   "cell_type": "code",
   "execution_count": 69,
   "id": "6b8286f1",
   "metadata": {},
   "outputs": [
    {
     "data": {
      "text/html": [
       "<div>\n",
       "<style scoped>\n",
       "    .dataframe tbody tr th:only-of-type {\n",
       "        vertical-align: middle;\n",
       "    }\n",
       "\n",
       "    .dataframe tbody tr th {\n",
       "        vertical-align: top;\n",
       "    }\n",
       "\n",
       "    .dataframe thead th {\n",
       "        text-align: right;\n",
       "    }\n",
       "</style>\n",
       "<table border=\"1\" class=\"dataframe\">\n",
       "  <thead>\n",
       "    <tr style=\"text-align: right;\">\n",
       "      <th></th>\n",
       "      <th>Name</th>\n",
       "      <th>Price</th>\n",
       "      <th>Năm SX</th>\n",
       "      <th>Kiểu dáng</th>\n",
       "      <th>Tình trạng</th>\n",
       "      <th>Xuất xứ</th>\n",
       "      <th>Km đã đi</th>\n",
       "      <th>Tỉnh thành</th>\n",
       "      <th>Quận huyện</th>\n",
       "      <th>Hộp số</th>\n",
       "      <th>Nhiên liệu</th>\n",
       "      <th>Số tiền vay</th>\n",
       "      <th>Thời gian vay</th>\n",
       "      <th>Lãi xuất (%)</th>\n",
       "      <th>Loại hình</th>\n",
       "      <th>Giá trị xe muốn mua</th>\n",
       "    </tr>\n",
       "  </thead>\n",
       "  <tbody>\n",
       "    <tr>\n",
       "      <th>0</th>\n",
       "      <td>Mercedes-Benz AMG G63 4.0 v8 2021</td>\n",
       "      <td>9 tỉ 200 triệu</td>\n",
       "      <td>2021</td>\n",
       "      <td>SUV</td>\n",
       "      <td>Xe cũ</td>\n",
       "      <td>Nhập khẩu</td>\n",
       "      <td>30.000 km</td>\n",
       "      <td>Hà Nội</td>\n",
       "      <td>Tây Hồ</td>\n",
       "      <td>Số tự động</td>\n",
       "      <td>Máy xăng</td>\n",
       "      <td>VNĐ</td>\n",
       "      <td>ThángNăm</td>\n",
       "      <td>ThángNăm</td>\n",
       "      <td>Trả góp đều hàng thángTrả góp đều, lãi tính tr...</td>\n",
       "      <td>VNĐ</td>\n",
       "    </tr>\n",
       "    <tr>\n",
       "      <th>1</th>\n",
       "      <td>Mercedes-Benz E250 2023</td>\n",
       "      <td>870 triệu</td>\n",
       "      <td>2023</td>\n",
       "      <td>Sedan</td>\n",
       "      <td>Xe cũ</td>\n",
       "      <td>Nhập khẩu</td>\n",
       "      <td>45.000 km</td>\n",
       "      <td>Hà Nội</td>\n",
       "      <td>Nam Từ Liêm</td>\n",
       "      <td>Số tự động</td>\n",
       "      <td>Máy xăng</td>\n",
       "      <td>VNĐ</td>\n",
       "      <td>ThángNăm</td>\n",
       "      <td>ThángNăm</td>\n",
       "      <td>Trả góp đều hàng thángTrả góp đều, lãi tính tr...</td>\n",
       "      <td>VNĐ</td>\n",
       "    </tr>\n",
       "    <tr>\n",
       "      <th>2</th>\n",
       "      <td>Toyota Camry 2.4G 2012</td>\n",
       "      <td>360 triệu</td>\n",
       "      <td>2012</td>\n",
       "      <td>Sedan</td>\n",
       "      <td>Xe cũ</td>\n",
       "      <td>Trong nước</td>\n",
       "      <td>120.000 km</td>\n",
       "      <td>Hà Nội</td>\n",
       "      <td>NaN</td>\n",
       "      <td>Số tự động</td>\n",
       "      <td>Máy xăng</td>\n",
       "      <td>VNĐ</td>\n",
       "      <td>ThángNăm</td>\n",
       "      <td>ThángNăm</td>\n",
       "      <td>Trả góp đều hàng thángTrả góp đều, lãi tính tr...</td>\n",
       "      <td>VNĐ</td>\n",
       "    </tr>\n",
       "    <tr>\n",
       "      <th>3</th>\n",
       "      <td>Ford Territory Titanium X 2023</td>\n",
       "      <td>770 triệu</td>\n",
       "      <td>2023</td>\n",
       "      <td>SUV</td>\n",
       "      <td>Xe cũ</td>\n",
       "      <td>Nhập khẩu</td>\n",
       "      <td>27.000 km</td>\n",
       "      <td>Tp.HCM</td>\n",
       "      <td>Quận 10</td>\n",
       "      <td>Số tự động</td>\n",
       "      <td>Máy xăng</td>\n",
       "      <td>VNĐ</td>\n",
       "      <td>ThángNăm</td>\n",
       "      <td>ThángNăm</td>\n",
       "      <td>Trả góp đều hàng thángTrả góp đều, lãi tính tr...</td>\n",
       "      <td>VNĐ</td>\n",
       "    </tr>\n",
       "    <tr>\n",
       "      <th>4</th>\n",
       "      <td>Mazda CX-5 2022</td>\n",
       "      <td>740 triệu</td>\n",
       "      <td>2022</td>\n",
       "      <td>SUV</td>\n",
       "      <td>Xe cũ</td>\n",
       "      <td>Trong nước</td>\n",
       "      <td>30.000 km</td>\n",
       "      <td>Hà Nội</td>\n",
       "      <td>Nam Từ Liêm</td>\n",
       "      <td>Số tự động</td>\n",
       "      <td>Máy xăng</td>\n",
       "      <td>VNĐ</td>\n",
       "      <td>ThángNăm</td>\n",
       "      <td>ThángNăm</td>\n",
       "      <td>Trả góp đều hàng thángTrả góp đều, lãi tính tr...</td>\n",
       "      <td>VNĐ</td>\n",
       "    </tr>\n",
       "  </tbody>\n",
       "</table>\n",
       "</div>"
      ],
      "text/plain": [
       "                                Name           Price  Năm SX Kiểu dáng  \\\n",
       "0  Mercedes-Benz AMG G63 4.0 v8 2021  9 tỉ 200 triệu    2021       SUV   \n",
       "1            Mercedes-Benz E250 2023       870 triệu    2023     Sedan   \n",
       "2             Toyota Camry 2.4G 2012       360 triệu    2012     Sedan   \n",
       "3     Ford Territory Titanium X 2023       770 triệu    2023       SUV   \n",
       "4                    Mazda CX-5 2022       740 triệu    2022       SUV   \n",
       "\n",
       "  Tình trạng     Xuất xứ    Km đã đi Tỉnh thành   Quận huyện      Hộp số  \\\n",
       "0      Xe cũ   Nhập khẩu   30.000 km     Hà Nội       Tây Hồ  Số tự động   \n",
       "1      Xe cũ   Nhập khẩu   45.000 km     Hà Nội  Nam Từ Liêm  Số tự động   \n",
       "2      Xe cũ  Trong nước  120.000 km     Hà Nội          NaN  Số tự động   \n",
       "3      Xe cũ   Nhập khẩu   27.000 km     Tp.HCM      Quận 10  Số tự động   \n",
       "4      Xe cũ  Trong nước   30.000 km     Hà Nội  Nam Từ Liêm  Số tự động   \n",
       "\n",
       "  Nhiên liệu Số tiền vay Thời gian vay Lãi xuất (%)  \\\n",
       "0   Máy xăng         VNĐ      ThángNăm     ThángNăm   \n",
       "1   Máy xăng         VNĐ      ThángNăm     ThángNăm   \n",
       "2   Máy xăng         VNĐ      ThángNăm     ThángNăm   \n",
       "3   Máy xăng         VNĐ      ThángNăm     ThángNăm   \n",
       "4   Máy xăng         VNĐ      ThángNăm     ThángNăm   \n",
       "\n",
       "                                           Loại hình Giá trị xe muốn mua  \n",
       "0  Trả góp đều hàng thángTrả góp đều, lãi tính tr...                 VNĐ  \n",
       "1  Trả góp đều hàng thángTrả góp đều, lãi tính tr...                 VNĐ  \n",
       "2  Trả góp đều hàng thángTrả góp đều, lãi tính tr...                 VNĐ  \n",
       "3  Trả góp đều hàng thángTrả góp đều, lãi tính tr...                 VNĐ  \n",
       "4  Trả góp đều hàng thángTrả góp đều, lãi tính tr...                 VNĐ  "
      ]
     },
     "execution_count": 69,
     "metadata": {},
     "output_type": "execute_result"
    }
   ],
   "source": [
    "df = pd.read_csv(\"data/cars_data.csv\")\n",
    "df.head()"
   ]
  },
  {
   "cell_type": "code",
   "execution_count": 70,
   "id": "7b5ab57b",
   "metadata": {},
   "outputs": [
    {
     "name": "stdout",
     "output_type": "stream",
     "text": [
      "<class 'pandas.core.frame.DataFrame'>\n",
      "RangeIndex: 727 entries, 0 to 726\n",
      "Data columns (total 16 columns):\n",
      " #   Column               Non-Null Count  Dtype \n",
      "---  ------               --------------  ----- \n",
      " 0   Name                 727 non-null    object\n",
      " 1   Price                727 non-null    object\n",
      " 2   Năm SX               727 non-null    int64 \n",
      " 3   Kiểu dáng            665 non-null    object\n",
      " 4   Tình trạng           727 non-null    object\n",
      " 5   Xuất xứ              727 non-null    object\n",
      " 6   Km đã đi             725 non-null    object\n",
      " 7   Tỉnh thành           727 non-null    object\n",
      " 8   Quận huyện           715 non-null    object\n",
      " 9   Hộp số               727 non-null    object\n",
      " 10  Nhiên liệu           727 non-null    object\n",
      " 11  Số tiền vay          727 non-null    object\n",
      " 12  Thời gian vay        727 non-null    object\n",
      " 13  Lãi xuất (%)         727 non-null    object\n",
      " 14  Loại hình            727 non-null    object\n",
      " 15  Giá trị xe muốn mua  727 non-null    object\n",
      "dtypes: int64(1), object(15)\n",
      "memory usage: 91.0+ KB\n"
     ]
    }
   ],
   "source": [
    "df.info()"
   ]
  },
  {
   "cell_type": "code",
   "execution_count": 71,
   "id": "cb9474c0",
   "metadata": {},
   "outputs": [
    {
     "name": "stdout",
     "output_type": "stream",
     "text": [
      "Name : 153\n",
      "Price : 343\n",
      "Năm SX : 705\n",
      "Kiểu dáng : 714\n",
      "Tình trạng : 726\n",
      "Xuất xứ : 725\n",
      "Km đã đi : 525\n",
      "Tỉnh thành : 706\n",
      "Quận huyện : 674\n",
      "Hộp số : 725\n",
      "Nhiên liệu : 723\n",
      "Số tiền vay : 726\n",
      "Thời gian vay : 726\n",
      "Lãi xuất (%) : 726\n",
      "Loại hình : 726\n",
      "Giá trị xe muốn mua : 726\n"
     ]
    }
   ],
   "source": [
    "for i in df.columns :\n",
    "    dup = df[i].duplicated().sum()\n",
    "    print(f\"{i} : {dup}\")"
   ]
  },
  {
   "cell_type": "code",
   "execution_count": 72,
   "id": "e23750cc",
   "metadata": {},
   "outputs": [
    {
     "name": "stdout",
     "output_type": "stream",
     "text": [
      "Name : 574\n",
      "Price : 384\n",
      "Năm SX : 22\n",
      "Kiểu dáng : 12\n",
      "Tình trạng : 1\n",
      "Xuất xứ : 2\n",
      "Km đã đi : 201\n",
      "Tỉnh thành : 21\n",
      "Quận huyện : 52\n",
      "Hộp số : 2\n",
      "Nhiên liệu : 4\n",
      "Số tiền vay : 1\n",
      "Thời gian vay : 1\n",
      "Lãi xuất (%) : 1\n",
      "Loại hình : 1\n",
      "Giá trị xe muốn mua : 1\n"
     ]
    }
   ],
   "source": [
    "for i in df.columns :\n",
    "    print(f\"{i} : {df[i].nunique()}\")"
   ]
  },
  {
   "cell_type": "code",
   "execution_count": 73,
   "id": "23a8c4bb",
   "metadata": {},
   "outputs": [],
   "source": [
    "df = df.drop([\"Giá trị xe muốn mua\",\"Loại hình\",\"Lãi xuất (%)\",\"Thời gian vay\",\"Số tiền vay\",\"Tình trạng\"],axis=1)"
   ]
  },
  {
   "cell_type": "code",
   "execution_count": 74,
   "id": "64dfac6f",
   "metadata": {},
   "outputs": [
    {
     "name": "stdout",
     "output_type": "stream",
     "text": [
      "<class 'pandas.core.frame.DataFrame'>\n",
      "RangeIndex: 727 entries, 0 to 726\n",
      "Data columns (total 10 columns):\n",
      " #   Column      Non-Null Count  Dtype \n",
      "---  ------      --------------  ----- \n",
      " 0   Name        727 non-null    object\n",
      " 1   Price       727 non-null    object\n",
      " 2   Năm SX      727 non-null    int64 \n",
      " 3   Kiểu dáng   665 non-null    object\n",
      " 4   Xuất xứ     727 non-null    object\n",
      " 5   Km đã đi    725 non-null    object\n",
      " 6   Tỉnh thành  727 non-null    object\n",
      " 7   Quận huyện  715 non-null    object\n",
      " 8   Hộp số      727 non-null    object\n",
      " 9   Nhiên liệu  727 non-null    object\n",
      "dtypes: int64(1), object(9)\n",
      "memory usage: 56.9+ KB\n"
     ]
    }
   ],
   "source": [
    "df.info()"
   ]
  },
  {
   "cell_type": "code",
   "execution_count": 75,
   "id": "d29cfee1",
   "metadata": {},
   "outputs": [],
   "source": [
    "df.rename(columns={\n",
    "    'Name': 'Name',\n",
    "    'Price': 'Price',\n",
    "    'Năm SX': 'Year',\n",
    "    'Kiểu dáng': 'Body_Type',\n",
    "    'Xuất xứ': 'Origin',\n",
    "    'Km đã đi': 'Mileage',\n",
    "    'Tỉnh thành': 'Province',\n",
    "    'Quận huyện': 'District',\n",
    "    'Hộp số': 'Transmission',\n",
    "    'Nhiên liệu': 'Fuel_Type'\n",
    "}, inplace=True)\n"
   ]
  },
  {
   "cell_type": "code",
   "execution_count": 76,
   "id": "b5b492e6",
   "metadata": {},
   "outputs": [
    {
     "name": "stdout",
     "output_type": "stream",
     "text": [
      "<class 'pandas.core.frame.DataFrame'>\n",
      "RangeIndex: 727 entries, 0 to 726\n",
      "Data columns (total 10 columns):\n",
      " #   Column        Non-Null Count  Dtype \n",
      "---  ------        --------------  ----- \n",
      " 0   Name          727 non-null    object\n",
      " 1   Price         727 non-null    object\n",
      " 2   Year          727 non-null    int64 \n",
      " 3   Body_Type     665 non-null    object\n",
      " 4   Origin        727 non-null    object\n",
      " 5   Mileage       725 non-null    object\n",
      " 6   Province      727 non-null    object\n",
      " 7   District      715 non-null    object\n",
      " 8   Transmission  727 non-null    object\n",
      " 9   Fuel_Type     727 non-null    object\n",
      "dtypes: int64(1), object(9)\n",
      "memory usage: 56.9+ KB\n"
     ]
    }
   ],
   "source": [
    "df.info()"
   ]
  },
  {
   "cell_type": "code",
   "execution_count": 77,
   "id": "e0888d9e",
   "metadata": {},
   "outputs": [
    {
     "data": {
      "text/plain": [
       "Name             0\n",
       "Price            0\n",
       "Year             0\n",
       "Body_Type       62\n",
       "Origin           0\n",
       "Mileage          2\n",
       "Province         0\n",
       "District        12\n",
       "Transmission     0\n",
       "Fuel_Type        0\n",
       "dtype: int64"
      ]
     },
     "execution_count": 77,
     "metadata": {},
     "output_type": "execute_result"
    }
   ],
   "source": [
    "df.isna().sum()"
   ]
  },
  {
   "cell_type": "code",
   "execution_count": 78,
   "id": "32bfab9e",
   "metadata": {},
   "outputs": [
    {
     "data": {
      "text/html": [
       "<div>\n",
       "<style scoped>\n",
       "    .dataframe tbody tr th:only-of-type {\n",
       "        vertical-align: middle;\n",
       "    }\n",
       "\n",
       "    .dataframe tbody tr th {\n",
       "        vertical-align: top;\n",
       "    }\n",
       "\n",
       "    .dataframe thead th {\n",
       "        text-align: right;\n",
       "    }\n",
       "</style>\n",
       "<table border=\"1\" class=\"dataframe\">\n",
       "  <thead>\n",
       "    <tr style=\"text-align: right;\">\n",
       "      <th></th>\n",
       "      <th>Name</th>\n",
       "      <th>Price</th>\n",
       "      <th>Year</th>\n",
       "      <th>Body_Type</th>\n",
       "      <th>Origin</th>\n",
       "      <th>Mileage</th>\n",
       "      <th>Province</th>\n",
       "      <th>District</th>\n",
       "      <th>Transmission</th>\n",
       "      <th>Fuel_Type</th>\n",
       "    </tr>\n",
       "  </thead>\n",
       "  <tbody>\n",
       "    <tr>\n",
       "      <th>0</th>\n",
       "      <td>Mercedes-Benz AMG G63 4.0 v8 2021</td>\n",
       "      <td>9 tỉ 200 triệu</td>\n",
       "      <td>2021</td>\n",
       "      <td>SUV</td>\n",
       "      <td>Nhập khẩu</td>\n",
       "      <td>30.000 km</td>\n",
       "      <td>Hà Nội</td>\n",
       "      <td>Tây Hồ</td>\n",
       "      <td>Số tự động</td>\n",
       "      <td>Máy xăng</td>\n",
       "    </tr>\n",
       "    <tr>\n",
       "      <th>1</th>\n",
       "      <td>Mercedes-Benz E250 2023</td>\n",
       "      <td>870 triệu</td>\n",
       "      <td>2023</td>\n",
       "      <td>Sedan</td>\n",
       "      <td>Nhập khẩu</td>\n",
       "      <td>45.000 km</td>\n",
       "      <td>Hà Nội</td>\n",
       "      <td>Nam Từ Liêm</td>\n",
       "      <td>Số tự động</td>\n",
       "      <td>Máy xăng</td>\n",
       "    </tr>\n",
       "    <tr>\n",
       "      <th>2</th>\n",
       "      <td>Toyota Camry 2.4G 2012</td>\n",
       "      <td>360 triệu</td>\n",
       "      <td>2012</td>\n",
       "      <td>Sedan</td>\n",
       "      <td>Trong nước</td>\n",
       "      <td>120.000 km</td>\n",
       "      <td>Hà Nội</td>\n",
       "      <td>NaN</td>\n",
       "      <td>Số tự động</td>\n",
       "      <td>Máy xăng</td>\n",
       "    </tr>\n",
       "    <tr>\n",
       "      <th>3</th>\n",
       "      <td>Ford Territory Titanium X 2023</td>\n",
       "      <td>770 triệu</td>\n",
       "      <td>2023</td>\n",
       "      <td>SUV</td>\n",
       "      <td>Nhập khẩu</td>\n",
       "      <td>27.000 km</td>\n",
       "      <td>Tp.HCM</td>\n",
       "      <td>Quận 10</td>\n",
       "      <td>Số tự động</td>\n",
       "      <td>Máy xăng</td>\n",
       "    </tr>\n",
       "    <tr>\n",
       "      <th>4</th>\n",
       "      <td>Mazda CX-5 2022</td>\n",
       "      <td>740 triệu</td>\n",
       "      <td>2022</td>\n",
       "      <td>SUV</td>\n",
       "      <td>Trong nước</td>\n",
       "      <td>30.000 km</td>\n",
       "      <td>Hà Nội</td>\n",
       "      <td>Nam Từ Liêm</td>\n",
       "      <td>Số tự động</td>\n",
       "      <td>Máy xăng</td>\n",
       "    </tr>\n",
       "  </tbody>\n",
       "</table>\n",
       "</div>"
      ],
      "text/plain": [
       "                                Name           Price  Year Body_Type  \\\n",
       "0  Mercedes-Benz AMG G63 4.0 v8 2021  9 tỉ 200 triệu  2021       SUV   \n",
       "1            Mercedes-Benz E250 2023       870 triệu  2023     Sedan   \n",
       "2             Toyota Camry 2.4G 2012       360 triệu  2012     Sedan   \n",
       "3     Ford Territory Titanium X 2023       770 triệu  2023       SUV   \n",
       "4                    Mazda CX-5 2022       740 triệu  2022       SUV   \n",
       "\n",
       "       Origin     Mileage Province     District Transmission Fuel_Type  \n",
       "0   Nhập khẩu   30.000 km   Hà Nội       Tây Hồ   Số tự động  Máy xăng  \n",
       "1   Nhập khẩu   45.000 km   Hà Nội  Nam Từ Liêm   Số tự động  Máy xăng  \n",
       "2  Trong nước  120.000 km   Hà Nội          NaN   Số tự động  Máy xăng  \n",
       "3   Nhập khẩu   27.000 km   Tp.HCM      Quận 10   Số tự động  Máy xăng  \n",
       "4  Trong nước   30.000 km   Hà Nội  Nam Từ Liêm   Số tự động  Máy xăng  "
      ]
     },
     "execution_count": 78,
     "metadata": {},
     "output_type": "execute_result"
    }
   ],
   "source": [
    "df.head()"
   ]
  },
  {
   "cell_type": "markdown",
   "id": "a801302f",
   "metadata": {},
   "source": [
    "1. Name"
   ]
  },
  {
   "cell_type": "code",
   "execution_count": 79,
   "id": "42b6a076",
   "metadata": {},
   "outputs": [
    {
     "data": {
      "text/plain": [
       "0    Mercedes-Benz AMG G63 4.0 v8 2021\n",
       "1              Mercedes-Benz E250 2023\n",
       "2               Toyota Camry 2.4G 2012\n",
       "3       Ford Territory Titanium X 2023\n",
       "4                      Mazda CX-5 2022\n",
       "Name: Name, dtype: object"
      ]
     },
     "execution_count": 79,
     "metadata": {},
     "output_type": "execute_result"
    }
   ],
   "source": [
    "df.Name.head()"
   ]
  },
  {
   "cell_type": "code",
   "execution_count": 80,
   "id": "cec546d4",
   "metadata": {},
   "outputs": [],
   "source": [
    "df[\"Brand\"] = df[\"Name\"].str.strip().str.split().str[0]"
   ]
  },
  {
   "cell_type": "code",
   "execution_count": 81,
   "id": "1ec01bc6",
   "metadata": {},
   "outputs": [
    {
     "data": {
      "text/html": [
       "<div>\n",
       "<style scoped>\n",
       "    .dataframe tbody tr th:only-of-type {\n",
       "        vertical-align: middle;\n",
       "    }\n",
       "\n",
       "    .dataframe tbody tr th {\n",
       "        vertical-align: top;\n",
       "    }\n",
       "\n",
       "    .dataframe thead th {\n",
       "        text-align: right;\n",
       "    }\n",
       "</style>\n",
       "<table border=\"1\" class=\"dataframe\">\n",
       "  <thead>\n",
       "    <tr style=\"text-align: right;\">\n",
       "      <th></th>\n",
       "      <th>Name</th>\n",
       "      <th>Price</th>\n",
       "      <th>Year</th>\n",
       "      <th>Body_Type</th>\n",
       "      <th>Origin</th>\n",
       "      <th>Mileage</th>\n",
       "      <th>Province</th>\n",
       "      <th>District</th>\n",
       "      <th>Transmission</th>\n",
       "      <th>Fuel_Type</th>\n",
       "      <th>Brand</th>\n",
       "    </tr>\n",
       "  </thead>\n",
       "  <tbody>\n",
       "    <tr>\n",
       "      <th>0</th>\n",
       "      <td>Mercedes-Benz AMG G63 4.0 v8 2021</td>\n",
       "      <td>9 tỉ 200 triệu</td>\n",
       "      <td>2021</td>\n",
       "      <td>SUV</td>\n",
       "      <td>Nhập khẩu</td>\n",
       "      <td>30.000 km</td>\n",
       "      <td>Hà Nội</td>\n",
       "      <td>Tây Hồ</td>\n",
       "      <td>Số tự động</td>\n",
       "      <td>Máy xăng</td>\n",
       "      <td>Mercedes-Benz</td>\n",
       "    </tr>\n",
       "    <tr>\n",
       "      <th>1</th>\n",
       "      <td>Mercedes-Benz E250 2023</td>\n",
       "      <td>870 triệu</td>\n",
       "      <td>2023</td>\n",
       "      <td>Sedan</td>\n",
       "      <td>Nhập khẩu</td>\n",
       "      <td>45.000 km</td>\n",
       "      <td>Hà Nội</td>\n",
       "      <td>Nam Từ Liêm</td>\n",
       "      <td>Số tự động</td>\n",
       "      <td>Máy xăng</td>\n",
       "      <td>Mercedes-Benz</td>\n",
       "    </tr>\n",
       "    <tr>\n",
       "      <th>2</th>\n",
       "      <td>Toyota Camry 2.4G 2012</td>\n",
       "      <td>360 triệu</td>\n",
       "      <td>2012</td>\n",
       "      <td>Sedan</td>\n",
       "      <td>Trong nước</td>\n",
       "      <td>120.000 km</td>\n",
       "      <td>Hà Nội</td>\n",
       "      <td>NaN</td>\n",
       "      <td>Số tự động</td>\n",
       "      <td>Máy xăng</td>\n",
       "      <td>Toyota</td>\n",
       "    </tr>\n",
       "    <tr>\n",
       "      <th>3</th>\n",
       "      <td>Ford Territory Titanium X 2023</td>\n",
       "      <td>770 triệu</td>\n",
       "      <td>2023</td>\n",
       "      <td>SUV</td>\n",
       "      <td>Nhập khẩu</td>\n",
       "      <td>27.000 km</td>\n",
       "      <td>Tp.HCM</td>\n",
       "      <td>Quận 10</td>\n",
       "      <td>Số tự động</td>\n",
       "      <td>Máy xăng</td>\n",
       "      <td>Ford</td>\n",
       "    </tr>\n",
       "    <tr>\n",
       "      <th>4</th>\n",
       "      <td>Mazda CX-5 2022</td>\n",
       "      <td>740 triệu</td>\n",
       "      <td>2022</td>\n",
       "      <td>SUV</td>\n",
       "      <td>Trong nước</td>\n",
       "      <td>30.000 km</td>\n",
       "      <td>Hà Nội</td>\n",
       "      <td>Nam Từ Liêm</td>\n",
       "      <td>Số tự động</td>\n",
       "      <td>Máy xăng</td>\n",
       "      <td>Mazda</td>\n",
       "    </tr>\n",
       "  </tbody>\n",
       "</table>\n",
       "</div>"
      ],
      "text/plain": [
       "                                Name           Price  Year Body_Type  \\\n",
       "0  Mercedes-Benz AMG G63 4.0 v8 2021  9 tỉ 200 triệu  2021       SUV   \n",
       "1            Mercedes-Benz E250 2023       870 triệu  2023     Sedan   \n",
       "2             Toyota Camry 2.4G 2012       360 triệu  2012     Sedan   \n",
       "3     Ford Territory Titanium X 2023       770 triệu  2023       SUV   \n",
       "4                    Mazda CX-5 2022       740 triệu  2022       SUV   \n",
       "\n",
       "       Origin     Mileage Province     District Transmission Fuel_Type  \\\n",
       "0   Nhập khẩu   30.000 km   Hà Nội       Tây Hồ   Số tự động  Máy xăng   \n",
       "1   Nhập khẩu   45.000 km   Hà Nội  Nam Từ Liêm   Số tự động  Máy xăng   \n",
       "2  Trong nước  120.000 km   Hà Nội          NaN   Số tự động  Máy xăng   \n",
       "3   Nhập khẩu   27.000 km   Tp.HCM      Quận 10   Số tự động  Máy xăng   \n",
       "4  Trong nước   30.000 km   Hà Nội  Nam Từ Liêm   Số tự động  Máy xăng   \n",
       "\n",
       "           Brand  \n",
       "0  Mercedes-Benz  \n",
       "1  Mercedes-Benz  \n",
       "2         Toyota  \n",
       "3           Ford  \n",
       "4          Mazda  "
      ]
     },
     "execution_count": 81,
     "metadata": {},
     "output_type": "execute_result"
    }
   ],
   "source": [
    "df.head()"
   ]
  },
  {
   "cell_type": "markdown",
   "id": "ff9e2dd3",
   "metadata": {},
   "source": [
    "2.Price"
   ]
  },
  {
   "cell_type": "code",
   "execution_count": 82,
   "id": "1c31c63a",
   "metadata": {},
   "outputs": [
    {
     "data": {
      "text/plain": [
       "0    9 tỉ 200 triệu\n",
       "1         870 triệu\n",
       "2         360 triệu\n",
       "3         770 triệu\n",
       "4         740 triệu\n",
       "Name: Price, dtype: object"
      ]
     },
     "execution_count": 82,
     "metadata": {},
     "output_type": "execute_result"
    }
   ],
   "source": [
    "df.Price.head()"
   ]
  },
  {
   "cell_type": "code",
   "execution_count": 83,
   "id": "95761189",
   "metadata": {},
   "outputs": [],
   "source": [
    "def convert_price(price_str):\n",
    "    price_str = price_str.strip().lower()\n",
    "    price = 0\n",
    "    if \"tỉ\" in price_str:\n",
    "        parts = price_str.split(\"tỉ\")\n",
    "        ty = int(parts[0].strip())\n",
    "        price += ty * 1_000_000_000\n",
    "        if \"triệu\" in parts[1]:\n",
    "            trieu = int(parts[1].replace(\"triệu\", \"\").strip())\n",
    "            price += trieu * 1_000_000\n",
    "    elif \"triệu\" in price_str:\n",
    "        trieu = int(price_str.replace(\"triệu\", \"\").strip())\n",
    "        price += trieu * 1_000_000\n",
    "    return price\n",
    "\n",
    "df[\"price_num\"] = df[\"Price\"].apply(convert_price)"
   ]
  },
  {
   "cell_type": "code",
   "execution_count": 84,
   "id": "729ce80f",
   "metadata": {},
   "outputs": [
    {
     "data": {
      "text/html": [
       "<div>\n",
       "<style scoped>\n",
       "    .dataframe tbody tr th:only-of-type {\n",
       "        vertical-align: middle;\n",
       "    }\n",
       "\n",
       "    .dataframe tbody tr th {\n",
       "        vertical-align: top;\n",
       "    }\n",
       "\n",
       "    .dataframe thead th {\n",
       "        text-align: right;\n",
       "    }\n",
       "</style>\n",
       "<table border=\"1\" class=\"dataframe\">\n",
       "  <thead>\n",
       "    <tr style=\"text-align: right;\">\n",
       "      <th></th>\n",
       "      <th>Name</th>\n",
       "      <th>Price</th>\n",
       "      <th>Year</th>\n",
       "      <th>Body_Type</th>\n",
       "      <th>Origin</th>\n",
       "      <th>Mileage</th>\n",
       "      <th>Province</th>\n",
       "      <th>District</th>\n",
       "      <th>Transmission</th>\n",
       "      <th>Fuel_Type</th>\n",
       "      <th>Brand</th>\n",
       "      <th>price_num</th>\n",
       "    </tr>\n",
       "  </thead>\n",
       "  <tbody>\n",
       "    <tr>\n",
       "      <th>0</th>\n",
       "      <td>Mercedes-Benz AMG G63 4.0 v8 2021</td>\n",
       "      <td>9 tỉ 200 triệu</td>\n",
       "      <td>2021</td>\n",
       "      <td>SUV</td>\n",
       "      <td>Nhập khẩu</td>\n",
       "      <td>30.000 km</td>\n",
       "      <td>Hà Nội</td>\n",
       "      <td>Tây Hồ</td>\n",
       "      <td>Số tự động</td>\n",
       "      <td>Máy xăng</td>\n",
       "      <td>Mercedes-Benz</td>\n",
       "      <td>9200000000</td>\n",
       "    </tr>\n",
       "    <tr>\n",
       "      <th>1</th>\n",
       "      <td>Mercedes-Benz E250 2023</td>\n",
       "      <td>870 triệu</td>\n",
       "      <td>2023</td>\n",
       "      <td>Sedan</td>\n",
       "      <td>Nhập khẩu</td>\n",
       "      <td>45.000 km</td>\n",
       "      <td>Hà Nội</td>\n",
       "      <td>Nam Từ Liêm</td>\n",
       "      <td>Số tự động</td>\n",
       "      <td>Máy xăng</td>\n",
       "      <td>Mercedes-Benz</td>\n",
       "      <td>870000000</td>\n",
       "    </tr>\n",
       "    <tr>\n",
       "      <th>2</th>\n",
       "      <td>Toyota Camry 2.4G 2012</td>\n",
       "      <td>360 triệu</td>\n",
       "      <td>2012</td>\n",
       "      <td>Sedan</td>\n",
       "      <td>Trong nước</td>\n",
       "      <td>120.000 km</td>\n",
       "      <td>Hà Nội</td>\n",
       "      <td>NaN</td>\n",
       "      <td>Số tự động</td>\n",
       "      <td>Máy xăng</td>\n",
       "      <td>Toyota</td>\n",
       "      <td>360000000</td>\n",
       "    </tr>\n",
       "    <tr>\n",
       "      <th>3</th>\n",
       "      <td>Ford Territory Titanium X 2023</td>\n",
       "      <td>770 triệu</td>\n",
       "      <td>2023</td>\n",
       "      <td>SUV</td>\n",
       "      <td>Nhập khẩu</td>\n",
       "      <td>27.000 km</td>\n",
       "      <td>Tp.HCM</td>\n",
       "      <td>Quận 10</td>\n",
       "      <td>Số tự động</td>\n",
       "      <td>Máy xăng</td>\n",
       "      <td>Ford</td>\n",
       "      <td>770000000</td>\n",
       "    </tr>\n",
       "    <tr>\n",
       "      <th>4</th>\n",
       "      <td>Mazda CX-5 2022</td>\n",
       "      <td>740 triệu</td>\n",
       "      <td>2022</td>\n",
       "      <td>SUV</td>\n",
       "      <td>Trong nước</td>\n",
       "      <td>30.000 km</td>\n",
       "      <td>Hà Nội</td>\n",
       "      <td>Nam Từ Liêm</td>\n",
       "      <td>Số tự động</td>\n",
       "      <td>Máy xăng</td>\n",
       "      <td>Mazda</td>\n",
       "      <td>740000000</td>\n",
       "    </tr>\n",
       "  </tbody>\n",
       "</table>\n",
       "</div>"
      ],
      "text/plain": [
       "                                Name           Price  Year Body_Type  \\\n",
       "0  Mercedes-Benz AMG G63 4.0 v8 2021  9 tỉ 200 triệu  2021       SUV   \n",
       "1            Mercedes-Benz E250 2023       870 triệu  2023     Sedan   \n",
       "2             Toyota Camry 2.4G 2012       360 triệu  2012     Sedan   \n",
       "3     Ford Territory Titanium X 2023       770 triệu  2023       SUV   \n",
       "4                    Mazda CX-5 2022       740 triệu  2022       SUV   \n",
       "\n",
       "       Origin     Mileage Province     District Transmission Fuel_Type  \\\n",
       "0   Nhập khẩu   30.000 km   Hà Nội       Tây Hồ   Số tự động  Máy xăng   \n",
       "1   Nhập khẩu   45.000 km   Hà Nội  Nam Từ Liêm   Số tự động  Máy xăng   \n",
       "2  Trong nước  120.000 km   Hà Nội          NaN   Số tự động  Máy xăng   \n",
       "3   Nhập khẩu   27.000 km   Tp.HCM      Quận 10   Số tự động  Máy xăng   \n",
       "4  Trong nước   30.000 km   Hà Nội  Nam Từ Liêm   Số tự động  Máy xăng   \n",
       "\n",
       "           Brand   price_num  \n",
       "0  Mercedes-Benz  9200000000  \n",
       "1  Mercedes-Benz   870000000  \n",
       "2         Toyota   360000000  \n",
       "3           Ford   770000000  \n",
       "4          Mazda   740000000  "
      ]
     },
     "execution_count": 84,
     "metadata": {},
     "output_type": "execute_result"
    }
   ],
   "source": [
    "df.head()"
   ]
  },
  {
   "cell_type": "code",
   "execution_count": 85,
   "id": "c7185b70",
   "metadata": {},
   "outputs": [],
   "source": [
    "df = df.drop(\"Price\",axis=1)"
   ]
  },
  {
   "cell_type": "code",
   "execution_count": 86,
   "id": "27b5df92",
   "metadata": {},
   "outputs": [],
   "source": [
    "Q1 = df['price_num'].quantile(0.25)\n",
    "Q3 = df['price_num'].quantile(0.75)\n",
    "IQR = Q3 - Q1\n",
    "\n",
    "df = df[(df['price_num'] >= Q1 - 1.5 * IQR) & (df['price_num'] <= Q3 + 1.5 * IQR)]\n"
   ]
  },
  {
   "cell_type": "markdown",
   "id": "acb33ee0",
   "metadata": {},
   "source": [
    "3.Year"
   ]
  },
  {
   "cell_type": "code",
   "execution_count": 87,
   "id": "316b208d",
   "metadata": {},
   "outputs": [
    {
     "data": {
      "text/plain": [
       "1    2023\n",
       "2    2012\n",
       "3    2023\n",
       "4    2022\n",
       "5    2010\n",
       "Name: Year, dtype: int64"
      ]
     },
     "execution_count": 87,
     "metadata": {},
     "output_type": "execute_result"
    }
   ],
   "source": [
    "df.Year.head()"
   ]
  },
  {
   "cell_type": "code",
   "execution_count": 88,
   "id": "a0b4b26d",
   "metadata": {},
   "outputs": [],
   "source": [
    "df.Year = df.Year.astype(int)"
   ]
  },
  {
   "cell_type": "code",
   "execution_count": 89,
   "id": "b810c4ba",
   "metadata": {},
   "outputs": [],
   "source": [
    "df[\"age\"] = 2025 - df[\"Year\"]"
   ]
  },
  {
   "cell_type": "markdown",
   "id": "5541b890",
   "metadata": {},
   "source": [
    "4.Body_Type"
   ]
  },
  {
   "cell_type": "code",
   "execution_count": 90,
   "id": "9936e5af",
   "metadata": {},
   "outputs": [
    {
     "data": {
      "text/plain": [
       "array(['Sedan', 'SUV', 'Van/Minivan', nan, 'MPV', 'Bán tải', 'Crossover',\n",
       "       'Xe tải', 'Hatchback', 'Sport Car', 'Coupe', 'Convertible',\n",
       "       'Minibus'], dtype=object)"
      ]
     },
     "execution_count": 90,
     "metadata": {},
     "output_type": "execute_result"
    }
   ],
   "source": [
    "df.Body_Type.unique()"
   ]
  },
  {
   "cell_type": "code",
   "execution_count": 91,
   "id": "912c9026",
   "metadata": {},
   "outputs": [
    {
     "data": {
      "text/plain": [
       "Body_Type\n",
       "SUV            231\n",
       "Sedan          204\n",
       "Hatchback       42\n",
       "Bán tải         40\n",
       "MPV             39\n",
       "Van/Minivan     18\n",
       "Crossover       14\n",
       "Xe tải           3\n",
       "Coupe            3\n",
       "Sport Car        2\n",
       "Convertible      2\n",
       "Minibus          1\n",
       "Name: count, dtype: int64"
      ]
     },
     "execution_count": 91,
     "metadata": {},
     "output_type": "execute_result"
    }
   ],
   "source": [
    "df.Body_Type.value_counts()"
   ]
  },
  {
   "cell_type": "code",
   "execution_count": 92,
   "id": "0d17562a",
   "metadata": {},
   "outputs": [],
   "source": [
    "df.loc[df[\"Body_Type\"].isna() , \"Body_Type\"] = \"Other\""
   ]
  },
  {
   "cell_type": "markdown",
   "id": "e934e7bc",
   "metadata": {},
   "source": [
    "5.Origin"
   ]
  },
  {
   "cell_type": "code",
   "execution_count": 93,
   "id": "09f6b6f2",
   "metadata": {},
   "outputs": [
    {
     "data": {
      "text/plain": [
       "0"
      ]
     },
     "execution_count": 93,
     "metadata": {},
     "output_type": "execute_result"
    }
   ],
   "source": [
    "df.Origin.isna().sum()"
   ]
  },
  {
   "cell_type": "code",
   "execution_count": 94,
   "id": "77f5ff86",
   "metadata": {},
   "outputs": [
    {
     "data": {
      "text/plain": [
       "Origin\n",
       "Trong nước    428\n",
       "Nhập khẩu     219\n",
       "Name: count, dtype: int64"
      ]
     },
     "execution_count": 94,
     "metadata": {},
     "output_type": "execute_result"
    }
   ],
   "source": [
    "df.Origin.value_counts()"
   ]
  },
  {
   "cell_type": "markdown",
   "id": "9cebeb75",
   "metadata": {},
   "source": [
    "6.Mileage"
   ]
  },
  {
   "cell_type": "code",
   "execution_count": 95,
   "id": "ec064cdc",
   "metadata": {},
   "outputs": [
    {
     "data": {
      "text/plain": [
       "1     45.000 km\n",
       "2    120.000 km\n",
       "3     27.000 km\n",
       "4     30.000 km\n",
       "5     50.000 km\n",
       "Name: Mileage, dtype: object"
      ]
     },
     "execution_count": 95,
     "metadata": {},
     "output_type": "execute_result"
    }
   ],
   "source": [
    "df.Mileage.head()"
   ]
  },
  {
   "cell_type": "code",
   "execution_count": 96,
   "id": "2c93fa3d",
   "metadata": {},
   "outputs": [
    {
     "data": {
      "text/plain": [
       "2"
      ]
     },
     "execution_count": 96,
     "metadata": {},
     "output_type": "execute_result"
    }
   ],
   "source": [
    "df.Mileage.isna().sum()"
   ]
  },
  {
   "cell_type": "code",
   "execution_count": 97,
   "id": "21ea09a5",
   "metadata": {},
   "outputs": [
    {
     "data": {
      "text/plain": [
       "count           645\n",
       "unique          185\n",
       "top       80.000 km\n",
       "freq             28\n",
       "Name: Mileage, dtype: object"
      ]
     },
     "execution_count": 97,
     "metadata": {},
     "output_type": "execute_result"
    }
   ],
   "source": [
    "df.Mileage.describe()"
   ]
  },
  {
   "cell_type": "code",
   "execution_count": 98,
   "id": "1cf167c4",
   "metadata": {},
   "outputs": [],
   "source": [
    "df.loc[df[\"Mileage\"].isna(),\"Mileage\"] = \"80.000 km\""
   ]
  },
  {
   "cell_type": "code",
   "execution_count": 99,
   "id": "c20f6a33",
   "metadata": {},
   "outputs": [],
   "source": [
    "df['mileage_num'] = df['Mileage'].str.replace('.', '', regex=False) \\\n",
    "                                  .str.replace(' km', '', regex=False) \\\n",
    "                                  .astype(int)"
   ]
  },
  {
   "cell_type": "code",
   "execution_count": 100,
   "id": "c746f8cd",
   "metadata": {},
   "outputs": [
    {
     "data": {
      "text/html": [
       "<div>\n",
       "<style scoped>\n",
       "    .dataframe tbody tr th:only-of-type {\n",
       "        vertical-align: middle;\n",
       "    }\n",
       "\n",
       "    .dataframe tbody tr th {\n",
       "        vertical-align: top;\n",
       "    }\n",
       "\n",
       "    .dataframe thead th {\n",
       "        text-align: right;\n",
       "    }\n",
       "</style>\n",
       "<table border=\"1\" class=\"dataframe\">\n",
       "  <thead>\n",
       "    <tr style=\"text-align: right;\">\n",
       "      <th></th>\n",
       "      <th>Name</th>\n",
       "      <th>Year</th>\n",
       "      <th>Body_Type</th>\n",
       "      <th>Origin</th>\n",
       "      <th>Mileage</th>\n",
       "      <th>Province</th>\n",
       "      <th>District</th>\n",
       "      <th>Transmission</th>\n",
       "      <th>Fuel_Type</th>\n",
       "      <th>Brand</th>\n",
       "      <th>price_num</th>\n",
       "      <th>age</th>\n",
       "      <th>mileage_num</th>\n",
       "    </tr>\n",
       "  </thead>\n",
       "  <tbody>\n",
       "    <tr>\n",
       "      <th>1</th>\n",
       "      <td>Mercedes-Benz E250 2023</td>\n",
       "      <td>2023</td>\n",
       "      <td>Sedan</td>\n",
       "      <td>Nhập khẩu</td>\n",
       "      <td>45.000 km</td>\n",
       "      <td>Hà Nội</td>\n",
       "      <td>Nam Từ Liêm</td>\n",
       "      <td>Số tự động</td>\n",
       "      <td>Máy xăng</td>\n",
       "      <td>Mercedes-Benz</td>\n",
       "      <td>870000000</td>\n",
       "      <td>2</td>\n",
       "      <td>45000</td>\n",
       "    </tr>\n",
       "    <tr>\n",
       "      <th>2</th>\n",
       "      <td>Toyota Camry 2.4G 2012</td>\n",
       "      <td>2012</td>\n",
       "      <td>Sedan</td>\n",
       "      <td>Trong nước</td>\n",
       "      <td>120.000 km</td>\n",
       "      <td>Hà Nội</td>\n",
       "      <td>NaN</td>\n",
       "      <td>Số tự động</td>\n",
       "      <td>Máy xăng</td>\n",
       "      <td>Toyota</td>\n",
       "      <td>360000000</td>\n",
       "      <td>13</td>\n",
       "      <td>120000</td>\n",
       "    </tr>\n",
       "    <tr>\n",
       "      <th>3</th>\n",
       "      <td>Ford Territory Titanium X 2023</td>\n",
       "      <td>2023</td>\n",
       "      <td>SUV</td>\n",
       "      <td>Nhập khẩu</td>\n",
       "      <td>27.000 km</td>\n",
       "      <td>Tp.HCM</td>\n",
       "      <td>Quận 10</td>\n",
       "      <td>Số tự động</td>\n",
       "      <td>Máy xăng</td>\n",
       "      <td>Ford</td>\n",
       "      <td>770000000</td>\n",
       "      <td>2</td>\n",
       "      <td>27000</td>\n",
       "    </tr>\n",
       "    <tr>\n",
       "      <th>4</th>\n",
       "      <td>Mazda CX-5 2022</td>\n",
       "      <td>2022</td>\n",
       "      <td>SUV</td>\n",
       "      <td>Trong nước</td>\n",
       "      <td>30.000 km</td>\n",
       "      <td>Hà Nội</td>\n",
       "      <td>Nam Từ Liêm</td>\n",
       "      <td>Số tự động</td>\n",
       "      <td>Máy xăng</td>\n",
       "      <td>Mazda</td>\n",
       "      <td>740000000</td>\n",
       "      <td>3</td>\n",
       "      <td>30000</td>\n",
       "    </tr>\n",
       "    <tr>\n",
       "      <th>5</th>\n",
       "      <td>Toyota Previa 2010</td>\n",
       "      <td>2010</td>\n",
       "      <td>Van/Minivan</td>\n",
       "      <td>Nhập khẩu</td>\n",
       "      <td>50.000 km</td>\n",
       "      <td>Tp.HCM</td>\n",
       "      <td>Quận 10</td>\n",
       "      <td>Số tự động</td>\n",
       "      <td>Máy xăng</td>\n",
       "      <td>Toyota</td>\n",
       "      <td>650000000</td>\n",
       "      <td>15</td>\n",
       "      <td>50000</td>\n",
       "    </tr>\n",
       "  </tbody>\n",
       "</table>\n",
       "</div>"
      ],
      "text/plain": [
       "                             Name  Year    Body_Type      Origin     Mileage  \\\n",
       "1         Mercedes-Benz E250 2023  2023        Sedan   Nhập khẩu   45.000 km   \n",
       "2          Toyota Camry 2.4G 2012  2012        Sedan  Trong nước  120.000 km   \n",
       "3  Ford Territory Titanium X 2023  2023          SUV   Nhập khẩu   27.000 km   \n",
       "4                 Mazda CX-5 2022  2022          SUV  Trong nước   30.000 km   \n",
       "5              Toyota Previa 2010  2010  Van/Minivan   Nhập khẩu   50.000 km   \n",
       "\n",
       "  Province     District Transmission Fuel_Type          Brand  price_num  age  \\\n",
       "1   Hà Nội  Nam Từ Liêm   Số tự động  Máy xăng  Mercedes-Benz  870000000    2   \n",
       "2   Hà Nội          NaN   Số tự động  Máy xăng         Toyota  360000000   13   \n",
       "3   Tp.HCM      Quận 10   Số tự động  Máy xăng           Ford  770000000    2   \n",
       "4   Hà Nội  Nam Từ Liêm   Số tự động  Máy xăng          Mazda  740000000    3   \n",
       "5   Tp.HCM      Quận 10   Số tự động  Máy xăng         Toyota  650000000   15   \n",
       "\n",
       "   mileage_num  \n",
       "1        45000  \n",
       "2       120000  \n",
       "3        27000  \n",
       "4        30000  \n",
       "5        50000  "
      ]
     },
     "execution_count": 100,
     "metadata": {},
     "output_type": "execute_result"
    }
   ],
   "source": [
    "df.head()"
   ]
  },
  {
   "cell_type": "code",
   "execution_count": 101,
   "id": "ba806e57",
   "metadata": {},
   "outputs": [],
   "source": [
    "df = df.drop(\"Mileage\",axis=1)"
   ]
  },
  {
   "cell_type": "code",
   "execution_count": 102,
   "id": "a7bb2a12",
   "metadata": {},
   "outputs": [
    {
     "data": {
      "text/plain": [
       "Index(['Name', 'Year', 'Body_Type', 'Origin', 'Province', 'District',\n",
       "       'Transmission', 'Fuel_Type', 'Brand', 'price_num', 'age',\n",
       "       'mileage_num'],\n",
       "      dtype='object')"
      ]
     },
     "execution_count": 102,
     "metadata": {},
     "output_type": "execute_result"
    }
   ],
   "source": [
    "df.columns"
   ]
  },
  {
   "cell_type": "markdown",
   "id": "c9aeb656",
   "metadata": {},
   "source": [
    "7.Province"
   ]
  },
  {
   "cell_type": "code",
   "execution_count": 103,
   "id": "94541b8a",
   "metadata": {},
   "outputs": [
    {
     "data": {
      "text/plain": [
       "1    Hà Nội\n",
       "2    Hà Nội\n",
       "3    Tp.HCM\n",
       "4    Hà Nội\n",
       "5    Tp.HCM\n",
       "Name: Province, dtype: object"
      ]
     },
     "execution_count": 103,
     "metadata": {},
     "output_type": "execute_result"
    }
   ],
   "source": [
    "df.Province.head()"
   ]
  },
  {
   "cell_type": "code",
   "execution_count": 104,
   "id": "c8f0be41",
   "metadata": {},
   "outputs": [
    {
     "data": {
      "text/plain": [
       "0"
      ]
     },
     "execution_count": 104,
     "metadata": {},
     "output_type": "execute_result"
    }
   ],
   "source": [
    "df.Province.isna().sum()"
   ]
  },
  {
   "cell_type": "code",
   "execution_count": 105,
   "id": "59d8b8da",
   "metadata": {},
   "outputs": [
    {
     "data": {
      "text/plain": [
       "21"
      ]
     },
     "execution_count": 105,
     "metadata": {},
     "output_type": "execute_result"
    }
   ],
   "source": [
    "df.Province.nunique()"
   ]
  },
  {
   "cell_type": "markdown",
   "id": "60b5930d",
   "metadata": {},
   "source": [
    "8.District"
   ]
  },
  {
   "cell_type": "code",
   "execution_count": 106,
   "id": "200d0312",
   "metadata": {},
   "outputs": [
    {
     "data": {
      "text/plain": [
       "12"
      ]
     },
     "execution_count": 106,
     "metadata": {},
     "output_type": "execute_result"
    }
   ],
   "source": [
    "df.District.isna().sum()"
   ]
  },
  {
   "cell_type": "code",
   "execution_count": 107,
   "id": "551c9042",
   "metadata": {},
   "outputs": [
    {
     "data": {
      "text/plain": [
       "count          635\n",
       "unique          52\n",
       "top       Cầu Giấy\n",
       "freq            77\n",
       "Name: District, dtype: object"
      ]
     },
     "execution_count": 107,
     "metadata": {},
     "output_type": "execute_result"
    }
   ],
   "source": [
    "df.District.describe()"
   ]
  },
  {
   "cell_type": "code",
   "execution_count": 108,
   "id": "aee0feba",
   "metadata": {},
   "outputs": [],
   "source": [
    "df.loc[df[\"District\"].isna(),\"District\"] = \"Other\""
   ]
  },
  {
   "cell_type": "markdown",
   "id": "0b541b2f",
   "metadata": {},
   "source": [
    "9.Transmission"
   ]
  },
  {
   "cell_type": "code",
   "execution_count": 109,
   "id": "3bbd33a4",
   "metadata": {},
   "outputs": [
    {
     "data": {
      "text/plain": [
       "1    Số tự động\n",
       "2    Số tự động\n",
       "3    Số tự động\n",
       "4    Số tự động\n",
       "5    Số tự động\n",
       "Name: Transmission, dtype: object"
      ]
     },
     "execution_count": 109,
     "metadata": {},
     "output_type": "execute_result"
    }
   ],
   "source": [
    "df.Transmission.head()"
   ]
  },
  {
   "cell_type": "code",
   "execution_count": 110,
   "id": "84036c9f",
   "metadata": {},
   "outputs": [
    {
     "data": {
      "text/plain": [
       "0"
      ]
     },
     "execution_count": 110,
     "metadata": {},
     "output_type": "execute_result"
    }
   ],
   "source": [
    "df.Transmission.isna().sum()"
   ]
  },
  {
   "cell_type": "code",
   "execution_count": 111,
   "id": "9cfec901",
   "metadata": {},
   "outputs": [
    {
     "data": {
      "text/plain": [
       "array(['Số tự động', 'Số sàn'], dtype=object)"
      ]
     },
     "execution_count": 111,
     "metadata": {},
     "output_type": "execute_result"
    }
   ],
   "source": [
    "df.Transmission.unique()"
   ]
  },
  {
   "cell_type": "code",
   "execution_count": 112,
   "id": "23d41659",
   "metadata": {},
   "outputs": [
    {
     "data": {
      "text/plain": [
       "Transmission\n",
       "Số tự động    565\n",
       "Số sàn         82\n",
       "Name: count, dtype: int64"
      ]
     },
     "execution_count": 112,
     "metadata": {},
     "output_type": "execute_result"
    }
   ],
   "source": [
    "df.Transmission.value_counts()"
   ]
  },
  {
   "cell_type": "markdown",
   "id": "6f3d60a6",
   "metadata": {},
   "source": [
    "10.Fuel_Type"
   ]
  },
  {
   "cell_type": "code",
   "execution_count": 113,
   "id": "879c1c77",
   "metadata": {},
   "outputs": [
    {
     "data": {
      "text/plain": [
       "1    Máy xăng\n",
       "2    Máy xăng\n",
       "3    Máy xăng\n",
       "4    Máy xăng\n",
       "5    Máy xăng\n",
       "Name: Fuel_Type, dtype: object"
      ]
     },
     "execution_count": 113,
     "metadata": {},
     "output_type": "execute_result"
    }
   ],
   "source": [
    "df.Fuel_Type.head()"
   ]
  },
  {
   "cell_type": "code",
   "execution_count": 114,
   "id": "2912ae5c",
   "metadata": {},
   "outputs": [
    {
     "data": {
      "text/plain": [
       "Fuel_Type\n",
       "Máy xăng    535\n",
       "Máy dầu     104\n",
       "Điện          5\n",
       "Hybrid        3\n",
       "Name: count, dtype: int64"
      ]
     },
     "execution_count": 114,
     "metadata": {},
     "output_type": "execute_result"
    }
   ],
   "source": [
    "df.Fuel_Type.value_counts()"
   ]
  },
  {
   "cell_type": "code",
   "execution_count": 115,
   "id": "828c6ae5",
   "metadata": {},
   "outputs": [
    {
     "data": {
      "text/html": [
       "<div>\n",
       "<style scoped>\n",
       "    .dataframe tbody tr th:only-of-type {\n",
       "        vertical-align: middle;\n",
       "    }\n",
       "\n",
       "    .dataframe tbody tr th {\n",
       "        vertical-align: top;\n",
       "    }\n",
       "\n",
       "    .dataframe thead th {\n",
       "        text-align: right;\n",
       "    }\n",
       "</style>\n",
       "<table border=\"1\" class=\"dataframe\">\n",
       "  <thead>\n",
       "    <tr style=\"text-align: right;\">\n",
       "      <th></th>\n",
       "      <th>Name</th>\n",
       "      <th>Year</th>\n",
       "      <th>Body_Type</th>\n",
       "      <th>Origin</th>\n",
       "      <th>Province</th>\n",
       "      <th>District</th>\n",
       "      <th>Transmission</th>\n",
       "      <th>Fuel_Type</th>\n",
       "      <th>Brand</th>\n",
       "      <th>price_num</th>\n",
       "      <th>age</th>\n",
       "      <th>mileage_num</th>\n",
       "    </tr>\n",
       "  </thead>\n",
       "  <tbody>\n",
       "    <tr>\n",
       "      <th>1</th>\n",
       "      <td>Mercedes-Benz E250 2023</td>\n",
       "      <td>2023</td>\n",
       "      <td>Sedan</td>\n",
       "      <td>Nhập khẩu</td>\n",
       "      <td>Hà Nội</td>\n",
       "      <td>Nam Từ Liêm</td>\n",
       "      <td>Số tự động</td>\n",
       "      <td>Máy xăng</td>\n",
       "      <td>Mercedes-Benz</td>\n",
       "      <td>870000000</td>\n",
       "      <td>2</td>\n",
       "      <td>45000</td>\n",
       "    </tr>\n",
       "    <tr>\n",
       "      <th>2</th>\n",
       "      <td>Toyota Camry 2.4G 2012</td>\n",
       "      <td>2012</td>\n",
       "      <td>Sedan</td>\n",
       "      <td>Trong nước</td>\n",
       "      <td>Hà Nội</td>\n",
       "      <td>Other</td>\n",
       "      <td>Số tự động</td>\n",
       "      <td>Máy xăng</td>\n",
       "      <td>Toyota</td>\n",
       "      <td>360000000</td>\n",
       "      <td>13</td>\n",
       "      <td>120000</td>\n",
       "    </tr>\n",
       "    <tr>\n",
       "      <th>3</th>\n",
       "      <td>Ford Territory Titanium X 2023</td>\n",
       "      <td>2023</td>\n",
       "      <td>SUV</td>\n",
       "      <td>Nhập khẩu</td>\n",
       "      <td>Tp.HCM</td>\n",
       "      <td>Quận 10</td>\n",
       "      <td>Số tự động</td>\n",
       "      <td>Máy xăng</td>\n",
       "      <td>Ford</td>\n",
       "      <td>770000000</td>\n",
       "      <td>2</td>\n",
       "      <td>27000</td>\n",
       "    </tr>\n",
       "    <tr>\n",
       "      <th>4</th>\n",
       "      <td>Mazda CX-5 2022</td>\n",
       "      <td>2022</td>\n",
       "      <td>SUV</td>\n",
       "      <td>Trong nước</td>\n",
       "      <td>Hà Nội</td>\n",
       "      <td>Nam Từ Liêm</td>\n",
       "      <td>Số tự động</td>\n",
       "      <td>Máy xăng</td>\n",
       "      <td>Mazda</td>\n",
       "      <td>740000000</td>\n",
       "      <td>3</td>\n",
       "      <td>30000</td>\n",
       "    </tr>\n",
       "    <tr>\n",
       "      <th>5</th>\n",
       "      <td>Toyota Previa 2010</td>\n",
       "      <td>2010</td>\n",
       "      <td>Van/Minivan</td>\n",
       "      <td>Nhập khẩu</td>\n",
       "      <td>Tp.HCM</td>\n",
       "      <td>Quận 10</td>\n",
       "      <td>Số tự động</td>\n",
       "      <td>Máy xăng</td>\n",
       "      <td>Toyota</td>\n",
       "      <td>650000000</td>\n",
       "      <td>15</td>\n",
       "      <td>50000</td>\n",
       "    </tr>\n",
       "  </tbody>\n",
       "</table>\n",
       "</div>"
      ],
      "text/plain": [
       "                             Name  Year    Body_Type      Origin Province  \\\n",
       "1         Mercedes-Benz E250 2023  2023        Sedan   Nhập khẩu   Hà Nội   \n",
       "2          Toyota Camry 2.4G 2012  2012        Sedan  Trong nước   Hà Nội   \n",
       "3  Ford Territory Titanium X 2023  2023          SUV   Nhập khẩu   Tp.HCM   \n",
       "4                 Mazda CX-5 2022  2022          SUV  Trong nước   Hà Nội   \n",
       "5              Toyota Previa 2010  2010  Van/Minivan   Nhập khẩu   Tp.HCM   \n",
       "\n",
       "      District Transmission Fuel_Type          Brand  price_num  age  \\\n",
       "1  Nam Từ Liêm   Số tự động  Máy xăng  Mercedes-Benz  870000000    2   \n",
       "2        Other   Số tự động  Máy xăng         Toyota  360000000   13   \n",
       "3      Quận 10   Số tự động  Máy xăng           Ford  770000000    2   \n",
       "4  Nam Từ Liêm   Số tự động  Máy xăng          Mazda  740000000    3   \n",
       "5      Quận 10   Số tự động  Máy xăng         Toyota  650000000   15   \n",
       "\n",
       "   mileage_num  \n",
       "1        45000  \n",
       "2       120000  \n",
       "3        27000  \n",
       "4        30000  \n",
       "5        50000  "
      ]
     },
     "execution_count": 115,
     "metadata": {},
     "output_type": "execute_result"
    }
   ],
   "source": [
    "df.head()"
   ]
  },
  {
   "cell_type": "code",
   "execution_count": 116,
   "id": "a07cb463",
   "metadata": {},
   "outputs": [
    {
     "data": {
      "text/plain": [
       "647"
      ]
     },
     "execution_count": 116,
     "metadata": {},
     "output_type": "execute_result"
    }
   ],
   "source": [
    "len(df)"
   ]
  },
  {
   "cell_type": "code",
   "execution_count": 117,
   "id": "4c8a4a5d",
   "metadata": {},
   "outputs": [
    {
     "name": "stdout",
     "output_type": "stream",
     "text": [
      "<class 'pandas.core.frame.DataFrame'>\n",
      "Index: 647 entries, 1 to 726\n",
      "Data columns (total 12 columns):\n",
      " #   Column        Non-Null Count  Dtype \n",
      "---  ------        --------------  ----- \n",
      " 0   Name          647 non-null    object\n",
      " 1   Year          647 non-null    int32 \n",
      " 2   Body_Type     647 non-null    object\n",
      " 3   Origin        647 non-null    object\n",
      " 4   Province      647 non-null    object\n",
      " 5   District      647 non-null    object\n",
      " 6   Transmission  647 non-null    object\n",
      " 7   Fuel_Type     647 non-null    object\n",
      " 8   Brand         647 non-null    object\n",
      " 9   price_num     647 non-null    int64 \n",
      " 10  age           647 non-null    int32 \n",
      " 11  mileage_num   647 non-null    int32 \n",
      "dtypes: int32(3), int64(1), object(8)\n",
      "memory usage: 58.1+ KB\n"
     ]
    }
   ],
   "source": [
    "df.info()"
   ]
  },
  {
   "cell_type": "code",
   "execution_count": 118,
   "id": "542e6df4",
   "metadata": {},
   "outputs": [
    {
     "name": "stdout",
     "output_type": "stream",
     "text": [
      "Done! Cleaned data saved successfully.\n"
     ]
    }
   ],
   "source": [
    "df.to_csv(\"data_cleaned.csv\", index=False, encoding='utf-8-sig')\n",
    "print(\"Done! Cleaned data saved successfully.\")"
   ]
  },
  {
   "cell_type": "code",
   "execution_count": null,
   "id": "69c48a9f",
   "metadata": {},
   "outputs": [],
   "source": []
  }
 ],
 "metadata": {
  "kernelspec": {
   "display_name": "base",
   "language": "python",
   "name": "python3"
  },
  "language_info": {
   "codemirror_mode": {
    "name": "ipython",
    "version": 3
   },
   "file_extension": ".py",
   "mimetype": "text/x-python",
   "name": "python",
   "nbconvert_exporter": "python",
   "pygments_lexer": "ipython3",
   "version": "3.11.5"
  }
 },
 "nbformat": 4,
 "nbformat_minor": 5
}
