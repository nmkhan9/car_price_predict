{
 "cells": [
  {
   "cell_type": "code",
   "execution_count": 1,
   "id": "a0b57ee0",
   "metadata": {},
   "outputs": [],
   "source": [
    "import pandas as pd\n",
    "import numpy as np\n",
    "import warnings\n",
    "warnings.filterwarnings(\"ignore\")"
   ]
  },
  {
   "cell_type": "code",
   "execution_count": 2,
   "id": "6b8286f1",
   "metadata": {},
   "outputs": [
    {
     "data": {
      "text/html": [
       "<div>\n",
       "<style scoped>\n",
       "    .dataframe tbody tr th:only-of-type {\n",
       "        vertical-align: middle;\n",
       "    }\n",
       "\n",
       "    .dataframe tbody tr th {\n",
       "        vertical-align: top;\n",
       "    }\n",
       "\n",
       "    .dataframe thead th {\n",
       "        text-align: right;\n",
       "    }\n",
       "</style>\n",
       "<table border=\"1\" class=\"dataframe\">\n",
       "  <thead>\n",
       "    <tr style=\"text-align: right;\">\n",
       "      <th></th>\n",
       "      <th>Name</th>\n",
       "      <th>Price</th>\n",
       "      <th>Năm SX</th>\n",
       "      <th>Kiểu dáng</th>\n",
       "      <th>Tình trạng</th>\n",
       "      <th>Xuất xứ</th>\n",
       "      <th>Km đã đi</th>\n",
       "      <th>Tỉnh thành</th>\n",
       "      <th>Quận huyện</th>\n",
       "      <th>Hộp số</th>\n",
       "      <th>Nhiên liệu</th>\n",
       "      <th>Số tiền vay</th>\n",
       "      <th>Thời gian vay</th>\n",
       "      <th>Lãi xuất (%)</th>\n",
       "      <th>Loại hình</th>\n",
       "      <th>Giá trị xe muốn mua</th>\n",
       "    </tr>\n",
       "  </thead>\n",
       "  <tbody>\n",
       "    <tr>\n",
       "      <th>0</th>\n",
       "      <td>Mercedes-Benz AMG G63 4.0 v8 2021</td>\n",
       "      <td>9 tỉ 200 triệu</td>\n",
       "      <td>2021</td>\n",
       "      <td>SUV</td>\n",
       "      <td>Xe cũ</td>\n",
       "      <td>Nhập khẩu</td>\n",
       "      <td>30.000 km</td>\n",
       "      <td>Hà Nội</td>\n",
       "      <td>Tây Hồ</td>\n",
       "      <td>Số tự động</td>\n",
       "      <td>Máy xăng</td>\n",
       "      <td>VNĐ</td>\n",
       "      <td>ThángNăm</td>\n",
       "      <td>ThángNăm</td>\n",
       "      <td>Trả góp đều hàng thángTrả góp đều, lãi tính tr...</td>\n",
       "      <td>VNĐ</td>\n",
       "    </tr>\n",
       "    <tr>\n",
       "      <th>1</th>\n",
       "      <td>Mercedes-Benz E250 2023</td>\n",
       "      <td>870 triệu</td>\n",
       "      <td>2023</td>\n",
       "      <td>Sedan</td>\n",
       "      <td>Xe cũ</td>\n",
       "      <td>Nhập khẩu</td>\n",
       "      <td>45.000 km</td>\n",
       "      <td>Hà Nội</td>\n",
       "      <td>Nam Từ Liêm</td>\n",
       "      <td>Số tự động</td>\n",
       "      <td>Máy xăng</td>\n",
       "      <td>VNĐ</td>\n",
       "      <td>ThángNăm</td>\n",
       "      <td>ThángNăm</td>\n",
       "      <td>Trả góp đều hàng thángTrả góp đều, lãi tính tr...</td>\n",
       "      <td>VNĐ</td>\n",
       "    </tr>\n",
       "    <tr>\n",
       "      <th>2</th>\n",
       "      <td>Toyota Camry 2.4G 2012</td>\n",
       "      <td>360 triệu</td>\n",
       "      <td>2012</td>\n",
       "      <td>Sedan</td>\n",
       "      <td>Xe cũ</td>\n",
       "      <td>Trong nước</td>\n",
       "      <td>120.000 km</td>\n",
       "      <td>Hà Nội</td>\n",
       "      <td>NaN</td>\n",
       "      <td>Số tự động</td>\n",
       "      <td>Máy xăng</td>\n",
       "      <td>VNĐ</td>\n",
       "      <td>ThángNăm</td>\n",
       "      <td>ThángNăm</td>\n",
       "      <td>Trả góp đều hàng thángTrả góp đều, lãi tính tr...</td>\n",
       "      <td>VNĐ</td>\n",
       "    </tr>\n",
       "    <tr>\n",
       "      <th>3</th>\n",
       "      <td>Ford Territory Titanium X 2023</td>\n",
       "      <td>770 triệu</td>\n",
       "      <td>2023</td>\n",
       "      <td>SUV</td>\n",
       "      <td>Xe cũ</td>\n",
       "      <td>Nhập khẩu</td>\n",
       "      <td>27.000 km</td>\n",
       "      <td>Tp.HCM</td>\n",
       "      <td>Quận 10</td>\n",
       "      <td>Số tự động</td>\n",
       "      <td>Máy xăng</td>\n",
       "      <td>VNĐ</td>\n",
       "      <td>ThángNăm</td>\n",
       "      <td>ThángNăm</td>\n",
       "      <td>Trả góp đều hàng thángTrả góp đều, lãi tính tr...</td>\n",
       "      <td>VNĐ</td>\n",
       "    </tr>\n",
       "    <tr>\n",
       "      <th>4</th>\n",
       "      <td>Mazda CX-5 2022</td>\n",
       "      <td>740 triệu</td>\n",
       "      <td>2022</td>\n",
       "      <td>SUV</td>\n",
       "      <td>Xe cũ</td>\n",
       "      <td>Trong nước</td>\n",
       "      <td>30.000 km</td>\n",
       "      <td>Hà Nội</td>\n",
       "      <td>Nam Từ Liêm</td>\n",
       "      <td>Số tự động</td>\n",
       "      <td>Máy xăng</td>\n",
       "      <td>VNĐ</td>\n",
       "      <td>ThángNăm</td>\n",
       "      <td>ThángNăm</td>\n",
       "      <td>Trả góp đều hàng thángTrả góp đều, lãi tính tr...</td>\n",
       "      <td>VNĐ</td>\n",
       "    </tr>\n",
       "  </tbody>\n",
       "</table>\n",
       "</div>"
      ],
      "text/plain": [
       "                                Name           Price  Năm SX Kiểu dáng  \\\n",
       "0  Mercedes-Benz AMG G63 4.0 v8 2021  9 tỉ 200 triệu    2021       SUV   \n",
       "1            Mercedes-Benz E250 2023       870 triệu    2023     Sedan   \n",
       "2             Toyota Camry 2.4G 2012       360 triệu    2012     Sedan   \n",
       "3     Ford Territory Titanium X 2023       770 triệu    2023       SUV   \n",
       "4                    Mazda CX-5 2022       740 triệu    2022       SUV   \n",
       "\n",
       "  Tình trạng     Xuất xứ    Km đã đi Tỉnh thành   Quận huyện      Hộp số  \\\n",
       "0      Xe cũ   Nhập khẩu   30.000 km     Hà Nội       Tây Hồ  Số tự động   \n",
       "1      Xe cũ   Nhập khẩu   45.000 km     Hà Nội  Nam Từ Liêm  Số tự động   \n",
       "2      Xe cũ  Trong nước  120.000 km     Hà Nội          NaN  Số tự động   \n",
       "3      Xe cũ   Nhập khẩu   27.000 km     Tp.HCM      Quận 10  Số tự động   \n",
       "4      Xe cũ  Trong nước   30.000 km     Hà Nội  Nam Từ Liêm  Số tự động   \n",
       "\n",
       "  Nhiên liệu Số tiền vay Thời gian vay Lãi xuất (%)  \\\n",
       "0   Máy xăng         VNĐ      ThángNăm     ThángNăm   \n",
       "1   Máy xăng         VNĐ      ThángNăm     ThángNăm   \n",
       "2   Máy xăng         VNĐ      ThángNăm     ThángNăm   \n",
       "3   Máy xăng         VNĐ      ThángNăm     ThángNăm   \n",
       "4   Máy xăng         VNĐ      ThángNăm     ThángNăm   \n",
       "\n",
       "                                           Loại hình Giá trị xe muốn mua  \n",
       "0  Trả góp đều hàng thángTrả góp đều, lãi tính tr...                 VNĐ  \n",
       "1  Trả góp đều hàng thángTrả góp đều, lãi tính tr...                 VNĐ  \n",
       "2  Trả góp đều hàng thángTrả góp đều, lãi tính tr...                 VNĐ  \n",
       "3  Trả góp đều hàng thángTrả góp đều, lãi tính tr...                 VNĐ  \n",
       "4  Trả góp đều hàng thángTrả góp đều, lãi tính tr...                 VNĐ  "
      ]
     },
     "execution_count": 2,
     "metadata": {},
     "output_type": "execute_result"
    }
   ],
   "source": [
    "df = pd.read_csv(\"data/cars_data.csv\")\n",
    "df.head()"
   ]
  },
  {
   "cell_type": "code",
   "execution_count": 3,
   "id": "7b5ab57b",
   "metadata": {},
   "outputs": [
    {
     "name": "stdout",
     "output_type": "stream",
     "text": [
      "<class 'pandas.core.frame.DataFrame'>\n",
      "RangeIndex: 727 entries, 0 to 726\n",
      "Data columns (total 16 columns):\n",
      " #   Column               Non-Null Count  Dtype \n",
      "---  ------               --------------  ----- \n",
      " 0   Name                 727 non-null    object\n",
      " 1   Price                727 non-null    object\n",
      " 2   Năm SX               727 non-null    int64 \n",
      " 3   Kiểu dáng            665 non-null    object\n",
      " 4   Tình trạng           727 non-null    object\n",
      " 5   Xuất xứ              727 non-null    object\n",
      " 6   Km đã đi             725 non-null    object\n",
      " 7   Tỉnh thành           727 non-null    object\n",
      " 8   Quận huyện           715 non-null    object\n",
      " 9   Hộp số               727 non-null    object\n",
      " 10  Nhiên liệu           727 non-null    object\n",
      " 11  Số tiền vay          727 non-null    object\n",
      " 12  Thời gian vay        727 non-null    object\n",
      " 13  Lãi xuất (%)         727 non-null    object\n",
      " 14  Loại hình            727 non-null    object\n",
      " 15  Giá trị xe muốn mua  727 non-null    object\n",
      "dtypes: int64(1), object(15)\n",
      "memory usage: 91.0+ KB\n"
     ]
    }
   ],
   "source": [
    "df.info()"
   ]
  },
  {
   "cell_type": "code",
   "execution_count": 4,
   "id": "cb9474c0",
   "metadata": {},
   "outputs": [
    {
     "name": "stdout",
     "output_type": "stream",
     "text": [
      "Name : 153\n",
      "Price : 343\n",
      "Năm SX : 705\n",
      "Kiểu dáng : 714\n",
      "Tình trạng : 726\n",
      "Xuất xứ : 725\n",
      "Km đã đi : 525\n",
      "Tỉnh thành : 706\n",
      "Quận huyện : 674\n",
      "Hộp số : 725\n",
      "Nhiên liệu : 723\n",
      "Số tiền vay : 726\n",
      "Thời gian vay : 726\n",
      "Lãi xuất (%) : 726\n",
      "Loại hình : 726\n",
      "Giá trị xe muốn mua : 726\n"
     ]
    }
   ],
   "source": [
    "for i in df.columns :\n",
    "    dup = df[i].duplicated().sum()\n",
    "    print(f\"{i} : {dup}\")"
   ]
  },
  {
   "cell_type": "code",
   "execution_count": 5,
   "id": "e23750cc",
   "metadata": {},
   "outputs": [
    {
     "name": "stdout",
     "output_type": "stream",
     "text": [
      "Name : 574\n",
      "Price : 384\n",
      "Năm SX : 22\n",
      "Kiểu dáng : 12\n",
      "Tình trạng : 1\n",
      "Xuất xứ : 2\n",
      "Km đã đi : 201\n",
      "Tỉnh thành : 21\n",
      "Quận huyện : 52\n",
      "Hộp số : 2\n",
      "Nhiên liệu : 4\n",
      "Số tiền vay : 1\n",
      "Thời gian vay : 1\n",
      "Lãi xuất (%) : 1\n",
      "Loại hình : 1\n",
      "Giá trị xe muốn mua : 1\n"
     ]
    }
   ],
   "source": [
    "for i in df.columns :\n",
    "    print(f\"{i} : {df[i].nunique()}\")"
   ]
  },
  {
   "cell_type": "code",
   "execution_count": 6,
   "id": "23a8c4bb",
   "metadata": {},
   "outputs": [],
   "source": [
    "df = df.drop([\"Giá trị xe muốn mua\",\"Loại hình\",\"Lãi xuất (%)\",\"Thời gian vay\",\"Số tiền vay\",\"Tình trạng\"],axis=1)"
   ]
  },
  {
   "cell_type": "code",
   "execution_count": 7,
   "id": "64dfac6f",
   "metadata": {},
   "outputs": [
    {
     "name": "stdout",
     "output_type": "stream",
     "text": [
      "<class 'pandas.core.frame.DataFrame'>\n",
      "RangeIndex: 727 entries, 0 to 726\n",
      "Data columns (total 10 columns):\n",
      " #   Column      Non-Null Count  Dtype \n",
      "---  ------      --------------  ----- \n",
      " 0   Name        727 non-null    object\n",
      " 1   Price       727 non-null    object\n",
      " 2   Năm SX      727 non-null    int64 \n",
      " 3   Kiểu dáng   665 non-null    object\n",
      " 4   Xuất xứ     727 non-null    object\n",
      " 5   Km đã đi    725 non-null    object\n",
      " 6   Tỉnh thành  727 non-null    object\n",
      " 7   Quận huyện  715 non-null    object\n",
      " 8   Hộp số      727 non-null    object\n",
      " 9   Nhiên liệu  727 non-null    object\n",
      "dtypes: int64(1), object(9)\n",
      "memory usage: 56.9+ KB\n"
     ]
    }
   ],
   "source": [
    "df.info()"
   ]
  },
  {
   "cell_type": "code",
   "execution_count": 8,
   "id": "d29cfee1",
   "metadata": {},
   "outputs": [],
   "source": [
    "df.rename(columns={\n",
    "    'Name': 'Name',\n",
    "    'Price': 'Price',\n",
    "    'Năm SX': 'Year',\n",
    "    'Kiểu dáng': 'Body_Type',\n",
    "    'Xuất xứ': 'Origin',\n",
    "    'Km đã đi': 'Mileage',\n",
    "    'Tỉnh thành': 'Province',\n",
    "    'Quận huyện': 'District',\n",
    "    'Hộp số': 'Transmission',\n",
    "    'Nhiên liệu': 'Fuel_Type'\n",
    "}, inplace=True)\n"
   ]
  },
  {
   "cell_type": "code",
   "execution_count": 9,
   "id": "b5b492e6",
   "metadata": {},
   "outputs": [
    {
     "name": "stdout",
     "output_type": "stream",
     "text": [
      "<class 'pandas.core.frame.DataFrame'>\n",
      "RangeIndex: 727 entries, 0 to 726\n",
      "Data columns (total 10 columns):\n",
      " #   Column        Non-Null Count  Dtype \n",
      "---  ------        --------------  ----- \n",
      " 0   Name          727 non-null    object\n",
      " 1   Price         727 non-null    object\n",
      " 2   Year          727 non-null    int64 \n",
      " 3   Body_Type     665 non-null    object\n",
      " 4   Origin        727 non-null    object\n",
      " 5   Mileage       725 non-null    object\n",
      " 6   Province      727 non-null    object\n",
      " 7   District      715 non-null    object\n",
      " 8   Transmission  727 non-null    object\n",
      " 9   Fuel_Type     727 non-null    object\n",
      "dtypes: int64(1), object(9)\n",
      "memory usage: 56.9+ KB\n"
     ]
    }
   ],
   "source": [
    "df.info()"
   ]
  },
  {
   "cell_type": "code",
   "execution_count": 10,
   "id": "e0888d9e",
   "metadata": {},
   "outputs": [
    {
     "data": {
      "text/plain": [
       "Name             0\n",
       "Price            0\n",
       "Year             0\n",
       "Body_Type       62\n",
       "Origin           0\n",
       "Mileage          2\n",
       "Province         0\n",
       "District        12\n",
       "Transmission     0\n",
       "Fuel_Type        0\n",
       "dtype: int64"
      ]
     },
     "execution_count": 10,
     "metadata": {},
     "output_type": "execute_result"
    }
   ],
   "source": [
    "df.isna().sum()"
   ]
  },
  {
   "cell_type": "markdown",
   "id": "a801302f",
   "metadata": {},
   "source": [
    "1. Name"
   ]
  },
  {
   "cell_type": "code",
   "execution_count": 11,
   "id": "42b6a076",
   "metadata": {},
   "outputs": [
    {
     "data": {
      "text/plain": [
       "0    Mercedes-Benz AMG G63 4.0 v8 2021\n",
       "1              Mercedes-Benz E250 2023\n",
       "2               Toyota Camry 2.4G 2012\n",
       "3       Ford Territory Titanium X 2023\n",
       "4                      Mazda CX-5 2022\n",
       "Name: Name, dtype: object"
      ]
     },
     "execution_count": 11,
     "metadata": {},
     "output_type": "execute_result"
    }
   ],
   "source": [
    "df.Name.head()"
   ]
  },
  {
   "cell_type": "code",
   "execution_count": 12,
   "id": "14107fe0",
   "metadata": {},
   "outputs": [],
   "source": [
    "df[\"Name\"] = df[\"Name\"].str.strip().str.rsplit(' ', n=1).str[0]"
   ]
  },
  {
   "cell_type": "code",
   "execution_count": 13,
   "id": "cec546d4",
   "metadata": {},
   "outputs": [],
   "source": [
    "df[\"Brand\"] = df[\"Name\"].str.strip().str.split().str[0]"
   ]
  },
  {
   "cell_type": "code",
   "execution_count": 14,
   "id": "1ec01bc6",
   "metadata": {},
   "outputs": [
    {
     "data": {
      "text/html": [
       "<div>\n",
       "<style scoped>\n",
       "    .dataframe tbody tr th:only-of-type {\n",
       "        vertical-align: middle;\n",
       "    }\n",
       "\n",
       "    .dataframe tbody tr th {\n",
       "        vertical-align: top;\n",
       "    }\n",
       "\n",
       "    .dataframe thead th {\n",
       "        text-align: right;\n",
       "    }\n",
       "</style>\n",
       "<table border=\"1\" class=\"dataframe\">\n",
       "  <thead>\n",
       "    <tr style=\"text-align: right;\">\n",
       "      <th></th>\n",
       "      <th>Name</th>\n",
       "      <th>Price</th>\n",
       "      <th>Year</th>\n",
       "      <th>Body_Type</th>\n",
       "      <th>Origin</th>\n",
       "      <th>Mileage</th>\n",
       "      <th>Province</th>\n",
       "      <th>District</th>\n",
       "      <th>Transmission</th>\n",
       "      <th>Fuel_Type</th>\n",
       "      <th>Brand</th>\n",
       "    </tr>\n",
       "  </thead>\n",
       "  <tbody>\n",
       "    <tr>\n",
       "      <th>0</th>\n",
       "      <td>Mercedes-Benz AMG G63 4.0 v8</td>\n",
       "      <td>9 tỉ 200 triệu</td>\n",
       "      <td>2021</td>\n",
       "      <td>SUV</td>\n",
       "      <td>Nhập khẩu</td>\n",
       "      <td>30.000 km</td>\n",
       "      <td>Hà Nội</td>\n",
       "      <td>Tây Hồ</td>\n",
       "      <td>Số tự động</td>\n",
       "      <td>Máy xăng</td>\n",
       "      <td>Mercedes-Benz</td>\n",
       "    </tr>\n",
       "    <tr>\n",
       "      <th>1</th>\n",
       "      <td>Mercedes-Benz E250</td>\n",
       "      <td>870 triệu</td>\n",
       "      <td>2023</td>\n",
       "      <td>Sedan</td>\n",
       "      <td>Nhập khẩu</td>\n",
       "      <td>45.000 km</td>\n",
       "      <td>Hà Nội</td>\n",
       "      <td>Nam Từ Liêm</td>\n",
       "      <td>Số tự động</td>\n",
       "      <td>Máy xăng</td>\n",
       "      <td>Mercedes-Benz</td>\n",
       "    </tr>\n",
       "    <tr>\n",
       "      <th>2</th>\n",
       "      <td>Toyota Camry 2.4G</td>\n",
       "      <td>360 triệu</td>\n",
       "      <td>2012</td>\n",
       "      <td>Sedan</td>\n",
       "      <td>Trong nước</td>\n",
       "      <td>120.000 km</td>\n",
       "      <td>Hà Nội</td>\n",
       "      <td>NaN</td>\n",
       "      <td>Số tự động</td>\n",
       "      <td>Máy xăng</td>\n",
       "      <td>Toyota</td>\n",
       "    </tr>\n",
       "    <tr>\n",
       "      <th>3</th>\n",
       "      <td>Ford Territory Titanium X</td>\n",
       "      <td>770 triệu</td>\n",
       "      <td>2023</td>\n",
       "      <td>SUV</td>\n",
       "      <td>Nhập khẩu</td>\n",
       "      <td>27.000 km</td>\n",
       "      <td>Tp.HCM</td>\n",
       "      <td>Quận 10</td>\n",
       "      <td>Số tự động</td>\n",
       "      <td>Máy xăng</td>\n",
       "      <td>Ford</td>\n",
       "    </tr>\n",
       "    <tr>\n",
       "      <th>4</th>\n",
       "      <td>Mazda CX-5</td>\n",
       "      <td>740 triệu</td>\n",
       "      <td>2022</td>\n",
       "      <td>SUV</td>\n",
       "      <td>Trong nước</td>\n",
       "      <td>30.000 km</td>\n",
       "      <td>Hà Nội</td>\n",
       "      <td>Nam Từ Liêm</td>\n",
       "      <td>Số tự động</td>\n",
       "      <td>Máy xăng</td>\n",
       "      <td>Mazda</td>\n",
       "    </tr>\n",
       "  </tbody>\n",
       "</table>\n",
       "</div>"
      ],
      "text/plain": [
       "                           Name           Price  Year Body_Type      Origin  \\\n",
       "0  Mercedes-Benz AMG G63 4.0 v8  9 tỉ 200 triệu  2021       SUV   Nhập khẩu   \n",
       "1            Mercedes-Benz E250       870 triệu  2023     Sedan   Nhập khẩu   \n",
       "2             Toyota Camry 2.4G       360 triệu  2012     Sedan  Trong nước   \n",
       "3     Ford Territory Titanium X       770 triệu  2023       SUV   Nhập khẩu   \n",
       "4                    Mazda CX-5       740 triệu  2022       SUV  Trong nước   \n",
       "\n",
       "      Mileage Province     District Transmission Fuel_Type          Brand  \n",
       "0   30.000 km   Hà Nội       Tây Hồ   Số tự động  Máy xăng  Mercedes-Benz  \n",
       "1   45.000 km   Hà Nội  Nam Từ Liêm   Số tự động  Máy xăng  Mercedes-Benz  \n",
       "2  120.000 km   Hà Nội          NaN   Số tự động  Máy xăng         Toyota  \n",
       "3   27.000 km   Tp.HCM      Quận 10   Số tự động  Máy xăng           Ford  \n",
       "4   30.000 km   Hà Nội  Nam Từ Liêm   Số tự động  Máy xăng          Mazda  "
      ]
     },
     "execution_count": 14,
     "metadata": {},
     "output_type": "execute_result"
    }
   ],
   "source": [
    "df.head()"
   ]
  },
  {
   "cell_type": "markdown",
   "id": "ff9e2dd3",
   "metadata": {},
   "source": [
    "2.Price"
   ]
  },
  {
   "cell_type": "code",
   "execution_count": 15,
   "id": "1c31c63a",
   "metadata": {},
   "outputs": [
    {
     "data": {
      "text/plain": [
       "0    9 tỉ 200 triệu\n",
       "1         870 triệu\n",
       "2         360 triệu\n",
       "3         770 triệu\n",
       "4         740 triệu\n",
       "Name: Price, dtype: object"
      ]
     },
     "execution_count": 15,
     "metadata": {},
     "output_type": "execute_result"
    }
   ],
   "source": [
    "df.Price.head()"
   ]
  },
  {
   "cell_type": "code",
   "execution_count": 16,
   "id": "95761189",
   "metadata": {},
   "outputs": [],
   "source": [
    "def convert_price(price_str):\n",
    "    price_str = price_str.strip().lower()\n",
    "    price = 0\n",
    "    if \"tỉ\" in price_str:\n",
    "        parts = price_str.split(\"tỉ\")\n",
    "        ty = int(parts[0].strip())\n",
    "        price += ty * 1_000_000_000\n",
    "        if \"triệu\" in parts[1]:\n",
    "            trieu = int(parts[1].replace(\"triệu\", \"\").strip())\n",
    "            price += trieu * 1_000_000\n",
    "    elif \"triệu\" in price_str:\n",
    "        trieu = int(price_str.replace(\"triệu\", \"\").strip())\n",
    "        price += trieu * 1_000_000\n",
    "    return price\n",
    "\n",
    "df[\"price_num\"] = df[\"Price\"].apply(convert_price)"
   ]
  },
  {
   "cell_type": "code",
   "execution_count": 17,
   "id": "729ce80f",
   "metadata": {},
   "outputs": [
    {
     "data": {
      "text/html": [
       "<div>\n",
       "<style scoped>\n",
       "    .dataframe tbody tr th:only-of-type {\n",
       "        vertical-align: middle;\n",
       "    }\n",
       "\n",
       "    .dataframe tbody tr th {\n",
       "        vertical-align: top;\n",
       "    }\n",
       "\n",
       "    .dataframe thead th {\n",
       "        text-align: right;\n",
       "    }\n",
       "</style>\n",
       "<table border=\"1\" class=\"dataframe\">\n",
       "  <thead>\n",
       "    <tr style=\"text-align: right;\">\n",
       "      <th></th>\n",
       "      <th>Name</th>\n",
       "      <th>Price</th>\n",
       "      <th>Year</th>\n",
       "      <th>Body_Type</th>\n",
       "      <th>Origin</th>\n",
       "      <th>Mileage</th>\n",
       "      <th>Province</th>\n",
       "      <th>District</th>\n",
       "      <th>Transmission</th>\n",
       "      <th>Fuel_Type</th>\n",
       "      <th>Brand</th>\n",
       "      <th>price_num</th>\n",
       "    </tr>\n",
       "  </thead>\n",
       "  <tbody>\n",
       "    <tr>\n",
       "      <th>0</th>\n",
       "      <td>Mercedes-Benz AMG G63 4.0 v8</td>\n",
       "      <td>9 tỉ 200 triệu</td>\n",
       "      <td>2021</td>\n",
       "      <td>SUV</td>\n",
       "      <td>Nhập khẩu</td>\n",
       "      <td>30.000 km</td>\n",
       "      <td>Hà Nội</td>\n",
       "      <td>Tây Hồ</td>\n",
       "      <td>Số tự động</td>\n",
       "      <td>Máy xăng</td>\n",
       "      <td>Mercedes-Benz</td>\n",
       "      <td>9200000000</td>\n",
       "    </tr>\n",
       "    <tr>\n",
       "      <th>1</th>\n",
       "      <td>Mercedes-Benz E250</td>\n",
       "      <td>870 triệu</td>\n",
       "      <td>2023</td>\n",
       "      <td>Sedan</td>\n",
       "      <td>Nhập khẩu</td>\n",
       "      <td>45.000 km</td>\n",
       "      <td>Hà Nội</td>\n",
       "      <td>Nam Từ Liêm</td>\n",
       "      <td>Số tự động</td>\n",
       "      <td>Máy xăng</td>\n",
       "      <td>Mercedes-Benz</td>\n",
       "      <td>870000000</td>\n",
       "    </tr>\n",
       "    <tr>\n",
       "      <th>2</th>\n",
       "      <td>Toyota Camry 2.4G</td>\n",
       "      <td>360 triệu</td>\n",
       "      <td>2012</td>\n",
       "      <td>Sedan</td>\n",
       "      <td>Trong nước</td>\n",
       "      <td>120.000 km</td>\n",
       "      <td>Hà Nội</td>\n",
       "      <td>NaN</td>\n",
       "      <td>Số tự động</td>\n",
       "      <td>Máy xăng</td>\n",
       "      <td>Toyota</td>\n",
       "      <td>360000000</td>\n",
       "    </tr>\n",
       "    <tr>\n",
       "      <th>3</th>\n",
       "      <td>Ford Territory Titanium X</td>\n",
       "      <td>770 triệu</td>\n",
       "      <td>2023</td>\n",
       "      <td>SUV</td>\n",
       "      <td>Nhập khẩu</td>\n",
       "      <td>27.000 km</td>\n",
       "      <td>Tp.HCM</td>\n",
       "      <td>Quận 10</td>\n",
       "      <td>Số tự động</td>\n",
       "      <td>Máy xăng</td>\n",
       "      <td>Ford</td>\n",
       "      <td>770000000</td>\n",
       "    </tr>\n",
       "    <tr>\n",
       "      <th>4</th>\n",
       "      <td>Mazda CX-5</td>\n",
       "      <td>740 triệu</td>\n",
       "      <td>2022</td>\n",
       "      <td>SUV</td>\n",
       "      <td>Trong nước</td>\n",
       "      <td>30.000 km</td>\n",
       "      <td>Hà Nội</td>\n",
       "      <td>Nam Từ Liêm</td>\n",
       "      <td>Số tự động</td>\n",
       "      <td>Máy xăng</td>\n",
       "      <td>Mazda</td>\n",
       "      <td>740000000</td>\n",
       "    </tr>\n",
       "  </tbody>\n",
       "</table>\n",
       "</div>"
      ],
      "text/plain": [
       "                           Name           Price  Year Body_Type      Origin  \\\n",
       "0  Mercedes-Benz AMG G63 4.0 v8  9 tỉ 200 triệu  2021       SUV   Nhập khẩu   \n",
       "1            Mercedes-Benz E250       870 triệu  2023     Sedan   Nhập khẩu   \n",
       "2             Toyota Camry 2.4G       360 triệu  2012     Sedan  Trong nước   \n",
       "3     Ford Territory Titanium X       770 triệu  2023       SUV   Nhập khẩu   \n",
       "4                    Mazda CX-5       740 triệu  2022       SUV  Trong nước   \n",
       "\n",
       "      Mileage Province     District Transmission Fuel_Type          Brand  \\\n",
       "0   30.000 km   Hà Nội       Tây Hồ   Số tự động  Máy xăng  Mercedes-Benz   \n",
       "1   45.000 km   Hà Nội  Nam Từ Liêm   Số tự động  Máy xăng  Mercedes-Benz   \n",
       "2  120.000 km   Hà Nội          NaN   Số tự động  Máy xăng         Toyota   \n",
       "3   27.000 km   Tp.HCM      Quận 10   Số tự động  Máy xăng           Ford   \n",
       "4   30.000 km   Hà Nội  Nam Từ Liêm   Số tự động  Máy xăng          Mazda   \n",
       "\n",
       "    price_num  \n",
       "0  9200000000  \n",
       "1   870000000  \n",
       "2   360000000  \n",
       "3   770000000  \n",
       "4   740000000  "
      ]
     },
     "execution_count": 17,
     "metadata": {},
     "output_type": "execute_result"
    }
   ],
   "source": [
    "df.head()"
   ]
  },
  {
   "cell_type": "code",
   "execution_count": 18,
   "id": "c7185b70",
   "metadata": {},
   "outputs": [],
   "source": [
    "df = df.drop(\"Price\",axis=1)"
   ]
  },
  {
   "cell_type": "markdown",
   "id": "acb33ee0",
   "metadata": {},
   "source": [
    "3.Year"
   ]
  },
  {
   "cell_type": "code",
   "execution_count": 19,
   "id": "316b208d",
   "metadata": {},
   "outputs": [
    {
     "data": {
      "text/plain": [
       "0    2021\n",
       "1    2023\n",
       "2    2012\n",
       "3    2023\n",
       "4    2022\n",
       "Name: Year, dtype: int64"
      ]
     },
     "execution_count": 19,
     "metadata": {},
     "output_type": "execute_result"
    }
   ],
   "source": [
    "df.Year.head()"
   ]
  },
  {
   "cell_type": "code",
   "execution_count": 20,
   "id": "a0b4b26d",
   "metadata": {},
   "outputs": [],
   "source": [
    "df.Year = df.Year.astype(int)"
   ]
  },
  {
   "cell_type": "markdown",
   "id": "5541b890",
   "metadata": {},
   "source": [
    "4.Body_Type"
   ]
  },
  {
   "cell_type": "code",
   "execution_count": 21,
   "id": "9936e5af",
   "metadata": {},
   "outputs": [
    {
     "data": {
      "text/plain": [
       "array(['SUV', 'Sedan', 'Van/Minivan', nan, 'MPV', 'Bán tải', 'Crossover',\n",
       "       'Convertible', 'Xe tải', 'Hatchback', 'Sport Car', 'Coupe',\n",
       "       'Minibus'], dtype=object)"
      ]
     },
     "execution_count": 21,
     "metadata": {},
     "output_type": "execute_result"
    }
   ],
   "source": [
    "df.Body_Type.unique()"
   ]
  },
  {
   "cell_type": "code",
   "execution_count": 22,
   "id": "912c9026",
   "metadata": {},
   "outputs": [
    {
     "data": {
      "text/plain": [
       "Body_Type\n",
       "SUV            273\n",
       "Sedan          222\n",
       "Hatchback       42\n",
       "MPV             40\n",
       "Bán tải         40\n",
       "Van/Minivan     18\n",
       "Crossover       14\n",
       "Convertible      6\n",
       "Xe tải           3\n",
       "Sport Car        3\n",
       "Coupe            3\n",
       "Minibus          1\n",
       "Name: count, dtype: int64"
      ]
     },
     "execution_count": 22,
     "metadata": {},
     "output_type": "execute_result"
    }
   ],
   "source": [
    "df.Body_Type.value_counts()"
   ]
  },
  {
   "cell_type": "code",
   "execution_count": 23,
   "id": "0d17562a",
   "metadata": {},
   "outputs": [],
   "source": [
    "df.loc[df[\"Body_Type\"].isna() , \"Body_Type\"] = \"Other\""
   ]
  },
  {
   "cell_type": "markdown",
   "id": "e934e7bc",
   "metadata": {},
   "source": [
    "5.Origin"
   ]
  },
  {
   "cell_type": "code",
   "execution_count": 24,
   "id": "09f6b6f2",
   "metadata": {},
   "outputs": [
    {
     "data": {
      "text/plain": [
       "0"
      ]
     },
     "execution_count": 24,
     "metadata": {},
     "output_type": "execute_result"
    }
   ],
   "source": [
    "df.Origin.isna().sum()"
   ]
  },
  {
   "cell_type": "code",
   "execution_count": 25,
   "id": "77f5ff86",
   "metadata": {},
   "outputs": [
    {
     "data": {
      "text/plain": [
       "Origin\n",
       "Trong nước    442\n",
       "Nhập khẩu     285\n",
       "Name: count, dtype: int64"
      ]
     },
     "execution_count": 25,
     "metadata": {},
     "output_type": "execute_result"
    }
   ],
   "source": [
    "df.Origin.value_counts()"
   ]
  },
  {
   "cell_type": "markdown",
   "id": "9cebeb75",
   "metadata": {},
   "source": [
    "6.Mileage"
   ]
  },
  {
   "cell_type": "code",
   "execution_count": 26,
   "id": "ec064cdc",
   "metadata": {},
   "outputs": [
    {
     "data": {
      "text/plain": [
       "0     30.000 km\n",
       "1     45.000 km\n",
       "2    120.000 km\n",
       "3     27.000 km\n",
       "4     30.000 km\n",
       "Name: Mileage, dtype: object"
      ]
     },
     "execution_count": 26,
     "metadata": {},
     "output_type": "execute_result"
    }
   ],
   "source": [
    "df.Mileage.head()"
   ]
  },
  {
   "cell_type": "code",
   "execution_count": 27,
   "id": "2c93fa3d",
   "metadata": {},
   "outputs": [
    {
     "data": {
      "text/plain": [
       "2"
      ]
     },
     "execution_count": 27,
     "metadata": {},
     "output_type": "execute_result"
    }
   ],
   "source": [
    "df.Mileage.isna().sum()"
   ]
  },
  {
   "cell_type": "code",
   "execution_count": 28,
   "id": "21ea09a5",
   "metadata": {},
   "outputs": [
    {
     "data": {
      "text/plain": [
       "count           725\n",
       "unique          201\n",
       "top       80.000 km\n",
       "freq             30\n",
       "Name: Mileage, dtype: object"
      ]
     },
     "execution_count": 28,
     "metadata": {},
     "output_type": "execute_result"
    }
   ],
   "source": [
    "df.Mileage.describe()"
   ]
  },
  {
   "cell_type": "code",
   "execution_count": 29,
   "id": "1cf167c4",
   "metadata": {},
   "outputs": [],
   "source": [
    "df.loc[df[\"Mileage\"].isna(),\"Mileage\"] = \"80.000 km\""
   ]
  },
  {
   "cell_type": "code",
   "execution_count": 30,
   "id": "c20f6a33",
   "metadata": {},
   "outputs": [],
   "source": [
    "df['mileage_num'] = df['Mileage'].str.replace('.', '', regex=False) \\\n",
    "                                  .str.replace(' km', '', regex=False) \\\n",
    "                                  .astype(int)"
   ]
  },
  {
   "cell_type": "code",
   "execution_count": 31,
   "id": "c746f8cd",
   "metadata": {},
   "outputs": [
    {
     "data": {
      "text/html": [
       "<div>\n",
       "<style scoped>\n",
       "    .dataframe tbody tr th:only-of-type {\n",
       "        vertical-align: middle;\n",
       "    }\n",
       "\n",
       "    .dataframe tbody tr th {\n",
       "        vertical-align: top;\n",
       "    }\n",
       "\n",
       "    .dataframe thead th {\n",
       "        text-align: right;\n",
       "    }\n",
       "</style>\n",
       "<table border=\"1\" class=\"dataframe\">\n",
       "  <thead>\n",
       "    <tr style=\"text-align: right;\">\n",
       "      <th></th>\n",
       "      <th>Name</th>\n",
       "      <th>Year</th>\n",
       "      <th>Body_Type</th>\n",
       "      <th>Origin</th>\n",
       "      <th>Mileage</th>\n",
       "      <th>Province</th>\n",
       "      <th>District</th>\n",
       "      <th>Transmission</th>\n",
       "      <th>Fuel_Type</th>\n",
       "      <th>Brand</th>\n",
       "      <th>price_num</th>\n",
       "      <th>mileage_num</th>\n",
       "    </tr>\n",
       "  </thead>\n",
       "  <tbody>\n",
       "    <tr>\n",
       "      <th>0</th>\n",
       "      <td>Mercedes-Benz AMG G63 4.0 v8</td>\n",
       "      <td>2021</td>\n",
       "      <td>SUV</td>\n",
       "      <td>Nhập khẩu</td>\n",
       "      <td>30.000 km</td>\n",
       "      <td>Hà Nội</td>\n",
       "      <td>Tây Hồ</td>\n",
       "      <td>Số tự động</td>\n",
       "      <td>Máy xăng</td>\n",
       "      <td>Mercedes-Benz</td>\n",
       "      <td>9200000000</td>\n",
       "      <td>30000</td>\n",
       "    </tr>\n",
       "    <tr>\n",
       "      <th>1</th>\n",
       "      <td>Mercedes-Benz E250</td>\n",
       "      <td>2023</td>\n",
       "      <td>Sedan</td>\n",
       "      <td>Nhập khẩu</td>\n",
       "      <td>45.000 km</td>\n",
       "      <td>Hà Nội</td>\n",
       "      <td>Nam Từ Liêm</td>\n",
       "      <td>Số tự động</td>\n",
       "      <td>Máy xăng</td>\n",
       "      <td>Mercedes-Benz</td>\n",
       "      <td>870000000</td>\n",
       "      <td>45000</td>\n",
       "    </tr>\n",
       "    <tr>\n",
       "      <th>2</th>\n",
       "      <td>Toyota Camry 2.4G</td>\n",
       "      <td>2012</td>\n",
       "      <td>Sedan</td>\n",
       "      <td>Trong nước</td>\n",
       "      <td>120.000 km</td>\n",
       "      <td>Hà Nội</td>\n",
       "      <td>NaN</td>\n",
       "      <td>Số tự động</td>\n",
       "      <td>Máy xăng</td>\n",
       "      <td>Toyota</td>\n",
       "      <td>360000000</td>\n",
       "      <td>120000</td>\n",
       "    </tr>\n",
       "    <tr>\n",
       "      <th>3</th>\n",
       "      <td>Ford Territory Titanium X</td>\n",
       "      <td>2023</td>\n",
       "      <td>SUV</td>\n",
       "      <td>Nhập khẩu</td>\n",
       "      <td>27.000 km</td>\n",
       "      <td>Tp.HCM</td>\n",
       "      <td>Quận 10</td>\n",
       "      <td>Số tự động</td>\n",
       "      <td>Máy xăng</td>\n",
       "      <td>Ford</td>\n",
       "      <td>770000000</td>\n",
       "      <td>27000</td>\n",
       "    </tr>\n",
       "    <tr>\n",
       "      <th>4</th>\n",
       "      <td>Mazda CX-5</td>\n",
       "      <td>2022</td>\n",
       "      <td>SUV</td>\n",
       "      <td>Trong nước</td>\n",
       "      <td>30.000 km</td>\n",
       "      <td>Hà Nội</td>\n",
       "      <td>Nam Từ Liêm</td>\n",
       "      <td>Số tự động</td>\n",
       "      <td>Máy xăng</td>\n",
       "      <td>Mazda</td>\n",
       "      <td>740000000</td>\n",
       "      <td>30000</td>\n",
       "    </tr>\n",
       "  </tbody>\n",
       "</table>\n",
       "</div>"
      ],
      "text/plain": [
       "                           Name  Year Body_Type      Origin     Mileage  \\\n",
       "0  Mercedes-Benz AMG G63 4.0 v8  2021       SUV   Nhập khẩu   30.000 km   \n",
       "1            Mercedes-Benz E250  2023     Sedan   Nhập khẩu   45.000 km   \n",
       "2             Toyota Camry 2.4G  2012     Sedan  Trong nước  120.000 km   \n",
       "3     Ford Territory Titanium X  2023       SUV   Nhập khẩu   27.000 km   \n",
       "4                    Mazda CX-5  2022       SUV  Trong nước   30.000 km   \n",
       "\n",
       "  Province     District Transmission Fuel_Type          Brand   price_num  \\\n",
       "0   Hà Nội       Tây Hồ   Số tự động  Máy xăng  Mercedes-Benz  9200000000   \n",
       "1   Hà Nội  Nam Từ Liêm   Số tự động  Máy xăng  Mercedes-Benz   870000000   \n",
       "2   Hà Nội          NaN   Số tự động  Máy xăng         Toyota   360000000   \n",
       "3   Tp.HCM      Quận 10   Số tự động  Máy xăng           Ford   770000000   \n",
       "4   Hà Nội  Nam Từ Liêm   Số tự động  Máy xăng          Mazda   740000000   \n",
       "\n",
       "   mileage_num  \n",
       "0        30000  \n",
       "1        45000  \n",
       "2       120000  \n",
       "3        27000  \n",
       "4        30000  "
      ]
     },
     "execution_count": 31,
     "metadata": {},
     "output_type": "execute_result"
    }
   ],
   "source": [
    "df.head()"
   ]
  },
  {
   "cell_type": "code",
   "execution_count": 32,
   "id": "ba806e57",
   "metadata": {},
   "outputs": [],
   "source": [
    "df = df.drop(\"Mileage\",axis=1)"
   ]
  },
  {
   "cell_type": "code",
   "execution_count": 33,
   "id": "a7bb2a12",
   "metadata": {},
   "outputs": [
    {
     "data": {
      "text/plain": [
       "Index(['Name', 'Year', 'Body_Type', 'Origin', 'Province', 'District',\n",
       "       'Transmission', 'Fuel_Type', 'Brand', 'price_num', 'mileage_num'],\n",
       "      dtype='object')"
      ]
     },
     "execution_count": 33,
     "metadata": {},
     "output_type": "execute_result"
    }
   ],
   "source": [
    "df.columns"
   ]
  },
  {
   "cell_type": "markdown",
   "id": "c9aeb656",
   "metadata": {},
   "source": [
    "7.Province"
   ]
  },
  {
   "cell_type": "code",
   "execution_count": 34,
   "id": "94541b8a",
   "metadata": {},
   "outputs": [
    {
     "data": {
      "text/plain": [
       "0    Hà Nội\n",
       "1    Hà Nội\n",
       "2    Hà Nội\n",
       "3    Tp.HCM\n",
       "4    Hà Nội\n",
       "Name: Province, dtype: object"
      ]
     },
     "execution_count": 34,
     "metadata": {},
     "output_type": "execute_result"
    }
   ],
   "source": [
    "df.Province.head()"
   ]
  },
  {
   "cell_type": "code",
   "execution_count": 35,
   "id": "c8f0be41",
   "metadata": {},
   "outputs": [
    {
     "data": {
      "text/plain": [
       "0"
      ]
     },
     "execution_count": 35,
     "metadata": {},
     "output_type": "execute_result"
    }
   ],
   "source": [
    "df.Province.isna().sum()"
   ]
  },
  {
   "cell_type": "code",
   "execution_count": 36,
   "id": "59d8b8da",
   "metadata": {},
   "outputs": [
    {
     "data": {
      "text/plain": [
       "21"
      ]
     },
     "execution_count": 36,
     "metadata": {},
     "output_type": "execute_result"
    }
   ],
   "source": [
    "df.Province.nunique()"
   ]
  },
  {
   "cell_type": "markdown",
   "id": "60b5930d",
   "metadata": {},
   "source": [
    "8.District"
   ]
  },
  {
   "cell_type": "code",
   "execution_count": 37,
   "id": "200d0312",
   "metadata": {},
   "outputs": [
    {
     "data": {
      "text/plain": [
       "12"
      ]
     },
     "execution_count": 37,
     "metadata": {},
     "output_type": "execute_result"
    }
   ],
   "source": [
    "df.District.isna().sum()"
   ]
  },
  {
   "cell_type": "code",
   "execution_count": 38,
   "id": "551c9042",
   "metadata": {},
   "outputs": [
    {
     "data": {
      "text/plain": [
       "count        715\n",
       "unique        52\n",
       "top       Quận 7\n",
       "freq          94\n",
       "Name: District, dtype: object"
      ]
     },
     "execution_count": 38,
     "metadata": {},
     "output_type": "execute_result"
    }
   ],
   "source": [
    "df.District.describe()"
   ]
  },
  {
   "cell_type": "code",
   "execution_count": 39,
   "id": "aee0feba",
   "metadata": {},
   "outputs": [],
   "source": [
    "df.loc[df[\"District\"].isna(),\"District\"] = \"Other\""
   ]
  },
  {
   "cell_type": "markdown",
   "id": "0b541b2f",
   "metadata": {},
   "source": [
    "9.Transmission"
   ]
  },
  {
   "cell_type": "code",
   "execution_count": 40,
   "id": "3bbd33a4",
   "metadata": {},
   "outputs": [
    {
     "data": {
      "text/plain": [
       "0    Số tự động\n",
       "1    Số tự động\n",
       "2    Số tự động\n",
       "3    Số tự động\n",
       "4    Số tự động\n",
       "Name: Transmission, dtype: object"
      ]
     },
     "execution_count": 40,
     "metadata": {},
     "output_type": "execute_result"
    }
   ],
   "source": [
    "df.Transmission.head()"
   ]
  },
  {
   "cell_type": "code",
   "execution_count": 41,
   "id": "84036c9f",
   "metadata": {},
   "outputs": [
    {
     "data": {
      "text/plain": [
       "0"
      ]
     },
     "execution_count": 41,
     "metadata": {},
     "output_type": "execute_result"
    }
   ],
   "source": [
    "df.Transmission.isna().sum()"
   ]
  },
  {
   "cell_type": "code",
   "execution_count": 42,
   "id": "9cfec901",
   "metadata": {},
   "outputs": [
    {
     "data": {
      "text/plain": [
       "array(['Số tự động', 'Số sàn'], dtype=object)"
      ]
     },
     "execution_count": 42,
     "metadata": {},
     "output_type": "execute_result"
    }
   ],
   "source": [
    "df.Transmission.unique()"
   ]
  },
  {
   "cell_type": "code",
   "execution_count": 43,
   "id": "23d41659",
   "metadata": {},
   "outputs": [
    {
     "data": {
      "text/plain": [
       "Transmission\n",
       "Số tự động    645\n",
       "Số sàn         82\n",
       "Name: count, dtype: int64"
      ]
     },
     "execution_count": 43,
     "metadata": {},
     "output_type": "execute_result"
    }
   ],
   "source": [
    "df.Transmission.value_counts()"
   ]
  },
  {
   "cell_type": "markdown",
   "id": "6f3d60a6",
   "metadata": {},
   "source": [
    "10.Fuel_Type"
   ]
  },
  {
   "cell_type": "code",
   "execution_count": 44,
   "id": "879c1c77",
   "metadata": {},
   "outputs": [
    {
     "data": {
      "text/plain": [
       "0    Máy xăng\n",
       "1    Máy xăng\n",
       "2    Máy xăng\n",
       "3    Máy xăng\n",
       "4    Máy xăng\n",
       "Name: Fuel_Type, dtype: object"
      ]
     },
     "execution_count": 44,
     "metadata": {},
     "output_type": "execute_result"
    }
   ],
   "source": [
    "df.Fuel_Type.head()"
   ]
  },
  {
   "cell_type": "code",
   "execution_count": 45,
   "id": "3cf5d26a",
   "metadata": {},
   "outputs": [
    {
     "data": {
      "text/plain": [
       "Name            0\n",
       "Year            0\n",
       "Body_Type       0\n",
       "Origin          0\n",
       "Province        0\n",
       "District        0\n",
       "Transmission    0\n",
       "Fuel_Type       0\n",
       "Brand           0\n",
       "price_num       0\n",
       "mileage_num     0\n",
       "dtype: int64"
      ]
     },
     "execution_count": 45,
     "metadata": {},
     "output_type": "execute_result"
    }
   ],
   "source": [
    "df.isna().sum()"
   ]
  },
  {
   "cell_type": "code",
   "execution_count": 46,
   "id": "2912ae5c",
   "metadata": {},
   "outputs": [
    {
     "data": {
      "text/plain": [
       "Fuel_Type\n",
       "Máy xăng    609\n",
       "Máy dầu     104\n",
       "Hybrid        9\n",
       "Điện          5\n",
       "Name: count, dtype: int64"
      ]
     },
     "execution_count": 46,
     "metadata": {},
     "output_type": "execute_result"
    }
   ],
   "source": [
    "df.Fuel_Type.value_counts()"
   ]
  },
  {
   "cell_type": "code",
   "execution_count": 47,
   "id": "828c6ae5",
   "metadata": {},
   "outputs": [
    {
     "data": {
      "text/html": [
       "<div>\n",
       "<style scoped>\n",
       "    .dataframe tbody tr th:only-of-type {\n",
       "        vertical-align: middle;\n",
       "    }\n",
       "\n",
       "    .dataframe tbody tr th {\n",
       "        vertical-align: top;\n",
       "    }\n",
       "\n",
       "    .dataframe thead th {\n",
       "        text-align: right;\n",
       "    }\n",
       "</style>\n",
       "<table border=\"1\" class=\"dataframe\">\n",
       "  <thead>\n",
       "    <tr style=\"text-align: right;\">\n",
       "      <th></th>\n",
       "      <th>Name</th>\n",
       "      <th>Year</th>\n",
       "      <th>Body_Type</th>\n",
       "      <th>Origin</th>\n",
       "      <th>Province</th>\n",
       "      <th>District</th>\n",
       "      <th>Transmission</th>\n",
       "      <th>Fuel_Type</th>\n",
       "      <th>Brand</th>\n",
       "      <th>price_num</th>\n",
       "      <th>mileage_num</th>\n",
       "    </tr>\n",
       "  </thead>\n",
       "  <tbody>\n",
       "    <tr>\n",
       "      <th>0</th>\n",
       "      <td>Mercedes-Benz AMG G63 4.0 v8</td>\n",
       "      <td>2021</td>\n",
       "      <td>SUV</td>\n",
       "      <td>Nhập khẩu</td>\n",
       "      <td>Hà Nội</td>\n",
       "      <td>Tây Hồ</td>\n",
       "      <td>Số tự động</td>\n",
       "      <td>Máy xăng</td>\n",
       "      <td>Mercedes-Benz</td>\n",
       "      <td>9200000000</td>\n",
       "      <td>30000</td>\n",
       "    </tr>\n",
       "    <tr>\n",
       "      <th>1</th>\n",
       "      <td>Mercedes-Benz E250</td>\n",
       "      <td>2023</td>\n",
       "      <td>Sedan</td>\n",
       "      <td>Nhập khẩu</td>\n",
       "      <td>Hà Nội</td>\n",
       "      <td>Nam Từ Liêm</td>\n",
       "      <td>Số tự động</td>\n",
       "      <td>Máy xăng</td>\n",
       "      <td>Mercedes-Benz</td>\n",
       "      <td>870000000</td>\n",
       "      <td>45000</td>\n",
       "    </tr>\n",
       "    <tr>\n",
       "      <th>2</th>\n",
       "      <td>Toyota Camry 2.4G</td>\n",
       "      <td>2012</td>\n",
       "      <td>Sedan</td>\n",
       "      <td>Trong nước</td>\n",
       "      <td>Hà Nội</td>\n",
       "      <td>Other</td>\n",
       "      <td>Số tự động</td>\n",
       "      <td>Máy xăng</td>\n",
       "      <td>Toyota</td>\n",
       "      <td>360000000</td>\n",
       "      <td>120000</td>\n",
       "    </tr>\n",
       "    <tr>\n",
       "      <th>3</th>\n",
       "      <td>Ford Territory Titanium X</td>\n",
       "      <td>2023</td>\n",
       "      <td>SUV</td>\n",
       "      <td>Nhập khẩu</td>\n",
       "      <td>Tp.HCM</td>\n",
       "      <td>Quận 10</td>\n",
       "      <td>Số tự động</td>\n",
       "      <td>Máy xăng</td>\n",
       "      <td>Ford</td>\n",
       "      <td>770000000</td>\n",
       "      <td>27000</td>\n",
       "    </tr>\n",
       "    <tr>\n",
       "      <th>4</th>\n",
       "      <td>Mazda CX-5</td>\n",
       "      <td>2022</td>\n",
       "      <td>SUV</td>\n",
       "      <td>Trong nước</td>\n",
       "      <td>Hà Nội</td>\n",
       "      <td>Nam Từ Liêm</td>\n",
       "      <td>Số tự động</td>\n",
       "      <td>Máy xăng</td>\n",
       "      <td>Mazda</td>\n",
       "      <td>740000000</td>\n",
       "      <td>30000</td>\n",
       "    </tr>\n",
       "  </tbody>\n",
       "</table>\n",
       "</div>"
      ],
      "text/plain": [
       "                           Name  Year Body_Type      Origin Province  \\\n",
       "0  Mercedes-Benz AMG G63 4.0 v8  2021       SUV   Nhập khẩu   Hà Nội   \n",
       "1            Mercedes-Benz E250  2023     Sedan   Nhập khẩu   Hà Nội   \n",
       "2             Toyota Camry 2.4G  2012     Sedan  Trong nước   Hà Nội   \n",
       "3     Ford Territory Titanium X  2023       SUV   Nhập khẩu   Tp.HCM   \n",
       "4                    Mazda CX-5  2022       SUV  Trong nước   Hà Nội   \n",
       "\n",
       "      District Transmission Fuel_Type          Brand   price_num  mileage_num  \n",
       "0       Tây Hồ   Số tự động  Máy xăng  Mercedes-Benz  9200000000        30000  \n",
       "1  Nam Từ Liêm   Số tự động  Máy xăng  Mercedes-Benz   870000000        45000  \n",
       "2        Other   Số tự động  Máy xăng         Toyota   360000000       120000  \n",
       "3      Quận 10   Số tự động  Máy xăng           Ford   770000000        27000  \n",
       "4  Nam Từ Liêm   Số tự động  Máy xăng          Mazda   740000000        30000  "
      ]
     },
     "execution_count": 47,
     "metadata": {},
     "output_type": "execute_result"
    }
   ],
   "source": [
    "df.head()"
   ]
  },
  {
   "cell_type": "code",
   "execution_count": 48,
   "id": "a3cc242a",
   "metadata": {},
   "outputs": [
    {
     "name": "stdout",
     "output_type": "stream",
     "text": [
      "Done! Cleaned data saved successfully.\n"
     ]
    }
   ],
   "source": [
    "df.to_csv(\"data_cleaned.csv\", index=False, encoding='utf-8-sig')\n",
    "print(\"Done! Cleaned data saved successfully.\")"
   ]
  },
  {
   "cell_type": "code",
   "execution_count": null,
   "id": "a1135d4b",
   "metadata": {},
   "outputs": [],
   "source": []
  }
 ],
 "metadata": {
  "kernelspec": {
   "display_name": "base",
   "language": "python",
   "name": "python3"
  },
  "language_info": {
   "codemirror_mode": {
    "name": "ipython",
    "version": 3
   },
   "file_extension": ".py",
   "mimetype": "text/x-python",
   "name": "python",
   "nbconvert_exporter": "python",
   "pygments_lexer": "ipython3",
   "version": "3.11.5"
  }
 },
 "nbformat": 4,
 "nbformat_minor": 5
}
